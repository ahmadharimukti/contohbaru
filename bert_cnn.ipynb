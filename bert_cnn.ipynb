{
  "cells": [
    {
      "cell_type": "markdown",
      "metadata": {
        "id": "view-in-github",
        "colab_type": "text"
      },
      "source": [
        "<a href=\"https://colab.research.google.com/github/ahmadharimukti/contohbaru/blob/main/bert_cnn.ipynb\" target=\"_parent\"><img src=\"https://colab.research.google.com/assets/colab-badge.svg\" alt=\"Open In Colab\"/></a>"
      ]
    },
    {
      "cell_type": "markdown",
      "metadata": {
        "id": "0WEbbL5RZTX8"
      },
      "source": [
        "# Bert-LTSM-CNN"
      ]
    },
    {
      "cell_type": "code",
      "execution_count": 2,
      "metadata": {
        "colab": {
          "base_uri": "https://localhost:8080/"
        },
        "id": "mTeUY7CATXCb",
        "outputId": "046c68aa-dc59-4bde-d55e-331f76bc6516"
      },
      "outputs": [
        {
          "output_type": "stream",
          "name": "stdout",
          "text": [
            "Collecting bert-for-tf2\n",
            "  Downloading bert-for-tf2-0.14.9.tar.gz (41 kB)\n",
            "\u001b[K     |████████████████████████████████| 41 kB 18 kB/s \n",
            "\u001b[?25hCollecting py-params>=0.9.6\n",
            "  Downloading py-params-0.10.2.tar.gz (7.4 kB)\n",
            "Collecting params-flow>=0.8.0\n",
            "  Downloading params-flow-0.8.2.tar.gz (22 kB)\n",
            "Requirement already satisfied: numpy in /usr/local/lib/python3.7/dist-packages (from params-flow>=0.8.0->bert-for-tf2) (1.21.6)\n",
            "Requirement already satisfied: tqdm in /usr/local/lib/python3.7/dist-packages (from params-flow>=0.8.0->bert-for-tf2) (4.64.0)\n",
            "Building wheels for collected packages: bert-for-tf2, params-flow, py-params\n",
            "  Building wheel for bert-for-tf2 (setup.py) ... \u001b[?25l\u001b[?25hdone\n",
            "  Created wheel for bert-for-tf2: filename=bert_for_tf2-0.14.9-py3-none-any.whl size=30535 sha256=aa05fb959b2a3af932a115bdeb505756ff3eb2a507d9e96db0e187d0d65b2627\n",
            "  Stored in directory: /root/.cache/pip/wheels/47/b6/e5/8c76ec779f54bc5c2f1b57d2200bb9c77616da83873e8acb53\n",
            "  Building wheel for params-flow (setup.py) ... \u001b[?25l\u001b[?25hdone\n",
            "  Created wheel for params-flow: filename=params_flow-0.8.2-py3-none-any.whl size=19472 sha256=08c64b34592b64c9663d1817dce11f27802a116d6e69b894ae2726c80a639dcc\n",
            "  Stored in directory: /root/.cache/pip/wheels/0e/fc/d2/a44fff33af0f233d7def6e7de413006d57c10e10ad736fe8f5\n",
            "  Building wheel for py-params (setup.py) ... \u001b[?25l\u001b[?25hdone\n",
            "  Created wheel for py-params: filename=py_params-0.10.2-py3-none-any.whl size=7911 sha256=bc20b6c1de78bc5a7c46491cc436ac108bb863aa70eb5e31ab9bece47a14f089\n",
            "  Stored in directory: /root/.cache/pip/wheels/e1/11/67/33cc51bbee127cb8fb2ba549cd29109b2f22da43ddf9969716\n",
            "Successfully built bert-for-tf2 params-flow py-params\n",
            "Installing collected packages: py-params, params-flow, bert-for-tf2\n",
            "Successfully installed bert-for-tf2-0.14.9 params-flow-0.8.2 py-params-0.10.2\n"
          ]
        }
      ],
      "source": [
        "# Some pip install for BERT\n",
        "!pip install bert-for-tf2"
      ]
    },
    {
      "cell_type": "code",
      "execution_count": 3,
      "metadata": {
        "id": "7pHW4Pw9UR_n",
        "colab": {
          "base_uri": "https://localhost:8080/"
        },
        "outputId": "49c2bd0e-47a4-4a8c-9ef3-c39f621a24e0"
      },
      "outputs": [
        {
          "output_type": "stream",
          "name": "stderr",
          "text": [
            "/usr/local/lib/python3.7/dist-packages/nltk/twitter/__init__.py:20: UserWarning: The twython library has not been installed. Some functionality from the twitter package will not be available.\n",
            "  warnings.warn(\"The twython library has not been installed. \"\n"
          ]
        }
      ],
      "source": [
        "# Import all dependencies to be used\n",
        "\n",
        "import numpy as np # linear algebra\n",
        "import pandas as pd # data processing, CSV file I/O (e.g. pd.read_csv)\n",
        "import tensorflow as tf # machine learning and neural nets\n",
        "import tensorflow_datasets as tfds # for text preprocessing\n",
        "import tensorflow_hub as hub\n",
        "import bert\n",
        "from nltk.sentiment.vader import SentimentIntensityAnalyzer # NLTK class object for determining sentiment of text"
      ]
    },
    {
      "cell_type": "code",
      "execution_count": 4,
      "metadata": {
        "colab": {
          "base_uri": "https://localhost:8080/"
        },
        "id": "i8j5eLo9VOec",
        "outputId": "6855e77d-9d43-41e1-c0ad-7ae8f0ec712a"
      },
      "outputs": [
        {
          "output_type": "stream",
          "name": "stdout",
          "text": [
            "Mounted at /content/drive/\n"
          ]
        }
      ],
      "source": [
        "#Mount your drive account into colab\n",
        "\n",
        "from google.colab import drive\n",
        "drive.mount('/content/drive/', force_remount=True)"
      ]
    },
    {
      "cell_type": "code",
      "execution_count": 5,
      "metadata": {
        "colab": {
          "base_uri": "https://localhost:8080/",
          "height": 206
        },
        "id": "CX8GuEt0V4xv",
        "outputId": "7fc15497-670d-4f15-aa48-f34ee616c0e8"
      },
      "outputs": [
        {
          "output_type": "execute_result",
          "data": {
            "text/plain": [
              "                                               Tweet  following  followers  \\\n",
              "0                     Good Morning Love  @LeeBrown_V        0.0        0.0   \n",
              "1           '@realDonaldTrump @USNavy RIP TO HEROES'    42096.0    61060.0   \n",
              "2  Haven't been following the news but I understa...        0.0        0.0   \n",
              "3  pic.twitter.com/dy9q4ftLhZ What to do with pap...        0.0        0.0   \n",
              "4  #DidYouKnow ► Mahatma Gandhi made a brief visi...    17800.0    35100.0   \n",
              "\n",
              "   actions  is_retweet                        location  Type  Unnamed: 7  \n",
              "0      0.0         0.0               Pennsylvania, USA     1         NaN  \n",
              "1   5001.0         0.0       South Padre Island, Texas     0         NaN  \n",
              "2      NaN         0.0  Will never be broke ever again     1         NaN  \n",
              "3      0.0         0.0                           Mundo     1         NaN  \n",
              "4      NaN         0.0             Nottingham, England     1         NaN  "
            ],
            "text/html": [
              "\n",
              "  <div id=\"df-5dc6efbc-12a6-4fd8-b7cb-d8a8ce172b49\">\n",
              "    <div class=\"colab-df-container\">\n",
              "      <div>\n",
              "<style scoped>\n",
              "    .dataframe tbody tr th:only-of-type {\n",
              "        vertical-align: middle;\n",
              "    }\n",
              "\n",
              "    .dataframe tbody tr th {\n",
              "        vertical-align: top;\n",
              "    }\n",
              "\n",
              "    .dataframe thead th {\n",
              "        text-align: right;\n",
              "    }\n",
              "</style>\n",
              "<table border=\"1\" class=\"dataframe\">\n",
              "  <thead>\n",
              "    <tr style=\"text-align: right;\">\n",
              "      <th></th>\n",
              "      <th>Tweet</th>\n",
              "      <th>following</th>\n",
              "      <th>followers</th>\n",
              "      <th>actions</th>\n",
              "      <th>is_retweet</th>\n",
              "      <th>location</th>\n",
              "      <th>Type</th>\n",
              "      <th>Unnamed: 7</th>\n",
              "    </tr>\n",
              "  </thead>\n",
              "  <tbody>\n",
              "    <tr>\n",
              "      <th>0</th>\n",
              "      <td>Good Morning Love  @LeeBrown_V</td>\n",
              "      <td>0.0</td>\n",
              "      <td>0.0</td>\n",
              "      <td>0.0</td>\n",
              "      <td>0.0</td>\n",
              "      <td>Pennsylvania, USA</td>\n",
              "      <td>1</td>\n",
              "      <td>NaN</td>\n",
              "    </tr>\n",
              "    <tr>\n",
              "      <th>1</th>\n",
              "      <td>'@realDonaldTrump @USNavy RIP TO HEROES'</td>\n",
              "      <td>42096.0</td>\n",
              "      <td>61060.0</td>\n",
              "      <td>5001.0</td>\n",
              "      <td>0.0</td>\n",
              "      <td>South Padre Island, Texas</td>\n",
              "      <td>0</td>\n",
              "      <td>NaN</td>\n",
              "    </tr>\n",
              "    <tr>\n",
              "      <th>2</th>\n",
              "      <td>Haven't been following the news but I understa...</td>\n",
              "      <td>0.0</td>\n",
              "      <td>0.0</td>\n",
              "      <td>NaN</td>\n",
              "      <td>0.0</td>\n",
              "      <td>Will never be broke ever again</td>\n",
              "      <td>1</td>\n",
              "      <td>NaN</td>\n",
              "    </tr>\n",
              "    <tr>\n",
              "      <th>3</th>\n",
              "      <td>pic.twitter.com/dy9q4ftLhZ What to do with pap...</td>\n",
              "      <td>0.0</td>\n",
              "      <td>0.0</td>\n",
              "      <td>0.0</td>\n",
              "      <td>0.0</td>\n",
              "      <td>Mundo</td>\n",
              "      <td>1</td>\n",
              "      <td>NaN</td>\n",
              "    </tr>\n",
              "    <tr>\n",
              "      <th>4</th>\n",
              "      <td>#DidYouKnow ► Mahatma Gandhi made a brief visi...</td>\n",
              "      <td>17800.0</td>\n",
              "      <td>35100.0</td>\n",
              "      <td>NaN</td>\n",
              "      <td>0.0</td>\n",
              "      <td>Nottingham, England</td>\n",
              "      <td>1</td>\n",
              "      <td>NaN</td>\n",
              "    </tr>\n",
              "  </tbody>\n",
              "</table>\n",
              "</div>\n",
              "      <button class=\"colab-df-convert\" onclick=\"convertToInteractive('df-5dc6efbc-12a6-4fd8-b7cb-d8a8ce172b49')\"\n",
              "              title=\"Convert this dataframe to an interactive table.\"\n",
              "              style=\"display:none;\">\n",
              "        \n",
              "  <svg xmlns=\"http://www.w3.org/2000/svg\" height=\"24px\"viewBox=\"0 0 24 24\"\n",
              "       width=\"24px\">\n",
              "    <path d=\"M0 0h24v24H0V0z\" fill=\"none\"/>\n",
              "    <path d=\"M18.56 5.44l.94 2.06.94-2.06 2.06-.94-2.06-.94-.94-2.06-.94 2.06-2.06.94zm-11 1L8.5 8.5l.94-2.06 2.06-.94-2.06-.94L8.5 2.5l-.94 2.06-2.06.94zm10 10l.94 2.06.94-2.06 2.06-.94-2.06-.94-.94-2.06-.94 2.06-2.06.94z\"/><path d=\"M17.41 7.96l-1.37-1.37c-.4-.4-.92-.59-1.43-.59-.52 0-1.04.2-1.43.59L10.3 9.45l-7.72 7.72c-.78.78-.78 2.05 0 2.83L4 21.41c.39.39.9.59 1.41.59.51 0 1.02-.2 1.41-.59l7.78-7.78 2.81-2.81c.8-.78.8-2.07 0-2.86zM5.41 20L4 18.59l7.72-7.72 1.47 1.35L5.41 20z\"/>\n",
              "  </svg>\n",
              "      </button>\n",
              "      \n",
              "  <style>\n",
              "    .colab-df-container {\n",
              "      display:flex;\n",
              "      flex-wrap:wrap;\n",
              "      gap: 12px;\n",
              "    }\n",
              "\n",
              "    .colab-df-convert {\n",
              "      background-color: #E8F0FE;\n",
              "      border: none;\n",
              "      border-radius: 50%;\n",
              "      cursor: pointer;\n",
              "      display: none;\n",
              "      fill: #1967D2;\n",
              "      height: 32px;\n",
              "      padding: 0 0 0 0;\n",
              "      width: 32px;\n",
              "    }\n",
              "\n",
              "    .colab-df-convert:hover {\n",
              "      background-color: #E2EBFA;\n",
              "      box-shadow: 0px 1px 2px rgba(60, 64, 67, 0.3), 0px 1px 3px 1px rgba(60, 64, 67, 0.15);\n",
              "      fill: #174EA6;\n",
              "    }\n",
              "\n",
              "    [theme=dark] .colab-df-convert {\n",
              "      background-color: #3B4455;\n",
              "      fill: #D2E3FC;\n",
              "    }\n",
              "\n",
              "    [theme=dark] .colab-df-convert:hover {\n",
              "      background-color: #434B5C;\n",
              "      box-shadow: 0px 1px 3px 1px rgba(0, 0, 0, 0.15);\n",
              "      filter: drop-shadow(0px 1px 2px rgba(0, 0, 0, 0.3));\n",
              "      fill: #FFFFFF;\n",
              "    }\n",
              "  </style>\n",
              "\n",
              "      <script>\n",
              "        const buttonEl =\n",
              "          document.querySelector('#df-5dc6efbc-12a6-4fd8-b7cb-d8a8ce172b49 button.colab-df-convert');\n",
              "        buttonEl.style.display =\n",
              "          google.colab.kernel.accessAllowed ? 'block' : 'none';\n",
              "\n",
              "        async function convertToInteractive(key) {\n",
              "          const element = document.querySelector('#df-5dc6efbc-12a6-4fd8-b7cb-d8a8ce172b49');\n",
              "          const dataTable =\n",
              "            await google.colab.kernel.invokeFunction('convertToInteractive',\n",
              "                                                     [key], {});\n",
              "          if (!dataTable) return;\n",
              "\n",
              "          const docLinkHtml = 'Like what you see? Visit the ' +\n",
              "            '<a target=\"_blank\" href=https://colab.research.google.com/notebooks/data_table.ipynb>data table notebook</a>'\n",
              "            + ' to learn more about interactive tables.';\n",
              "          element.innerHTML = '';\n",
              "          dataTable['output_type'] = 'display_data';\n",
              "          await google.colab.output.renderOutput(dataTable, element);\n",
              "          const docLink = document.createElement('div');\n",
              "          docLink.innerHTML = docLinkHtml;\n",
              "          element.appendChild(docLink);\n",
              "        }\n",
              "      </script>\n",
              "    </div>\n",
              "  </div>\n",
              "  "
            ]
          },
          "metadata": {},
          "execution_count": 5
        }
      ],
      "source": [
        "df = pd.read_csv('drive/My Drive/Colab Notebooks/data/Twitter Spam/trainkedua.csv')\n",
        "df.head()"
      ]
    },
    {
      "cell_type": "code",
      "execution_count": 6,
      "metadata": {
        "colab": {
          "base_uri": "https://localhost:8080/"
        },
        "id": "8RF5qOMPWS6Q",
        "outputId": "f99a64ad-54c5-44c0-bcb0-706ec7f32c25"
      },
      "outputs": [
        {
          "output_type": "stream",
          "name": "stdout",
          "text": [
            "<class 'pandas.core.frame.DataFrame'>\n",
            "RangeIndex: 14899 entries, 0 to 14898\n",
            "Data columns (total 8 columns):\n",
            " #   Column      Non-Null Count  Dtype  \n",
            "---  ------      --------------  -----  \n",
            " 0   Tweet       14899 non-null  object \n",
            " 1   following   14741 non-null  float64\n",
            " 2   followers   14882 non-null  float64\n",
            " 3   actions     11462 non-null  float64\n",
            " 4   is_retweet  14898 non-null  float64\n",
            " 5   location    12888 non-null  object \n",
            " 6   Type        14899 non-null  int64  \n",
            " 7   Unnamed: 7  0 non-null      float64\n",
            "dtypes: float64(5), int64(1), object(2)\n",
            "memory usage: 931.3+ KB\n",
            "None\n"
          ]
        }
      ],
      "source": [
        "# Check the description and information relevant from the train.csv dataframe\n",
        "print(df.info())"
      ]
    },
    {
      "cell_type": "markdown",
      "metadata": {
        "id": "UN_VQlX1Ze9y"
      },
      "source": [
        "# Text Cleaning and BERT Prep"
      ]
    },
    {
      "cell_type": "code",
      "execution_count": 7,
      "metadata": {
        "colab": {
          "base_uri": "https://localhost:8080/"
        },
        "id": "V2HRJNHBWXIz",
        "outputId": "cd0a0ad8-d15b-4064-e92e-7393ac14b8c0"
      },
      "outputs": [
        {
          "output_type": "stream",
          "name": "stdout",
          "text": [
            "Starting text: Very much worth reading: Joseph Epstein pays tribute to Michael Oakeshott.   http://t.co/n3Y4VCmMCv\n",
            "Cleaned text: Very much worth reading: Joseph Epstein pays tribute to Michael Oakeshott. \n"
          ]
        }
      ],
      "source": [
        "# Import dependency for string cleaning\n",
        "import re\n",
        "\n",
        "# Grab a sample string for display purposes\n",
        "text_str = df.loc[984,'Tweet']\n",
        "\n",
        "def clean_text(text):\n",
        "    '''\n",
        "    Function to clean text and remove unnecessary components and ease tokenization.\n",
        "    :param: text: the string to be cleaned\n",
        "    :output: text: the cleaned string\n",
        "    '''\n",
        "    text = re.sub(r'https?://\\S+', '', text) # remove link\n",
        "    text = re.sub(r'#\\w+', '', text) # remove hashtags\n",
        "    text = re.sub(r'@\\w+', '', text) # remove mentions\n",
        "    text = re.sub(r'\\n', ' ', text) # remove linebreaks\n",
        "    text = re.sub(r'\\s+', ' ', text) # remove leading and trailing spaces\n",
        "    return text\n",
        "\n",
        "# Show the cleaned version of the sample text\n",
        "print(f'Starting text: {text_str}')\n",
        "print(f'Cleaned text: {clean_text(text_str)}')"
      ]
    },
    {
      "cell_type": "code",
      "execution_count": 8,
      "metadata": {
        "id": "kJleH4xLWk2E"
      },
      "outputs": [],
      "source": [
        "def bert_encoding(texts, tokenizer, max_len=512):\n",
        "    '''\n",
        "    Function to encode text into tokens, masks, and segment_ids for BERT embedding layer input.\n",
        "    \n",
        "    :param: texts - the texts to tokenize\n",
        "    :param: tokenizer - the BERT tokenizer that will be used to tokenize the texts\n",
        "    :param: max_len - the maximum length of an input sequence (the sequence of tokens to be embedded)\n",
        "    \n",
        "    :output: all_tokens - the texts turned into tokens and padded for match length, returned as np.array\n",
        "    :output: all_masks - masks for each text denoted sequence length and pad length, returned as np.array\n",
        "    :output: all_segments - segment_ids for each text, all blank, returned as np.array\n",
        "    '''\n",
        "    all_tokens = [] # initiated list for tokens\n",
        "    all_masks = [] # initiated list for masks\n",
        "    all_segments = [] # initiated list for segment_ids\n",
        "    \n",
        "    # Iterate through all texts\n",
        "    for text in texts:\n",
        "        \n",
        "        # Tokenize text\n",
        "        text = tokenizer.tokenize(text)\n",
        "        \n",
        "        # Make room for the CLS and SEP tokens\n",
        "        text = text[:max_len-2]\n",
        "        \n",
        "        # Create the input sequence beginning with [CLS] and ending with [SEP]\n",
        "        input_sequence = [\"[CLS]\"] + text + [\"[SEP]\"]\n",
        "        \n",
        "        # Determine how much padding is required (max_length - length of the input sequence)\n",
        "        pad_len = max_len - len(input_sequence)\n",
        "        \n",
        "        # Create token ids, used by BERT\n",
        "        tokens = tokenizer.convert_tokens_to_ids(input_sequence)\n",
        "        \n",
        "        # Pad the tokens by 0's for the pad length determined above\n",
        "        tokens += [0] * pad_len\n",
        "        \n",
        "        # Create the masks for the sequence, with the 1 for each token id and 0 for all padding\n",
        "        pad_masks = [1] * len(input_sequence) + [0] * pad_len\n",
        "        \n",
        "        # All empty segment_ids for the max length\n",
        "        segment_ids = [0] * max_len\n",
        "        \n",
        "        # Append all tokens, masks, and segment_ids to the initialized lists\n",
        "        all_tokens.append(tokens)\n",
        "        all_masks.append(pad_masks)\n",
        "        all_segments.append(segment_ids)\n",
        "        \n",
        "    return np.array(all_tokens), np.array(all_masks), np.array(all_segments)"
      ]
    },
    {
      "cell_type": "code",
      "execution_count": 9,
      "metadata": {
        "colab": {
          "base_uri": "https://localhost:8080/"
        },
        "id": "7h6Hu4DzWqxM",
        "outputId": "10630d8c-0646-4cf2-83e6-1d5d4c5ca212"
      },
      "outputs": [
        {
          "output_type": "execute_result",
          "data": {
            "text/plain": [
              "['what',\n",
              " 'cool',\n",
              " 'code',\n",
              " ',',\n",
              " 'where',\n",
              " \"'\",\n",
              " 'd',\n",
              " 'ya',\n",
              " 'learn',\n",
              " 'it',\n",
              " 'all',\n",
              " '?']"
            ]
          },
          "metadata": {},
          "execution_count": 9
        }
      ],
      "source": [
        "# Initialize the tokenizer\n",
        "BertTokenizer = bert.bert_tokenization.FullTokenizer\n",
        "\n",
        "# Load the BERT layer\n",
        "bert_layer = hub.KerasLayer(\"https://tfhub.dev/tensorflow/bert_en_uncased_L-12_H-768_A-12/1\",\n",
        "                            trainable=False)\n",
        "\n",
        "# Import the vocab files, and the lower case function\n",
        "vocabulary_file = bert_layer.resolved_object.vocab_file.asset_path.numpy()\n",
        "to_lower_case = bert_layer.resolved_object.do_lower_case.numpy()\n",
        "\n",
        "# Load the tokenizer with the preloaded vocab file and lower case function\n",
        "tokenizer = BertTokenizer(vocabulary_file, to_lower_case)\n",
        "\n",
        "# Give a sample of how the tokenizer works\n",
        "tokenizer.tokenize(\"What cool code, where'd ya learn it all?\")"
      ]
    },
    {
      "cell_type": "code",
      "execution_count": 10,
      "metadata": {
        "colab": {
          "base_uri": "https://localhost:8080/"
        },
        "id": "0Df5iF4EYLLm",
        "outputId": "a91fa1b3-7b9d-485f-d66f-4ffd43ba8fb6"
      },
      "outputs": [
        {
          "output_type": "execute_result",
          "data": {
            "text/plain": [
              "1    7455\n",
              "0    7444\n",
              "Name: Type, dtype: int64"
            ]
          },
          "metadata": {},
          "execution_count": 10
        }
      ],
      "source": [
        "df[\"Type\"].value_counts()"
      ]
    },
    {
      "cell_type": "code",
      "execution_count": 11,
      "metadata": {
        "id": "VronEeEsW0-6"
      },
      "outputs": [],
      "source": [
        "# Clean the text data\n",
        "df['text_clean'] = df['Tweet'].apply(lambda x: clean_text(x))\n",
        "\n",
        "# Lowercase the text data\n",
        "df['text_lowered'] = df['text_clean'].apply(lambda x: x.lower())\n",
        "\n",
        "# Set targets\n",
        "targets = df['Type']"
      ]
    },
    {
      "cell_type": "code",
      "execution_count": 12,
      "metadata": {
        "id": "gzMBro-xZFJI"
      },
      "outputs": [],
      "source": [
        "# Load dependency for train_test_split function\n",
        "from sklearn.model_selection import train_test_split\n",
        "\n",
        "# Prepare the X and Y train and test datasets\n",
        "X_train,X_test,Y_train,Y_test = train_test_split(list(df['text_lowered']),targets,test_size=0.2,random_state=28)"
      ]
    },
    {
      "cell_type": "code",
      "execution_count": 13,
      "metadata": {
        "id": "uHX844g6ZGpW"
      },
      "outputs": [],
      "source": [
        "# Finally, run the X train and test (the cleaned and lowered text data) through the BERT encoding function\n",
        "# with the BERT tokenizer we prepped and a max_len parameter chosen by you\n",
        "train_input = bert_encoding(X_train, tokenizer, max_len=50)\n",
        "test_input = bert_encoding(X_test, tokenizer, max_len=50)"
      ]
    },
    {
      "cell_type": "markdown",
      "metadata": {
        "id": "HbJjZ_WQZkUM"
      },
      "source": [
        "# Building the Model and Testing"
      ]
    },
    {
      "cell_type": "code",
      "execution_count": 14,
      "metadata": {
        "id": "7vczjApoZLQT"
      },
      "outputs": [],
      "source": [
        "def build_model(bert_layer, max_len=512):\n",
        "    '''\n",
        "    Function to build a tensorflow machine learning neural network model.\n",
        "    \n",
        "    :param: bert_layer - the loaded BERT layer from TF hub\n",
        "    :param: max_len - the maximum length of an input sequence for encoding purposes, used here to denote the input shape\n",
        "    \n",
        "    :output: Model - Tensorflow keras model with inputs and outputs designated\n",
        "    '''\n",
        "    # INPUTS\n",
        "    input_word_ids = tf.keras.Input(shape=(max_len,), dtype=tf.int32, name='input_word_ids')\n",
        "    input_mask = tf.keras.Input(shape=(max_len,), dtype=tf.int32, name='input_mask')\n",
        "    segment_ids = tf.keras.Input(shape=(max_len,), dtype=tf.int32, name='segment_ids')\n",
        "    \n",
        "    # BERT EMBEDDING\n",
        "    _, sequence_output = bert_layer([input_word_ids,input_mask,segment_ids])\n",
        "    clf_output = sequence_output[:, 0, :]\n",
        "    clf_output_ = tf.keras.layers.Reshape((32,24))(clf_output)\n",
        "    \n",
        "    # HIDDEN\n",
        "    hidden = tf.keras.layers.Dense(128,activation='relu')(clf_output)\n",
        "    hidden2 = tf.keras.layers.Dense(64,activation='relu')(hidden)\n",
        "    drop = tf.keras.layers.Dropout(0.1)(hidden2)\n",
        "    \n",
        "    # CHANNEL 2 - LSTM\n",
        "    lstm = tf.keras.layers.Bidirectional(tf.keras.layers.LSTM(128,\n",
        "                                kernel_regularizer=tf.keras.regularizers.L2(0.001),\n",
        "                                                             return_sequences=True))(clf_output_)\n",
        "    drop2 = tf.keras.layers.Dropout(0.1)(lstm)\n",
        "    cnn = tf.keras.layers.Conv1D(64,5,\n",
        "                                kernel_regularizer=tf.keras.regularizers.L2(0.001))(drop2)\n",
        "    max_pool = tf.keras.layers.MaxPooling1D(25)(cnn)\n",
        "    flat = tf.keras.layers.Flatten(data_format='channels_last')(max_pool)\n",
        "    \n",
        "    # OUTPUTS\n",
        "    concat = tf.keras.layers.Concatenate()([drop,flat])\n",
        "    output_target = tf.keras.layers.Dense(1,activation='sigmoid')(concat)\n",
        "    \n",
        "    return tf.keras.Model(inputs=[input_word_ids,input_mask,segment_ids],outputs=output_target)"
      ]
    },
    {
      "cell_type": "code",
      "execution_count": 15,
      "metadata": {
        "id": "F0A2xuDFZw3L"
      },
      "outputs": [],
      "source": [
        "# Build the model\n",
        "model = build_model(bert_layer,max_len=50)"
      ]
    },
    {
      "cell_type": "markdown",
      "metadata": {
        "id": "ZY-nfNDmVUAp"
      },
      "source": [
        ""
      ]
    },
    {
      "cell_type": "code",
      "execution_count": 16,
      "metadata": {
        "colab": {
          "base_uri": "https://localhost:8080/"
        },
        "id": "l5rcTymuZ1uS",
        "outputId": "89eb976d-e2eb-4953-b421-04b224c7fd16"
      },
      "outputs": [
        {
          "output_type": "stream",
          "name": "stdout",
          "text": [
            "Model: \"model\"\n",
            "__________________________________________________________________________________________________\n",
            " Layer (type)                   Output Shape         Param #     Connected to                     \n",
            "==================================================================================================\n",
            " input_word_ids (InputLayer)    [(None, 50)]         0           []                               \n",
            "                                                                                                  \n",
            " input_mask (InputLayer)        [(None, 50)]         0           []                               \n",
            "                                                                                                  \n",
            " segment_ids (InputLayer)       [(None, 50)]         0           []                               \n",
            "                                                                                                  \n",
            " keras_layer (KerasLayer)       [(None, 768),        109482241   ['input_word_ids[0][0]',         \n",
            "                                 (None, 50, 768)]                 'input_mask[0][0]',             \n",
            "                                                                  'segment_ids[0][0]']            \n",
            "                                                                                                  \n",
            " tf.__operators__.getitem (Slic  (None, 768)         0           ['keras_layer[0][1]']            \n",
            " ingOpLambda)                                                                                     \n",
            "                                                                                                  \n",
            " reshape (Reshape)              (None, 32, 24)       0           ['tf.__operators__.getitem[0][0]'\n",
            "                                                                 ]                                \n",
            "                                                                                                  \n",
            " bidirectional (Bidirectional)  (None, 32, 256)      156672      ['reshape[0][0]']                \n",
            "                                                                                                  \n",
            " dropout_1 (Dropout)            (None, 32, 256)      0           ['bidirectional[0][0]']          \n",
            "                                                                                                  \n",
            " dense (Dense)                  (None, 128)          98432       ['tf.__operators__.getitem[0][0]'\n",
            "                                                                 ]                                \n",
            "                                                                                                  \n",
            " conv1d (Conv1D)                (None, 28, 64)       81984       ['dropout_1[0][0]']              \n",
            "                                                                                                  \n",
            " dense_1 (Dense)                (None, 64)           8256        ['dense[0][0]']                  \n",
            "                                                                                                  \n",
            " max_pooling1d (MaxPooling1D)   (None, 1, 64)        0           ['conv1d[0][0]']                 \n",
            "                                                                                                  \n",
            " dropout (Dropout)              (None, 64)           0           ['dense_1[0][0]']                \n",
            "                                                                                                  \n",
            " flatten (Flatten)              (None, 64)           0           ['max_pooling1d[0][0]']          \n",
            "                                                                                                  \n",
            " concatenate (Concatenate)      (None, 128)          0           ['dropout[0][0]',                \n",
            "                                                                  'flatten[0][0]']                \n",
            "                                                                                                  \n",
            " dense_2 (Dense)                (None, 1)            129         ['concatenate[0][0]']            \n",
            "                                                                                                  \n",
            "==================================================================================================\n",
            "Total params: 109,827,714\n",
            "Trainable params: 345,473\n",
            "Non-trainable params: 109,482,241\n",
            "__________________________________________________________________________________________________\n"
          ]
        }
      ],
      "source": [
        "model.summary()"
      ]
    },
    {
      "cell_type": "code",
      "execution_count": 17,
      "metadata": {
        "colab": {
          "base_uri": "https://localhost:8080/"
        },
        "id": "TmnCto0WZ6tp",
        "outputId": "18635bda-3881-43cf-c2aa-fe28a6089be6"
      },
      "outputs": [
        {
          "output_type": "stream",
          "name": "stderr",
          "text": [
            "/usr/local/lib/python3.7/dist-packages/keras/optimizer_v2/adam.py:105: UserWarning: The `lr` argument is deprecated, use `learning_rate` instead.\n",
            "  super(Adam, self).__init__(name, **kwargs)\n"
          ]
        }
      ],
      "source": [
        "model.compile(optimizer=tf.keras.optimizers.Adam(lr=2e-6),loss='binary_crossentropy',metrics=['accuracy',tf.keras.metrics.AUC()])"
      ]
    },
    {
      "cell_type": "code",
      "execution_count": 18,
      "metadata": {
        "colab": {
          "base_uri": "https://localhost:8080/",
          "height": 1000
        },
        "id": "m6Fh8C3nZ8kg",
        "outputId": "7faa3ad2-402d-4dbf-8026-d9938655887c"
      },
      "outputs": [
        {
          "output_type": "execute_result",
          "data": {
            "text/plain": [
              "<IPython.core.display.Image object>"
            ],
            "image/png": "[encoded data removed]"
          },
          "metadata": {},
          "execution_count": 18
        }
      ],
      "source": [
        "tf.keras.utils.plot_model(model)"
      ]
    },
    {
      "cell_type": "code",
      "execution_count": 19,
      "metadata": {
        "colab": {
          "base_uri": "https://localhost:8080/"
        },
        "id": "DRvZTHfGaEiT",
        "outputId": "2ff485bd-72a9-4b28-86e0-18b8e54241d1"
      },
      "outputs": [
        {
          "output_type": "stream",
          "name": "stdout",
          "text": [
            "596/596 [==============================] - 2075s 3s/step - loss: 0.8961 - accuracy: 0.5188 - auc: 0.5085 - val_loss: 0.8630 - val_accuracy: 0.5982 - val_auc: 0.6355\n"
          ]
        }
      ],
      "source": [
        "train_history = model.fit(train_input,Y_train,epochs=1,batch_size=16,validation_split=0.2)\n"
      ]
    },
    {
      "cell_type": "code",
      "execution_count": 20,
      "metadata": {
        "id": "XHh2FTyyWyPi"
      },
      "outputs": [],
      "source": [
        "predictions = model.predict(test_input)"
      ]
    },
    {
      "cell_type": "code",
      "execution_count": 21,
      "metadata": {
        "id": "GlL1mVi_WzB3",
        "colab": {
          "base_uri": "https://localhost:8080/"
        },
        "outputId": "def9bde4-f412-481c-fab9-4b195facc9f2"
      },
      "outputs": [
        {
          "output_type": "stream",
          "name": "stdout",
          "text": [
            "              precision    recall  f1-score   support\n",
            "\n",
            "           0       0.38      0.65      0.48       852\n",
            "           1       0.80      0.57      0.67      2128\n",
            "\n",
            "    accuracy                           0.59      2980\n",
            "   macro avg       0.59      0.61      0.57      2980\n",
            "weighted avg       0.68      0.59      0.61      2980\n",
            "\n",
            "[[ 554  298]\n",
            " [ 918 1210]]\n"
          ]
        }
      ],
      "source": [
        "from sklearn.metrics import classification_report, confusion_matrix\n",
        "\n",
        "def pred_return(x):\n",
        "    if x>=0.5:\n",
        "        return 1\n",
        "    else:\n",
        "        return 0\n",
        "\n",
        "print(classification_report([pred_return(x) for x in predictions],Y_test))\n",
        "print(confusion_matrix([pred_return(x) for x in predictions],Y_test))"
      ]
    },
    {
      "cell_type": "code",
      "execution_count": 22,
      "metadata": {
        "id": "2B6O8jdFWzPx"
      },
      "outputs": [],
      "source": [
        "test_df = pd.read_csv('drive/My Drive/Colab Notebooks/data/Twitter Spam/test.csv')"
      ]
    },
    {
      "cell_type": "code",
      "execution_count": 23,
      "metadata": {
        "id": "PvVNFlF7WzTT",
        "colab": {
          "base_uri": "https://localhost:8080/",
          "height": 206
        },
        "outputId": "238186c4-a28c-4d05-f443-528b839114b4"
      },
      "outputs": [
        {
          "output_type": "execute_result",
          "data": {
            "text/plain": [
              "   Id                                              Tweet  following  \\\n",
              "0   0  Cops shoot blacks almost everyday, and there a...     5509.0   \n",
              "1   1  #HAPPYTAEYANGDAY  Oppa,happy birthday to you, ...        0.0   \n",
              "2   2  RT @HoneyBadger10: Panthers in the super bowl....      471.0   \n",
              "3   3  Sorry my Twitter keeps posting my retweets a m...        0.0   \n",
              "4   4  Heart attack causes and symptoms are different...      902.0   \n",
              "\n",
              "   followers  actions  is_retweet         location  \n",
              "0     5977.0   8062.0           1         ですpacito  \n",
              "1        0.0      NaN           0              NaN  \n",
              "2      229.0    747.0           0  B'klyn, NYC, LA  \n",
              "3    79800.0     48.0           0              NaN  \n",
              "4     5797.0   4270.0           0          Chicago  "
            ],
            "text/html": [
              "\n",
              "  <div id=\"df-e4d84995-7d41-44b8-865f-9af26758500a\">\n",
              "    <div class=\"colab-df-container\">\n",
              "      <div>\n",
              "<style scoped>\n",
              "    .dataframe tbody tr th:only-of-type {\n",
              "        vertical-align: middle;\n",
              "    }\n",
              "\n",
              "    .dataframe tbody tr th {\n",
              "        vertical-align: top;\n",
              "    }\n",
              "\n",
              "    .dataframe thead th {\n",
              "        text-align: right;\n",
              "    }\n",
              "</style>\n",
              "<table border=\"1\" class=\"dataframe\">\n",
              "  <thead>\n",
              "    <tr style=\"text-align: right;\">\n",
              "      <th></th>\n",
              "      <th>Id</th>\n",
              "      <th>Tweet</th>\n",
              "      <th>following</th>\n",
              "      <th>followers</th>\n",
              "      <th>actions</th>\n",
              "      <th>is_retweet</th>\n",
              "      <th>location</th>\n",
              "    </tr>\n",
              "  </thead>\n",
              "  <tbody>\n",
              "    <tr>\n",
              "      <th>0</th>\n",
              "      <td>0</td>\n",
              "      <td>Cops shoot blacks almost everyday, and there a...</td>\n",
              "      <td>5509.0</td>\n",
              "      <td>5977.0</td>\n",
              "      <td>8062.0</td>\n",
              "      <td>1</td>\n",
              "      <td>ですpacito</td>\n",
              "    </tr>\n",
              "    <tr>\n",
              "      <th>1</th>\n",
              "      <td>1</td>\n",
              "      <td>#HAPPYTAEYANGDAY  Oppa,happy birthday to you, ...</td>\n",
              "      <td>0.0</td>\n",
              "      <td>0.0</td>\n",
              "      <td>NaN</td>\n",
              "      <td>0</td>\n",
              "      <td>NaN</td>\n",
              "    </tr>\n",
              "    <tr>\n",
              "      <th>2</th>\n",
              "      <td>2</td>\n",
              "      <td>RT @HoneyBadger10: Panthers in the super bowl....</td>\n",
              "      <td>471.0</td>\n",
              "      <td>229.0</td>\n",
              "      <td>747.0</td>\n",
              "      <td>0</td>\n",
              "      <td>B'klyn, NYC, LA</td>\n",
              "    </tr>\n",
              "    <tr>\n",
              "      <th>3</th>\n",
              "      <td>3</td>\n",
              "      <td>Sorry my Twitter keeps posting my retweets a m...</td>\n",
              "      <td>0.0</td>\n",
              "      <td>79800.0</td>\n",
              "      <td>48.0</td>\n",
              "      <td>0</td>\n",
              "      <td>NaN</td>\n",
              "    </tr>\n",
              "    <tr>\n",
              "      <th>4</th>\n",
              "      <td>4</td>\n",
              "      <td>Heart attack causes and symptoms are different...</td>\n",
              "      <td>902.0</td>\n",
              "      <td>5797.0</td>\n",
              "      <td>4270.0</td>\n",
              "      <td>0</td>\n",
              "      <td>Chicago</td>\n",
              "    </tr>\n",
              "  </tbody>\n",
              "</table>\n",
              "</div>\n",
              "      <button class=\"colab-df-convert\" onclick=\"convertToInteractive('df-e4d84995-7d41-44b8-865f-9af26758500a')\"\n",
              "              title=\"Convert this dataframe to an interactive table.\"\n",
              "              style=\"display:none;\">\n",
              "        \n",
              "  <svg xmlns=\"http://www.w3.org/2000/svg\" height=\"24px\"viewBox=\"0 0 24 24\"\n",
              "       width=\"24px\">\n",
              "    <path d=\"M0 0h24v24H0V0z\" fill=\"none\"/>\n",
              "    <path d=\"M18.56 5.44l.94 2.06.94-2.06 2.06-.94-2.06-.94-.94-2.06-.94 2.06-2.06.94zm-11 1L8.5 8.5l.94-2.06 2.06-.94-2.06-.94L8.5 2.5l-.94 2.06-2.06.94zm10 10l.94 2.06.94-2.06 2.06-.94-2.06-.94-.94-2.06-.94 2.06-2.06.94z\"/><path d=\"M17.41 7.96l-1.37-1.37c-.4-.4-.92-.59-1.43-.59-.52 0-1.04.2-1.43.59L10.3 9.45l-7.72 7.72c-.78.78-.78 2.05 0 2.83L4 21.41c.39.39.9.59 1.41.59.51 0 1.02-.2 1.41-.59l7.78-7.78 2.81-2.81c.8-.78.8-2.07 0-2.86zM5.41 20L4 18.59l7.72-7.72 1.47 1.35L5.41 20z\"/>\n",
              "  </svg>\n",
              "      </button>\n",
              "      \n",
              "  <style>\n",
              "    .colab-df-container {\n",
              "      display:flex;\n",
              "      flex-wrap:wrap;\n",
              "      gap: 12px;\n",
              "    }\n",
              "\n",
              "    .colab-df-convert {\n",
              "      background-color: #E8F0FE;\n",
              "      border: none;\n",
              "      border-radius: 50%;\n",
              "      cursor: pointer;\n",
              "      display: none;\n",
              "      fill: #1967D2;\n",
              "      height: 32px;\n",
              "      padding: 0 0 0 0;\n",
              "      width: 32px;\n",
              "    }\n",
              "\n",
              "    .colab-df-convert:hover {\n",
              "      background-color: #E2EBFA;\n",
              "      box-shadow: 0px 1px 2px rgba(60, 64, 67, 0.3), 0px 1px 3px 1px rgba(60, 64, 67, 0.15);\n",
              "      fill: #174EA6;\n",
              "    }\n",
              "\n",
              "    [theme=dark] .colab-df-convert {\n",
              "      background-color: #3B4455;\n",
              "      fill: #D2E3FC;\n",
              "    }\n",
              "\n",
              "    [theme=dark] .colab-df-convert:hover {\n",
              "      background-color: #434B5C;\n",
              "      box-shadow: 0px 1px 3px 1px rgba(0, 0, 0, 0.15);\n",
              "      filter: drop-shadow(0px 1px 2px rgba(0, 0, 0, 0.3));\n",
              "      fill: #FFFFFF;\n",
              "    }\n",
              "  </style>\n",
              "\n",
              "      <script>\n",
              "        const buttonEl =\n",
              "          document.querySelector('#df-e4d84995-7d41-44b8-865f-9af26758500a button.colab-df-convert');\n",
              "        buttonEl.style.display =\n",
              "          google.colab.kernel.accessAllowed ? 'block' : 'none';\n",
              "\n",
              "        async function convertToInteractive(key) {\n",
              "          const element = document.querySelector('#df-e4d84995-7d41-44b8-865f-9af26758500a');\n",
              "          const dataTable =\n",
              "            await google.colab.kernel.invokeFunction('convertToInteractive',\n",
              "                                                     [key], {});\n",
              "          if (!dataTable) return;\n",
              "\n",
              "          const docLinkHtml = 'Like what you see? Visit the ' +\n",
              "            '<a target=\"_blank\" href=https://colab.research.google.com/notebooks/data_table.ipynb>data table notebook</a>'\n",
              "            + ' to learn more about interactive tables.';\n",
              "          element.innerHTML = '';\n",
              "          dataTable['output_type'] = 'display_data';\n",
              "          await google.colab.output.renderOutput(dataTable, element);\n",
              "          const docLink = document.createElement('div');\n",
              "          docLink.innerHTML = docLinkHtml;\n",
              "          element.appendChild(docLink);\n",
              "        }\n",
              "      </script>\n",
              "    </div>\n",
              "  </div>\n",
              "  "
            ]
          },
          "metadata": {},
          "execution_count": 23
        }
      ],
      "source": [
        "test_df.head()"
      ]
    },
    {
      "cell_type": "code",
      "execution_count": 24,
      "metadata": {
        "id": "v9-SjD21WzXJ"
      },
      "outputs": [],
      "source": [
        "test_df['text_clean'] = test_df['Tweet'].apply(lambda x: clean_text(x))\n",
        "test_df['text_lowered'] = test_df['text_clean'].apply(lambda x: x.lower())"
      ]
    },
    {
      "cell_type": "code",
      "execution_count": 25,
      "metadata": {
        "id": "MsvqzJryXDlM"
      },
      "outputs": [],
      "source": [
        "test_input = bert_encoding(test_df['text_lowered'],tokenizer,max_len=50)"
      ]
    },
    {
      "cell_type": "code",
      "execution_count": 26,
      "metadata": {
        "id": "alUvXvBKXGAA",
        "colab": {
          "base_uri": "https://localhost:8080/",
          "height": 206
        },
        "outputId": "6646f5b5-5ade-4f99-925b-fb695469f54f"
      },
      "outputs": [
        {
          "output_type": "execute_result",
          "data": {
            "text/plain": [
              "   Id  following  followers  actions         location  Type\n",
              "0   0     5509.0     5977.0   8062.0         ですpacito     0\n",
              "1   1        0.0        0.0      NaN              NaN     1\n",
              "2   2      471.0      229.0    747.0  B'klyn, NYC, LA     0\n",
              "3   3        0.0    79800.0     48.0              NaN     1\n",
              "4   4      902.0     5797.0   4270.0          Chicago     0"
            ],
            "text/html": [
              "\n",
              "  <div id=\"df-dd36d016-f9e7-4307-adc0-ca26aeed1e4b\">\n",
              "    <div class=\"colab-df-container\">\n",
              "      <div>\n",
              "<style scoped>\n",
              "    .dataframe tbody tr th:only-of-type {\n",
              "        vertical-align: middle;\n",
              "    }\n",
              "\n",
              "    .dataframe tbody tr th {\n",
              "        vertical-align: top;\n",
              "    }\n",
              "\n",
              "    .dataframe thead th {\n",
              "        text-align: right;\n",
              "    }\n",
              "</style>\n",
              "<table border=\"1\" class=\"dataframe\">\n",
              "  <thead>\n",
              "    <tr style=\"text-align: right;\">\n",
              "      <th></th>\n",
              "      <th>Id</th>\n",
              "      <th>following</th>\n",
              "      <th>followers</th>\n",
              "      <th>actions</th>\n",
              "      <th>location</th>\n",
              "      <th>Type</th>\n",
              "    </tr>\n",
              "  </thead>\n",
              "  <tbody>\n",
              "    <tr>\n",
              "      <th>0</th>\n",
              "      <td>0</td>\n",
              "      <td>5509.0</td>\n",
              "      <td>5977.0</td>\n",
              "      <td>8062.0</td>\n",
              "      <td>ですpacito</td>\n",
              "      <td>0</td>\n",
              "    </tr>\n",
              "    <tr>\n",
              "      <th>1</th>\n",
              "      <td>1</td>\n",
              "      <td>0.0</td>\n",
              "      <td>0.0</td>\n",
              "      <td>NaN</td>\n",
              "      <td>NaN</td>\n",
              "      <td>1</td>\n",
              "    </tr>\n",
              "    <tr>\n",
              "      <th>2</th>\n",
              "      <td>2</td>\n",
              "      <td>471.0</td>\n",
              "      <td>229.0</td>\n",
              "      <td>747.0</td>\n",
              "      <td>B'klyn, NYC, LA</td>\n",
              "      <td>0</td>\n",
              "    </tr>\n",
              "    <tr>\n",
              "      <th>3</th>\n",
              "      <td>3</td>\n",
              "      <td>0.0</td>\n",
              "      <td>79800.0</td>\n",
              "      <td>48.0</td>\n",
              "      <td>NaN</td>\n",
              "      <td>1</td>\n",
              "    </tr>\n",
              "    <tr>\n",
              "      <th>4</th>\n",
              "      <td>4</td>\n",
              "      <td>902.0</td>\n",
              "      <td>5797.0</td>\n",
              "      <td>4270.0</td>\n",
              "      <td>Chicago</td>\n",
              "      <td>0</td>\n",
              "    </tr>\n",
              "  </tbody>\n",
              "</table>\n",
              "</div>\n",
              "      <button class=\"colab-df-convert\" onclick=\"convertToInteractive('df-dd36d016-f9e7-4307-adc0-ca26aeed1e4b')\"\n",
              "              title=\"Convert this dataframe to an interactive table.\"\n",
              "              style=\"display:none;\">\n",
              "        \n",
              "  <svg xmlns=\"http://www.w3.org/2000/svg\" height=\"24px\"viewBox=\"0 0 24 24\"\n",
              "       width=\"24px\">\n",
              "    <path d=\"M0 0h24v24H0V0z\" fill=\"none\"/>\n",
              "    <path d=\"M18.56 5.44l.94 2.06.94-2.06 2.06-.94-2.06-.94-.94-2.06-.94 2.06-2.06.94zm-11 1L8.5 8.5l.94-2.06 2.06-.94-2.06-.94L8.5 2.5l-.94 2.06-2.06.94zm10 10l.94 2.06.94-2.06 2.06-.94-2.06-.94-.94-2.06-.94 2.06-2.06.94z\"/><path d=\"M17.41 7.96l-1.37-1.37c-.4-.4-.92-.59-1.43-.59-.52 0-1.04.2-1.43.59L10.3 9.45l-7.72 7.72c-.78.78-.78 2.05 0 2.83L4 21.41c.39.39.9.59 1.41.59.51 0 1.02-.2 1.41-.59l7.78-7.78 2.81-2.81c.8-.78.8-2.07 0-2.86zM5.41 20L4 18.59l7.72-7.72 1.47 1.35L5.41 20z\"/>\n",
              "  </svg>\n",
              "      </button>\n",
              "      \n",
              "  <style>\n",
              "    .colab-df-container {\n",
              "      display:flex;\n",
              "      flex-wrap:wrap;\n",
              "      gap: 12px;\n",
              "    }\n",
              "\n",
              "    .colab-df-convert {\n",
              "      background-color: #E8F0FE;\n",
              "      border: none;\n",
              "      border-radius: 50%;\n",
              "      cursor: pointer;\n",
              "      display: none;\n",
              "      fill: #1967D2;\n",
              "      height: 32px;\n",
              "      padding: 0 0 0 0;\n",
              "      width: 32px;\n",
              "    }\n",
              "\n",
              "    .colab-df-convert:hover {\n",
              "      background-color: #E2EBFA;\n",
              "      box-shadow: 0px 1px 2px rgba(60, 64, 67, 0.3), 0px 1px 3px 1px rgba(60, 64, 67, 0.15);\n",
              "      fill: #174EA6;\n",
              "    }\n",
              "\n",
              "    [theme=dark] .colab-df-convert {\n",
              "      background-color: #3B4455;\n",
              "      fill: #D2E3FC;\n",
              "    }\n",
              "\n",
              "    [theme=dark] .colab-df-convert:hover {\n",
              "      background-color: #434B5C;\n",
              "      box-shadow: 0px 1px 3px 1px rgba(0, 0, 0, 0.15);\n",
              "      filter: drop-shadow(0px 1px 2px rgba(0, 0, 0, 0.3));\n",
              "      fill: #FFFFFF;\n",
              "    }\n",
              "  </style>\n",
              "\n",
              "      <script>\n",
              "        const buttonEl =\n",
              "          document.querySelector('#df-dd36d016-f9e7-4307-adc0-ca26aeed1e4b button.colab-df-convert');\n",
              "        buttonEl.style.display =\n",
              "          google.colab.kernel.accessAllowed ? 'block' : 'none';\n",
              "\n",
              "        async function convertToInteractive(key) {\n",
              "          const element = document.querySelector('#df-dd36d016-f9e7-4307-adc0-ca26aeed1e4b');\n",
              "          const dataTable =\n",
              "            await google.colab.kernel.invokeFunction('convertToInteractive',\n",
              "                                                     [key], {});\n",
              "          if (!dataTable) return;\n",
              "\n",
              "          const docLinkHtml = 'Like what you see? Visit the ' +\n",
              "            '<a target=\"_blank\" href=https://colab.research.google.com/notebooks/data_table.ipynb>data table notebook</a>'\n",
              "            + ' to learn more about interactive tables.';\n",
              "          element.innerHTML = '';\n",
              "          dataTable['output_type'] = 'display_data';\n",
              "          await google.colab.output.renderOutput(dataTable, element);\n",
              "          const docLink = document.createElement('div');\n",
              "          docLink.innerHTML = docLinkHtml;\n",
              "          element.appendChild(docLink);\n",
              "        }\n",
              "      </script>\n",
              "    </div>\n",
              "  </div>\n",
              "  "
            ]
          },
          "metadata": {},
          "execution_count": 26
        }
      ],
      "source": [
        "predictions = model.predict(test_input)\n",
        "test_df['Type'] = [pred_return(x) for x in predictions]\n",
        "test_df.drop(['Tweet','is_retweet','text_clean','text_lowered'],axis=1,inplace=True)\n",
        "test_df.head()"
      ]
    },
    {
      "cell_type": "code",
      "execution_count": 30,
      "metadata": {
        "id": "Nkhw3dXNXH3K",
        "colab": {
          "base_uri": "https://localhost:8080/",
          "height": 172
        },
        "outputId": "3f88374c-b60f-4083-fc7c-bc5c142c8699"
      },
      "outputs": [
        {
          "output_type": "error",
          "ename": "AssertionError",
          "evalue": "ignored",
          "traceback": [
            "\u001b[0;31m---------------------------------------------------------------------------\u001b[0m",
            "\u001b[0;31mAssertionError\u001b[0m                            Traceback (most recent call last)",
            "\u001b[0;32m<ipython-input-30-b666ac6b5fa7>\u001b[0m in \u001b[0;36m<module>\u001b[0;34m()\u001b[0m\n\u001b[0;32m----> 1\u001b[0;31m \u001b[0;32massert\u001b[0m \u001b[0mlen\u001b[0m\u001b[0;34m(\u001b[0m\u001b[0mtest_df\u001b[0m\u001b[0;34m[\u001b[0m\u001b[0;34m'Type'\u001b[0m\u001b[0;34m]\u001b[0m\u001b[0;34m)\u001b[0m \u001b[0;34m==\u001b[0m \u001b[0;36m32\u001b[0m\u001b[0;34m\u001b[0m\u001b[0;34m\u001b[0m\u001b[0m\n\u001b[0m",
            "\u001b[0;31mAssertionError\u001b[0m: "
          ]
        }
      ],
      "source": [
        "assert len(test_df['Type']) == 32\n"
      ]
    },
    {
      "cell_type": "code",
      "execution_count": 28,
      "metadata": {
        "id": "d338oVdjXKUc"
      },
      "outputs": [],
      "source": [
        "test_df.to_csv('submission.csv',index=False,header=True)\n"
      ]
    }
  ],
  "metadata": {
    "colab": {
      "collapsed_sections": [],
      "name": "bert-cnn.ipynb",
      "provenance": [],
      "authorship_tag": "ABX9TyMzRmQR+1MRrBgYOJ0m7Bdk",
      "include_colab_link": true
    },
    "kernelspec": {
      "display_name": "Python 3",
      "name": "python3"
    },
    "language_info": {
      "name": "python"
    }
  },
  "nbformat": 4,
  "nbformat_minor": 0
}