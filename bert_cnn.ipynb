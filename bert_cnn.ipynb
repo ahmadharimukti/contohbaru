{
  "nbformat": 4,
  "nbformat_minor": 0,
  "metadata": {
    "colab": {
      "name": "bert-cnn.ipynb",
      "provenance": [],
      "collapsed_sections": [],
      "authorship_tag": "ABX9TyM+RgCyTSTzbsDNZbJWjS4d",
      "include_colab_link": true
    },
    "kernelspec": {
      "name": "python3",
      "display_name": "Python 3"
    },
    "language_info": {
      "name": "python"
    }
  },
  "cells": [
    {
      "cell_type": "markdown",
      "metadata": {
        "id": "view-in-github",
        "colab_type": "text"
      },
      "source": [
        "<a href=\"https://colab.research.google.com/github/ahmadharimukti/contohbaru/blob/main/bert_cnn.ipynb\" target=\"_parent\"><img src=\"https://colab.research.google.com/assets/colab-badge.svg\" alt=\"Open In Colab\"/></a>"
      ]
    },
    {
      "cell_type": "markdown",
      "source": [
        "# Bert-LTSM-CNN"
      ],
      "metadata": {
        "id": "0WEbbL5RZTX8"
      }
    },
    {
      "cell_type": "code",
      "execution_count": 48,
      "metadata": {
        "colab": {
          "base_uri": "https://localhost:8080/"
        },
        "id": "mTeUY7CATXCb",
        "outputId": "c17f7347-f946-4b6d-ba3a-9de5e783d0a9"
      },
      "outputs": [
        {
          "output_type": "stream",
          "name": "stdout",
          "text": [
            "Requirement already satisfied: bert-for-tf2 in /usr/local/lib/python3.7/dist-packages (0.14.9)\n",
            "Requirement already satisfied: params-flow>=0.8.0 in /usr/local/lib/python3.7/dist-packages (from bert-for-tf2) (0.8.2)\n",
            "Requirement already satisfied: py-params>=0.9.6 in /usr/local/lib/python3.7/dist-packages (from bert-for-tf2) (0.10.2)\n",
            "Requirement already satisfied: numpy in /usr/local/lib/python3.7/dist-packages (from params-flow>=0.8.0->bert-for-tf2) (1.21.6)\n",
            "Requirement already satisfied: tqdm in /usr/local/lib/python3.7/dist-packages (from params-flow>=0.8.0->bert-for-tf2) (4.64.0)\n"
          ]
        }
      ],
      "source": [
        "# Some pip install for BERT\n",
        "!pip install bert-for-tf2"
      ]
    },
    {
      "cell_type": "code",
      "source": [
        "# Import all dependencies to be used\n",
        "\n",
        "import numpy as np # linear algebra\n",
        "import pandas as pd # data processing, CSV file I/O (e.g. pd.read_csv)\n",
        "import tensorflow as tf # machine learning and neural nets\n",
        "import tensorflow_datasets as tfds # for text preprocessing\n",
        "import tensorflow_hub as hub\n",
        "import bert\n",
        "from nltk.sentiment.vader import SentimentIntensityAnalyzer # NLTK class object for determining sentiment of text"
      ],
      "metadata": {
        "id": "7pHW4Pw9UR_n"
      },
      "execution_count": 49,
      "outputs": []
    },
    {
      "cell_type": "code",
      "source": [
        "#Mount your drive account into colab\n",
        "\n",
        "from google.colab import drive\n",
        "drive.mount('/content/drive/', force_remount=True)"
      ],
      "metadata": {
        "colab": {
          "base_uri": "https://localhost:8080/"
        },
        "id": "i8j5eLo9VOec",
        "outputId": "aee56bf1-db73-403b-a01c-55173ae26b73"
      },
      "execution_count": 50,
      "outputs": [
        {
          "output_type": "stream",
          "name": "stdout",
          "text": [
            "Mounted at /content/drive/\n"
          ]
        }
      ]
    },
    {
      "cell_type": "code",
      "source": [
        "df = pd.read_csv('drive/My Drive/Colab Notebooks/data/Twitter Spam/trainkedua.csv')\n",
        "df.head()"
      ],
      "metadata": {
        "colab": {
          "base_uri": "https://localhost:8080/",
          "height": 206
        },
        "id": "CX8GuEt0V4xv",
        "outputId": "36e3a257-d10e-4cd2-9a2e-292f3b192686"
      },
      "execution_count": 52,
      "outputs": [
        {
          "output_type": "execute_result",
          "data": {
            "text/plain": [
              "                                               Tweet  following  followers  \\\n",
              "0                     Good Morning Love  @LeeBrown_V        0.0        0.0   \n",
              "1           '@realDonaldTrump @USNavy RIP TO HEROES'    42096.0    61060.0   \n",
              "2  Haven't been following the news but I understa...        0.0        0.0   \n",
              "3  pic.twitter.com/dy9q4ftLhZ What to do with pap...        0.0        0.0   \n",
              "4  #DidYouKnow ► Mahatma Gandhi made a brief visi...    17800.0    35100.0   \n",
              "\n",
              "   actions  is_retweet                        location  Type  Unnamed: 7  \n",
              "0      0.0         0.0               Pennsylvania, USA     1         NaN  \n",
              "1   5001.0         0.0       South Padre Island, Texas     0         NaN  \n",
              "2      NaN         0.0  Will never be broke ever again     1         NaN  \n",
              "3      0.0         0.0                           Mundo     1         NaN  \n",
              "4      NaN         0.0             Nottingham, England     1         NaN  "
            ],
            "text/html": [
              "\n",
              "  <div id=\"df-aac12fe3-c692-4ebd-a8e8-afb51883fe70\">\n",
              "    <div class=\"colab-df-container\">\n",
              "      <div>\n",
              "<style scoped>\n",
              "    .dataframe tbody tr th:only-of-type {\n",
              "        vertical-align: middle;\n",
              "    }\n",
              "\n",
              "    .dataframe tbody tr th {\n",
              "        vertical-align: top;\n",
              "    }\n",
              "\n",
              "    .dataframe thead th {\n",
              "        text-align: right;\n",
              "    }\n",
              "</style>\n",
              "<table border=\"1\" class=\"dataframe\">\n",
              "  <thead>\n",
              "    <tr style=\"text-align: right;\">\n",
              "      <th></th>\n",
              "      <th>Tweet</th>\n",
              "      <th>following</th>\n",
              "      <th>followers</th>\n",
              "      <th>actions</th>\n",
              "      <th>is_retweet</th>\n",
              "      <th>location</th>\n",
              "      <th>Type</th>\n",
              "      <th>Unnamed: 7</th>\n",
              "    </tr>\n",
              "  </thead>\n",
              "  <tbody>\n",
              "    <tr>\n",
              "      <th>0</th>\n",
              "      <td>Good Morning Love  @LeeBrown_V</td>\n",
              "      <td>0.0</td>\n",
              "      <td>0.0</td>\n",
              "      <td>0.0</td>\n",
              "      <td>0.0</td>\n",
              "      <td>Pennsylvania, USA</td>\n",
              "      <td>1</td>\n",
              "      <td>NaN</td>\n",
              "    </tr>\n",
              "    <tr>\n",
              "      <th>1</th>\n",
              "      <td>'@realDonaldTrump @USNavy RIP TO HEROES'</td>\n",
              "      <td>42096.0</td>\n",
              "      <td>61060.0</td>\n",
              "      <td>5001.0</td>\n",
              "      <td>0.0</td>\n",
              "      <td>South Padre Island, Texas</td>\n",
              "      <td>0</td>\n",
              "      <td>NaN</td>\n",
              "    </tr>\n",
              "    <tr>\n",
              "      <th>2</th>\n",
              "      <td>Haven't been following the news but I understa...</td>\n",
              "      <td>0.0</td>\n",
              "      <td>0.0</td>\n",
              "      <td>NaN</td>\n",
              "      <td>0.0</td>\n",
              "      <td>Will never be broke ever again</td>\n",
              "      <td>1</td>\n",
              "      <td>NaN</td>\n",
              "    </tr>\n",
              "    <tr>\n",
              "      <th>3</th>\n",
              "      <td>pic.twitter.com/dy9q4ftLhZ What to do with pap...</td>\n",
              "      <td>0.0</td>\n",
              "      <td>0.0</td>\n",
              "      <td>0.0</td>\n",
              "      <td>0.0</td>\n",
              "      <td>Mundo</td>\n",
              "      <td>1</td>\n",
              "      <td>NaN</td>\n",
              "    </tr>\n",
              "    <tr>\n",
              "      <th>4</th>\n",
              "      <td>#DidYouKnow ► Mahatma Gandhi made a brief visi...</td>\n",
              "      <td>17800.0</td>\n",
              "      <td>35100.0</td>\n",
              "      <td>NaN</td>\n",
              "      <td>0.0</td>\n",
              "      <td>Nottingham, England</td>\n",
              "      <td>1</td>\n",
              "      <td>NaN</td>\n",
              "    </tr>\n",
              "  </tbody>\n",
              "</table>\n",
              "</div>\n",
              "      <button class=\"colab-df-convert\" onclick=\"convertToInteractive('df-aac12fe3-c692-4ebd-a8e8-afb51883fe70')\"\n",
              "              title=\"Convert this dataframe to an interactive table.\"\n",
              "              style=\"display:none;\">\n",
              "        \n",
              "  <svg xmlns=\"http://www.w3.org/2000/svg\" height=\"24px\"viewBox=\"0 0 24 24\"\n",
              "       width=\"24px\">\n",
              "    <path d=\"M0 0h24v24H0V0z\" fill=\"none\"/>\n",
              "    <path d=\"M18.56 5.44l.94 2.06.94-2.06 2.06-.94-2.06-.94-.94-2.06-.94 2.06-2.06.94zm-11 1L8.5 8.5l.94-2.06 2.06-.94-2.06-.94L8.5 2.5l-.94 2.06-2.06.94zm10 10l.94 2.06.94-2.06 2.06-.94-2.06-.94-.94-2.06-.94 2.06-2.06.94z\"/><path d=\"M17.41 7.96l-1.37-1.37c-.4-.4-.92-.59-1.43-.59-.52 0-1.04.2-1.43.59L10.3 9.45l-7.72 7.72c-.78.78-.78 2.05 0 2.83L4 21.41c.39.39.9.59 1.41.59.51 0 1.02-.2 1.41-.59l7.78-7.78 2.81-2.81c.8-.78.8-2.07 0-2.86zM5.41 20L4 18.59l7.72-7.72 1.47 1.35L5.41 20z\"/>\n",
              "  </svg>\n",
              "      </button>\n",
              "      \n",
              "  <style>\n",
              "    .colab-df-container {\n",
              "      display:flex;\n",
              "      flex-wrap:wrap;\n",
              "      gap: 12px;\n",
              "    }\n",
              "\n",
              "    .colab-df-convert {\n",
              "      background-color: #E8F0FE;\n",
              "      border: none;\n",
              "      border-radius: 50%;\n",
              "      cursor: pointer;\n",
              "      display: none;\n",
              "      fill: #1967D2;\n",
              "      height: 32px;\n",
              "      padding: 0 0 0 0;\n",
              "      width: 32px;\n",
              "    }\n",
              "\n",
              "    .colab-df-convert:hover {\n",
              "      background-color: #E2EBFA;\n",
              "      box-shadow: 0px 1px 2px rgba(60, 64, 67, 0.3), 0px 1px 3px 1px rgba(60, 64, 67, 0.15);\n",
              "      fill: #174EA6;\n",
              "    }\n",
              "\n",
              "    [theme=dark] .colab-df-convert {\n",
              "      background-color: #3B4455;\n",
              "      fill: #D2E3FC;\n",
              "    }\n",
              "\n",
              "    [theme=dark] .colab-df-convert:hover {\n",
              "      background-color: #434B5C;\n",
              "      box-shadow: 0px 1px 3px 1px rgba(0, 0, 0, 0.15);\n",
              "      filter: drop-shadow(0px 1px 2px rgba(0, 0, 0, 0.3));\n",
              "      fill: #FFFFFF;\n",
              "    }\n",
              "  </style>\n",
              "\n",
              "      <script>\n",
              "        const buttonEl =\n",
              "          document.querySelector('#df-aac12fe3-c692-4ebd-a8e8-afb51883fe70 button.colab-df-convert');\n",
              "        buttonEl.style.display =\n",
              "          google.colab.kernel.accessAllowed ? 'block' : 'none';\n",
              "\n",
              "        async function convertToInteractive(key) {\n",
              "          const element = document.querySelector('#df-aac12fe3-c692-4ebd-a8e8-afb51883fe70');\n",
              "          const dataTable =\n",
              "            await google.colab.kernel.invokeFunction('convertToInteractive',\n",
              "                                                     [key], {});\n",
              "          if (!dataTable) return;\n",
              "\n",
              "          const docLinkHtml = 'Like what you see? Visit the ' +\n",
              "            '<a target=\"_blank\" href=https://colab.research.google.com/notebooks/data_table.ipynb>data table notebook</a>'\n",
              "            + ' to learn more about interactive tables.';\n",
              "          element.innerHTML = '';\n",
              "          dataTable['output_type'] = 'display_data';\n",
              "          await google.colab.output.renderOutput(dataTable, element);\n",
              "          const docLink = document.createElement('div');\n",
              "          docLink.innerHTML = docLinkHtml;\n",
              "          element.appendChild(docLink);\n",
              "        }\n",
              "      </script>\n",
              "    </div>\n",
              "  </div>\n",
              "  "
            ]
          },
          "metadata": {},
          "execution_count": 52
        }
      ]
    },
    {
      "cell_type": "code",
      "source": [
        "# Check the description and information relevant from the train.csv dataframe\n",
        "print(df.info())"
      ],
      "metadata": {
        "colab": {
          "base_uri": "https://localhost:8080/"
        },
        "id": "8RF5qOMPWS6Q",
        "outputId": "cd0452a6-f778-4f48-b28d-6e3aa2f1371a"
      },
      "execution_count": 53,
      "outputs": [
        {
          "output_type": "stream",
          "name": "stdout",
          "text": [
            "<class 'pandas.core.frame.DataFrame'>\n",
            "RangeIndex: 14899 entries, 0 to 14898\n",
            "Data columns (total 8 columns):\n",
            " #   Column      Non-Null Count  Dtype  \n",
            "---  ------      --------------  -----  \n",
            " 0   Tweet       14899 non-null  object \n",
            " 1   following   14741 non-null  float64\n",
            " 2   followers   14882 non-null  float64\n",
            " 3   actions     11462 non-null  float64\n",
            " 4   is_retweet  14898 non-null  float64\n",
            " 5   location    12888 non-null  object \n",
            " 6   Type        14899 non-null  int64  \n",
            " 7   Unnamed: 7  0 non-null      float64\n",
            "dtypes: float64(5), int64(1), object(2)\n",
            "memory usage: 931.3+ KB\n",
            "None\n"
          ]
        }
      ]
    },
    {
      "cell_type": "markdown",
      "source": [
        "# Text Cleaning and BERT Prep"
      ],
      "metadata": {
        "id": "UN_VQlX1Ze9y"
      }
    },
    {
      "cell_type": "code",
      "source": [
        "# Import dependency for string cleaning\n",
        "import re\n",
        "\n",
        "# Grab a sample string for display purposes\n",
        "text_str = df.loc[984,'Tweet']\n",
        "\n",
        "def clean_text(text):\n",
        "    '''\n",
        "    Function to clean text and remove unnecessary components and ease tokenization.\n",
        "    :param: text: the string to be cleaned\n",
        "    :output: text: the cleaned string\n",
        "    '''\n",
        "    text = re.sub(r'https?://\\S+', '', text) # remove link\n",
        "    text = re.sub(r'#\\w+', '', text) # remove hashtags\n",
        "    text = re.sub(r'@\\w+', '', text) # remove mentions\n",
        "    text = re.sub(r'\\n', ' ', text) # remove linebreaks\n",
        "    text = re.sub(r'\\s+', ' ', text) # remove leading and trailing spaces\n",
        "    return text\n",
        "\n",
        "# Show the cleaned version of the sample text\n",
        "print(f'Starting text: {text_str}')\n",
        "print(f'Cleaned text: {clean_text(text_str)}')"
      ],
      "metadata": {
        "colab": {
          "base_uri": "https://localhost:8080/"
        },
        "id": "V2HRJNHBWXIz",
        "outputId": "e2229699-cc36-46ca-83b3-caedd759162c"
      },
      "execution_count": 54,
      "outputs": [
        {
          "output_type": "stream",
          "name": "stdout",
          "text": [
            "Starting text: Very much worth reading: Joseph Epstein pays tribute to Michael Oakeshott.   http://t.co/n3Y4VCmMCv\n",
            "Cleaned text: Very much worth reading: Joseph Epstein pays tribute to Michael Oakeshott. \n"
          ]
        }
      ]
    },
    {
      "cell_type": "code",
      "source": [
        "def bert_encoding(texts, tokenizer, max_len=512):\n",
        "    '''\n",
        "    Function to encode text into tokens, masks, and segment_ids for BERT embedding layer input.\n",
        "    \n",
        "    :param: texts - the texts to tokenize\n",
        "    :param: tokenizer - the BERT tokenizer that will be used to tokenize the texts\n",
        "    :param: max_len - the maximum length of an input sequence (the sequence of tokens to be embedded)\n",
        "    \n",
        "    :output: all_tokens - the texts turned into tokens and padded for match length, returned as np.array\n",
        "    :output: all_masks - masks for each text denoted sequence length and pad length, returned as np.array\n",
        "    :output: all_segments - segment_ids for each text, all blank, returned as np.array\n",
        "    '''\n",
        "    all_tokens = [] # initiated list for tokens\n",
        "    all_masks = [] # initiated list for masks\n",
        "    all_segments = [] # initiated list for segment_ids\n",
        "    \n",
        "    # Iterate through all texts\n",
        "    for text in texts:\n",
        "        \n",
        "        # Tokenize text\n",
        "        text = tokenizer.tokenize(text)\n",
        "        \n",
        "        # Make room for the CLS and SEP tokens\n",
        "        text = text[:max_len-2]\n",
        "        \n",
        "        # Create the input sequence beginning with [CLS] and ending with [SEP]\n",
        "        input_sequence = [\"[CLS]\"] + text + [\"[SEP]\"]\n",
        "        \n",
        "        # Determine how much padding is required (max_length - length of the input sequence)\n",
        "        pad_len = max_len - len(input_sequence)\n",
        "        \n",
        "        # Create token ids, used by BERT\n",
        "        tokens = tokenizer.convert_tokens_to_ids(input_sequence)\n",
        "        \n",
        "        # Pad the tokens by 0's for the pad length determined above\n",
        "        tokens += [0] * pad_len\n",
        "        \n",
        "        # Create the masks for the sequence, with the 1 for each token id and 0 for all padding\n",
        "        pad_masks = [1] * len(input_sequence) + [0] * pad_len\n",
        "        \n",
        "        # All empty segment_ids for the max length\n",
        "        segment_ids = [0] * max_len\n",
        "        \n",
        "        # Append all tokens, masks, and segment_ids to the initialized lists\n",
        "        all_tokens.append(tokens)\n",
        "        all_masks.append(pad_masks)\n",
        "        all_segments.append(segment_ids)\n",
        "        \n",
        "    return np.array(all_tokens), np.array(all_masks), np.array(all_segments)"
      ],
      "metadata": {
        "id": "kJleH4xLWk2E"
      },
      "execution_count": 55,
      "outputs": []
    },
    {
      "cell_type": "code",
      "source": [
        "# Initialize the tokenizer\n",
        "BertTokenizer = bert.bert_tokenization.FullTokenizer\n",
        "\n",
        "# Load the BERT layer\n",
        "bert_layer = hub.KerasLayer(\"https://tfhub.dev/tensorflow/bert_en_uncased_L-12_H-768_A-12/1\",\n",
        "                            trainable=False)\n",
        "\n",
        "# Import the vocab files, and the lower case function\n",
        "vocabulary_file = bert_layer.resolved_object.vocab_file.asset_path.numpy()\n",
        "to_lower_case = bert_layer.resolved_object.do_lower_case.numpy()\n",
        "\n",
        "# Load the tokenizer with the preloaded vocab file and lower case function\n",
        "tokenizer = BertTokenizer(vocabulary_file, to_lower_case)\n",
        "\n",
        "# Give a sample of how the tokenizer works\n",
        "tokenizer.tokenize(\"What cool code, where'd ya learn it all?\")"
      ],
      "metadata": {
        "colab": {
          "base_uri": "https://localhost:8080/"
        },
        "id": "7h6Hu4DzWqxM",
        "outputId": "c51c9b19-3714-4168-ea1d-cbb26d9b18e6"
      },
      "execution_count": 57,
      "outputs": [
        {
          "output_type": "execute_result",
          "data": {
            "text/plain": [
              "['what',\n",
              " 'cool',\n",
              " 'code',\n",
              " ',',\n",
              " 'where',\n",
              " \"'\",\n",
              " 'd',\n",
              " 'ya',\n",
              " 'learn',\n",
              " 'it',\n",
              " 'all',\n",
              " '?']"
            ]
          },
          "metadata": {},
          "execution_count": 57
        }
      ]
    },
    {
      "cell_type": "code",
      "source": [
        "df[\"Type\"].value_counts()"
      ],
      "metadata": {
        "colab": {
          "base_uri": "https://localhost:8080/"
        },
        "id": "0Df5iF4EYLLm",
        "outputId": "f6ac99ed-0966-416f-d253-7100165972a4"
      },
      "execution_count": 58,
      "outputs": [
        {
          "output_type": "execute_result",
          "data": {
            "text/plain": [
              "1    7455\n",
              "0    7444\n",
              "Name: Type, dtype: int64"
            ]
          },
          "metadata": {},
          "execution_count": 58
        }
      ]
    },
    {
      "cell_type": "code",
      "source": [
        ""
      ],
      "metadata": {
        "id": "QgW7BSmgXLVy"
      },
      "execution_count": 31,
      "outputs": []
    },
    {
      "cell_type": "code",
      "source": [
        "# Clean the text data\n",
        "df['text_clean'] = df['Tweet'].apply(lambda x: clean_text(x))\n",
        "\n",
        "# Lowercase the text data\n",
        "df['text_lowered'] = df['text_clean'].apply(lambda x: x.lower())\n",
        "\n",
        "# Set targets\n",
        "targets = df['Type']"
      ],
      "metadata": {
        "id": "VronEeEsW0-6"
      },
      "execution_count": 59,
      "outputs": []
    },
    {
      "cell_type": "code",
      "source": [
        "# Load dependency for train_test_split function\n",
        "from sklearn.model_selection import train_test_split\n",
        "\n",
        "# Prepare the X and Y train and test datasets\n",
        "X_train,X_test,Y_train,Y_test = train_test_split(list(df['text_lowered']),targets,test_size=0.2,random_state=28)"
      ],
      "metadata": {
        "id": "gzMBro-xZFJI"
      },
      "execution_count": 60,
      "outputs": []
    },
    {
      "cell_type": "code",
      "source": [
        "# Finally, run the X train and test (the cleaned and lowered text data) through the BERT encoding function\n",
        "# with the BERT tokenizer we prepped and a max_len parameter chosen by you\n",
        "train_input = bert_encoding(X_train, tokenizer, max_len=100)\n",
        "test_input = bert_encoding(X_test, tokenizer, max_len=100)"
      ],
      "metadata": {
        "id": "uHX844g6ZGpW"
      },
      "execution_count": 61,
      "outputs": []
    },
    {
      "cell_type": "markdown",
      "source": [
        "# Building the Model and Testing"
      ],
      "metadata": {
        "id": "HbJjZ_WQZkUM"
      }
    },
    {
      "cell_type": "code",
      "source": [
        "def build_model(bert_layer, max_len=512):\n",
        "    '''\n",
        "    Function to build a tensorflow machine learning neural network model.\n",
        "    \n",
        "    :param: bert_layer - the loaded BERT layer from TF hub\n",
        "    :param: max_len - the maximum length of an input sequence for encoding purposes, used here to denote the input shape\n",
        "    \n",
        "    :output: Model - Tensorflow keras model with inputs and outputs designated\n",
        "    '''\n",
        "    # INPUTS\n",
        "    input_word_ids = tf.keras.Input(shape=(max_len,), dtype=tf.int32, name='input_word_ids')\n",
        "    input_mask = tf.keras.Input(shape=(max_len,), dtype=tf.int32, name='input_mask')\n",
        "    segment_ids = tf.keras.Input(shape=(max_len,), dtype=tf.int32, name='segment_ids')\n",
        "    \n",
        "    # BERT EMBEDDING\n",
        "    _, sequence_output = bert_layer([input_word_ids,input_mask,segment_ids])\n",
        "    clf_output = sequence_output[:, 0, :]\n",
        "    clf_output_ = tf.keras.layers.Reshape((32,24))(clf_output)\n",
        "    \n",
        "    # HIDDEN\n",
        "    hidden = tf.keras.layers.Dense(128,activation='relu')(clf_output)\n",
        "    hidden2 = tf.keras.layers.Dense(64,activation='relu')(hidden)\n",
        "    drop = tf.keras.layers.Dropout(0.1)(hidden2)\n",
        "    \n",
        "    # CHANNEL 2 - LSTM\n",
        "    lstm = tf.keras.layers.Bidirectional(tf.keras.layers.LSTM(128,\n",
        "                                kernel_regularizer=tf.keras.regularizers.L2(0.001),\n",
        "                                                             return_sequences=True))(clf_output_)\n",
        "    drop2 = tf.keras.layers.Dropout(0.1)(lstm)\n",
        "    cnn = tf.keras.layers.Conv1D(64,5,\n",
        "                                kernel_regularizer=tf.keras.regularizers.L2(0.001))(drop2)\n",
        "    max_pool = tf.keras.layers.MaxPooling1D(25)(cnn)\n",
        "    flat = tf.keras.layers.Flatten(data_format='channels_last')(max_pool)\n",
        "    \n",
        "    # OUTPUTS\n",
        "    concat = tf.keras.layers.Concatenate()([drop,flat])\n",
        "    output_target = tf.keras.layers.Dense(1,activation='sigmoid')(concat)\n",
        "    \n",
        "    return tf.keras.Model(inputs=[input_word_ids,input_mask,segment_ids],outputs=output_target)"
      ],
      "metadata": {
        "id": "7vczjApoZLQT"
      },
      "execution_count": 62,
      "outputs": []
    },
    {
      "cell_type": "code",
      "source": [
        "# Build the model\n",
        "model = build_model(bert_layer,max_len=100)"
      ],
      "metadata": {
        "id": "F0A2xuDFZw3L"
      },
      "execution_count": 63,
      "outputs": []
    },
    {
      "cell_type": "markdown",
      "source": [
        ""
      ],
      "metadata": {
        "id": "ZY-nfNDmVUAp"
      }
    },
    {
      "cell_type": "code",
      "source": [
        "model.summary()"
      ],
      "metadata": {
        "colab": {
          "base_uri": "https://localhost:8080/"
        },
        "id": "l5rcTymuZ1uS",
        "outputId": "cbc8c1b5-0e38-438c-918d-c5559fe87831"
      },
      "execution_count": 64,
      "outputs": [
        {
          "output_type": "stream",
          "name": "stdout",
          "text": [
            "Model: \"model_3\"\n",
            "__________________________________________________________________________________________________\n",
            " Layer (type)                   Output Shape         Param #     Connected to                     \n",
            "==================================================================================================\n",
            " input_word_ids (InputLayer)    [(None, 100)]        0           []                               \n",
            "                                                                                                  \n",
            " input_mask (InputLayer)        [(None, 100)]        0           []                               \n",
            "                                                                                                  \n",
            " segment_ids (InputLayer)       [(None, 100)]        0           []                               \n",
            "                                                                                                  \n",
            " keras_layer_3 (KerasLayer)     [(None, 768),        109482241   ['input_word_ids[0][0]',         \n",
            "                                 (None, 100, 768)]                'input_mask[0][0]',             \n",
            "                                                                  'segment_ids[0][0]']            \n",
            "                                                                                                  \n",
            " tf.__operators__.getitem_3 (Sl  (None, 768)         0           ['keras_layer_3[0][1]']          \n",
            " icingOpLambda)                                                                                   \n",
            "                                                                                                  \n",
            " reshape_3 (Reshape)            (None, 32, 24)       0           ['tf.__operators__.getitem_3[0][0\n",
            "                                                                 ]']                              \n",
            "                                                                                                  \n",
            " bidirectional_3 (Bidirectional  (None, 32, 256)     156672      ['reshape_3[0][0]']              \n",
            " )                                                                                                \n",
            "                                                                                                  \n",
            " dropout_7 (Dropout)            (None, 32, 256)      0           ['bidirectional_3[0][0]']        \n",
            "                                                                                                  \n",
            " dense_9 (Dense)                (None, 128)          98432       ['tf.__operators__.getitem_3[0][0\n",
            "                                                                 ]']                              \n",
            "                                                                                                  \n",
            " conv1d_3 (Conv1D)              (None, 28, 64)       81984       ['dropout_7[0][0]']              \n",
            "                                                                                                  \n",
            " dense_10 (Dense)               (None, 64)           8256        ['dense_9[0][0]']                \n",
            "                                                                                                  \n",
            " max_pooling1d_3 (MaxPooling1D)  (None, 1, 64)       0           ['conv1d_3[0][0]']               \n",
            "                                                                                                  \n",
            " dropout_6 (Dropout)            (None, 64)           0           ['dense_10[0][0]']               \n",
            "                                                                                                  \n",
            " flatten_3 (Flatten)            (None, 64)           0           ['max_pooling1d_3[0][0]']        \n",
            "                                                                                                  \n",
            " concatenate_3 (Concatenate)    (None, 128)          0           ['dropout_6[0][0]',              \n",
            "                                                                  'flatten_3[0][0]']              \n",
            "                                                                                                  \n",
            " dense_11 (Dense)               (None, 1)            129         ['concatenate_3[0][0]']          \n",
            "                                                                                                  \n",
            "==================================================================================================\n",
            "Total params: 109,827,714\n",
            "Trainable params: 345,473\n",
            "Non-trainable params: 109,482,241\n",
            "__________________________________________________________________________________________________\n"
          ]
        }
      ]
    },
    {
      "cell_type": "code",
      "source": [
        "model.compile(optimizer=tf.keras.optimizers.Adam(lr=2e-6),loss='binary_crossentropy',metrics=['accuracy',tf.keras.metrics.AUC()])"
      ],
      "metadata": {
        "colab": {
          "base_uri": "https://localhost:8080/"
        },
        "id": "TmnCto0WZ6tp",
        "outputId": "ba329d00-3033-4643-cd57-e9da8f8ae7cc"
      },
      "execution_count": 65,
      "outputs": [
        {
          "output_type": "stream",
          "name": "stderr",
          "text": [
            "/usr/local/lib/python3.7/dist-packages/keras/optimizer_v2/adam.py:105: UserWarning: The `lr` argument is deprecated, use `learning_rate` instead.\n",
            "  super(Adam, self).__init__(name, **kwargs)\n"
          ]
        }
      ]
    },
    {
      "cell_type": "code",
      "source": [
        "tf.keras.utils.plot_model(model)"
      ],
      "metadata": {
        "colab": {
          "base_uri": "https://localhost:8080/",
          "height": 1000
        },
        "id": "m6Fh8C3nZ8kg",
        "outputId": "89d78ca7-71e3-47b8-b780-8f66e2f1e87a"
      },
      "execution_count": 66,
      "outputs": [
        {
          "output_type": "execute_result",
          "data": {
            "text/plain": [
              "<IPython.core.display.Image object>"
            ],
            "image/png": "[encoded data removed]"
          },
          "metadata": {},
          "execution_count": 66
        }
      ]
    },
    {
      "cell_type": "code",
      "source": [
        "train_history = model.fit(train_input,Y_train,epochs=3,batch_size=16,validation_split=0.2)\n"
      ],
      "metadata": {
        "colab": {
          "base_uri": "https://localhost:8080/"
        },
        "id": "DRvZTHfGaEiT",
        "outputId": "f48c3aa6-d5b1-4c13-f141-8e72068a521a"
      },
      "execution_count": 67,
      "outputs": [
        {
          "output_type": "stream",
          "name": "stdout",
          "text": [
            "Epoch 1/3\n",
            "596/596 [==============================] - 4280s 7s/step - loss: 0.8710 - accuracy: 0.5769 - auc_3: 0.6055 - val_loss: 0.8526 - val_accuracy: 0.6388 - val_auc_3: 0.6981\n",
            "Epoch 2/3\n",
            "596/596 [==============================] - 4280s 7s/step - loss: 0.8363 - accuracy: 0.6523 - auc_3: 0.7207 - val_loss: 0.8203 - val_accuracy: 0.6833 - val_auc_3: 0.7685\n",
            "Epoch 3/3\n",
            "596/596 [==============================] - 4299s 7s/step - loss: 0.8057 - accuracy: 0.6946 - auc_3: 0.7747 - val_loss: 0.7923 - val_accuracy: 0.7055 - val_auc_3: 0.7967\n"
          ]
        }
      ]
    },
    {
      "cell_type": "code",
      "source": [
        "predictions = model.predict(test_input)"
      ],
      "metadata": {
        "id": "XHh2FTyyWyPi"
      },
      "execution_count": 68,
      "outputs": []
    },
    {
      "cell_type": "code",
      "source": [
        "from sklearn.metrics import classification_report, confusion_matrix\n",
        "\n",
        "def pred_return(x):\n",
        "    if x>=0.5:\n",
        "        return 1\n",
        "    else:\n",
        "        return 0\n",
        "\n",
        "print(classification_report([pred_return(x) for x in predictions],Y_test))\n",
        "print(confusion_matrix([pred_return(x) for x in predictions],Y_test))"
      ],
      "metadata": {
        "colab": {
          "base_uri": "https://localhost:8080/"
        },
        "id": "GlL1mVi_WzB3",
        "outputId": "e236b78a-c28d-4ac0-921d-8207a99861e4"
      },
      "execution_count": 69,
      "outputs": [
        {
          "output_type": "stream",
          "name": "stdout",
          "text": [
            "              precision    recall  f1-score   support\n",
            "\n",
            "           0       0.70      0.74      0.72      1384\n",
            "           1       0.77      0.72      0.74      1596\n",
            "\n",
            "    accuracy                           0.73      2980\n",
            "   macro avg       0.73      0.73      0.73      2980\n",
            "weighted avg       0.73      0.73      0.73      2980\n",
            "\n",
            "[[1030  354]\n",
            " [ 442 1154]]\n"
          ]
        }
      ]
    },
    {
      "cell_type": "code",
      "source": [
        "test_df = pd.read_csv('drive/My Drive/Colab Notebooks/data/Twitter Spam/test.csv')"
      ],
      "metadata": {
        "id": "2B6O8jdFWzPx"
      },
      "execution_count": 70,
      "outputs": []
    },
    {
      "cell_type": "code",
      "source": [
        "test_df.head()"
      ],
      "metadata": {
        "colab": {
          "base_uri": "https://localhost:8080/",
          "height": 206
        },
        "id": "PvVNFlF7WzTT",
        "outputId": "a947fd2a-2bd4-4441-f684-660fa4fe6974"
      },
      "execution_count": 71,
      "outputs": [
        {
          "output_type": "execute_result",
          "data": {
            "text/plain": [
              "   Id                                              Tweet  following  \\\n",
              "0   0  Cops shoot blacks almost everyday, and there a...     5509.0   \n",
              "1   1  #HAPPYTAEYANGDAY  Oppa,happy birthday to you, ...        0.0   \n",
              "2   2  RT @HoneyBadger10: Panthers in the super bowl....      471.0   \n",
              "3   3  Sorry my Twitter keeps posting my retweets a m...        0.0   \n",
              "4   4  Heart attack causes and symptoms are different...      902.0   \n",
              "\n",
              "   followers  actions  is_retweet         location  \n",
              "0     5977.0   8062.0           1         ですpacito  \n",
              "1        0.0      NaN           0              NaN  \n",
              "2      229.0    747.0           0  B'klyn, NYC, LA  \n",
              "3    79800.0     48.0           0              NaN  \n",
              "4     5797.0   4270.0           0          Chicago  "
            ],
            "text/html": [
              "\n",
              "  <div id=\"df-929ea553-c776-4714-8bee-2d436a412c62\">\n",
              "    <div class=\"colab-df-container\">\n",
              "      <div>\n",
              "<style scoped>\n",
              "    .dataframe tbody tr th:only-of-type {\n",
              "        vertical-align: middle;\n",
              "    }\n",
              "\n",
              "    .dataframe tbody tr th {\n",
              "        vertical-align: top;\n",
              "    }\n",
              "\n",
              "    .dataframe thead th {\n",
              "        text-align: right;\n",
              "    }\n",
              "</style>\n",
              "<table border=\"1\" class=\"dataframe\">\n",
              "  <thead>\n",
              "    <tr style=\"text-align: right;\">\n",
              "      <th></th>\n",
              "      <th>Id</th>\n",
              "      <th>Tweet</th>\n",
              "      <th>following</th>\n",
              "      <th>followers</th>\n",
              "      <th>actions</th>\n",
              "      <th>is_retweet</th>\n",
              "      <th>location</th>\n",
              "    </tr>\n",
              "  </thead>\n",
              "  <tbody>\n",
              "    <tr>\n",
              "      <th>0</th>\n",
              "      <td>0</td>\n",
              "      <td>Cops shoot blacks almost everyday, and there a...</td>\n",
              "      <td>5509.0</td>\n",
              "      <td>5977.0</td>\n",
              "      <td>8062.0</td>\n",
              "      <td>1</td>\n",
              "      <td>ですpacito</td>\n",
              "    </tr>\n",
              "    <tr>\n",
              "      <th>1</th>\n",
              "      <td>1</td>\n",
              "      <td>#HAPPYTAEYANGDAY  Oppa,happy birthday to you, ...</td>\n",
              "      <td>0.0</td>\n",
              "      <td>0.0</td>\n",
              "      <td>NaN</td>\n",
              "      <td>0</td>\n",
              "      <td>NaN</td>\n",
              "    </tr>\n",
              "    <tr>\n",
              "      <th>2</th>\n",
              "      <td>2</td>\n",
              "      <td>RT @HoneyBadger10: Panthers in the super bowl....</td>\n",
              "      <td>471.0</td>\n",
              "      <td>229.0</td>\n",
              "      <td>747.0</td>\n",
              "      <td>0</td>\n",
              "      <td>B'klyn, NYC, LA</td>\n",
              "    </tr>\n",
              "    <tr>\n",
              "      <th>3</th>\n",
              "      <td>3</td>\n",
              "      <td>Sorry my Twitter keeps posting my retweets a m...</td>\n",
              "      <td>0.0</td>\n",
              "      <td>79800.0</td>\n",
              "      <td>48.0</td>\n",
              "      <td>0</td>\n",
              "      <td>NaN</td>\n",
              "    </tr>\n",
              "    <tr>\n",
              "      <th>4</th>\n",
              "      <td>4</td>\n",
              "      <td>Heart attack causes and symptoms are different...</td>\n",
              "      <td>902.0</td>\n",
              "      <td>5797.0</td>\n",
              "      <td>4270.0</td>\n",
              "      <td>0</td>\n",
              "      <td>Chicago</td>\n",
              "    </tr>\n",
              "  </tbody>\n",
              "</table>\n",
              "</div>\n",
              "      <button class=\"colab-df-convert\" onclick=\"convertToInteractive('df-929ea553-c776-4714-8bee-2d436a412c62')\"\n",
              "              title=\"Convert this dataframe to an interactive table.\"\n",
              "              style=\"display:none;\">\n",
              "        \n",
              "  <svg xmlns=\"http://www.w3.org/2000/svg\" height=\"24px\"viewBox=\"0 0 24 24\"\n",
              "       width=\"24px\">\n",
              "    <path d=\"M0 0h24v24H0V0z\" fill=\"none\"/>\n",
              "    <path d=\"M18.56 5.44l.94 2.06.94-2.06 2.06-.94-2.06-.94-.94-2.06-.94 2.06-2.06.94zm-11 1L8.5 8.5l.94-2.06 2.06-.94-2.06-.94L8.5 2.5l-.94 2.06-2.06.94zm10 10l.94 2.06.94-2.06 2.06-.94-2.06-.94-.94-2.06-.94 2.06-2.06.94z\"/><path d=\"M17.41 7.96l-1.37-1.37c-.4-.4-.92-.59-1.43-.59-.52 0-1.04.2-1.43.59L10.3 9.45l-7.72 7.72c-.78.78-.78 2.05 0 2.83L4 21.41c.39.39.9.59 1.41.59.51 0 1.02-.2 1.41-.59l7.78-7.78 2.81-2.81c.8-.78.8-2.07 0-2.86zM5.41 20L4 18.59l7.72-7.72 1.47 1.35L5.41 20z\"/>\n",
              "  </svg>\n",
              "      </button>\n",
              "      \n",
              "  <style>\n",
              "    .colab-df-container {\n",
              "      display:flex;\n",
              "      flex-wrap:wrap;\n",
              "      gap: 12px;\n",
              "    }\n",
              "\n",
              "    .colab-df-convert {\n",
              "      background-color: #E8F0FE;\n",
              "      border: none;\n",
              "      border-radius: 50%;\n",
              "      cursor: pointer;\n",
              "      display: none;\n",
              "      fill: #1967D2;\n",
              "      height: 32px;\n",
              "      padding: 0 0 0 0;\n",
              "      width: 32px;\n",
              "    }\n",
              "\n",
              "    .colab-df-convert:hover {\n",
              "      background-color: #E2EBFA;\n",
              "      box-shadow: 0px 1px 2px rgba(60, 64, 67, 0.3), 0px 1px 3px 1px rgba(60, 64, 67, 0.15);\n",
              "      fill: #174EA6;\n",
              "    }\n",
              "\n",
              "    [theme=dark] .colab-df-convert {\n",
              "      background-color: #3B4455;\n",
              "      fill: #D2E3FC;\n",
              "    }\n",
              "\n",
              "    [theme=dark] .colab-df-convert:hover {\n",
              "      background-color: #434B5C;\n",
              "      box-shadow: 0px 1px 3px 1px rgba(0, 0, 0, 0.15);\n",
              "      filter: drop-shadow(0px 1px 2px rgba(0, 0, 0, 0.3));\n",
              "      fill: #FFFFFF;\n",
              "    }\n",
              "  </style>\n",
              "\n",
              "      <script>\n",
              "        const buttonEl =\n",
              "          document.querySelector('#df-929ea553-c776-4714-8bee-2d436a412c62 button.colab-df-convert');\n",
              "        buttonEl.style.display =\n",
              "          google.colab.kernel.accessAllowed ? 'block' : 'none';\n",
              "\n",
              "        async function convertToInteractive(key) {\n",
              "          const element = document.querySelector('#df-929ea553-c776-4714-8bee-2d436a412c62');\n",
              "          const dataTable =\n",
              "            await google.colab.kernel.invokeFunction('convertToInteractive',\n",
              "                                                     [key], {});\n",
              "          if (!dataTable) return;\n",
              "\n",
              "          const docLinkHtml = 'Like what you see? Visit the ' +\n",
              "            '<a target=\"_blank\" href=https://colab.research.google.com/notebooks/data_table.ipynb>data table notebook</a>'\n",
              "            + ' to learn more about interactive tables.';\n",
              "          element.innerHTML = '';\n",
              "          dataTable['output_type'] = 'display_data';\n",
              "          await google.colab.output.renderOutput(dataTable, element);\n",
              "          const docLink = document.createElement('div');\n",
              "          docLink.innerHTML = docLinkHtml;\n",
              "          element.appendChild(docLink);\n",
              "        }\n",
              "      </script>\n",
              "    </div>\n",
              "  </div>\n",
              "  "
            ]
          },
          "metadata": {},
          "execution_count": 71
        }
      ]
    },
    {
      "cell_type": "code",
      "source": [
        "test_df['text_clean'] = test_df['Tweet'].apply(lambda x: clean_text(x))\n",
        "test_df['text_lowered'] = test_df['text_clean'].apply(lambda x: x.lower())"
      ],
      "metadata": {
        "id": "v9-SjD21WzXJ"
      },
      "execution_count": 73,
      "outputs": []
    },
    {
      "cell_type": "code",
      "source": [
        "test_input = bert_encoding(test_df['text_lowered'],tokenizer,max_len=50)"
      ],
      "metadata": {
        "id": "MsvqzJryXDlM"
      },
      "execution_count": 74,
      "outputs": []
    },
    {
      "cell_type": "code",
      "source": [
        "predictions = model.predict(test_input)\n",
        "test_df['Type'] = [pred_return(x) for x in predictions]\n",
        "test_df.drop(['Tweet','following','followers','actions','is_retweet','location','text_clean','text_lowered'],axis=1,inplace=True)\n",
        "test_df.head()"
      ],
      "metadata": {
        "colab": {
          "base_uri": "https://localhost:8080/",
          "height": 623
        },
        "id": "alUvXvBKXGAA",
        "outputId": "ee7fb9cf-6678-4412-e5b1-e0b50ecff450"
      },
      "execution_count": 76,
      "outputs": [
        {
          "output_type": "error",
          "ename": "ValueError",
          "evalue": "ignored",
          "traceback": [
            "\u001b[0;31m---------------------------------------------------------------------------\u001b[0m",
            "\u001b[0;31mValueError\u001b[0m                                Traceback (most recent call last)",
            "\u001b[0;32m<ipython-input-76-5dd5bcfee6c4>\u001b[0m in \u001b[0;36m<module>\u001b[0;34m()\u001b[0m\n\u001b[0;32m----> 1\u001b[0;31m \u001b[0mpredictions\u001b[0m \u001b[0;34m=\u001b[0m \u001b[0mmodel\u001b[0m\u001b[0;34m.\u001b[0m\u001b[0mpredict\u001b[0m\u001b[0;34m(\u001b[0m\u001b[0mtest_input\u001b[0m\u001b[0;34m)\u001b[0m\u001b[0;34m\u001b[0m\u001b[0;34m\u001b[0m\u001b[0m\n\u001b[0m\u001b[1;32m      2\u001b[0m \u001b[0mtest_df\u001b[0m\u001b[0;34m[\u001b[0m\u001b[0;34m'Type'\u001b[0m\u001b[0;34m]\u001b[0m \u001b[0;34m=\u001b[0m \u001b[0;34m[\u001b[0m\u001b[0mpred_return\u001b[0m\u001b[0;34m(\u001b[0m\u001b[0mx\u001b[0m\u001b[0;34m)\u001b[0m \u001b[0;32mfor\u001b[0m \u001b[0mx\u001b[0m \u001b[0;32min\u001b[0m \u001b[0mpredictions\u001b[0m\u001b[0;34m]\u001b[0m\u001b[0;34m\u001b[0m\u001b[0;34m\u001b[0m\u001b[0m\n\u001b[1;32m      3\u001b[0m \u001b[0mtest_df\u001b[0m\u001b[0;34m.\u001b[0m\u001b[0mdrop\u001b[0m\u001b[0;34m(\u001b[0m\u001b[0;34m[\u001b[0m\u001b[0;34m'Tweet'\u001b[0m\u001b[0;34m,\u001b[0m\u001b[0;34m'following'\u001b[0m\u001b[0;34m,\u001b[0m\u001b[0;34m'followers'\u001b[0m\u001b[0;34m,\u001b[0m\u001b[0;34m'actions'\u001b[0m\u001b[0;34m,\u001b[0m\u001b[0;34m'is_retweet'\u001b[0m\u001b[0;34m,\u001b[0m\u001b[0;34m'location'\u001b[0m\u001b[0;34m,\u001b[0m\u001b[0;34m'text_clean'\u001b[0m\u001b[0;34m,\u001b[0m\u001b[0;34m'text_lowered'\u001b[0m\u001b[0;34m]\u001b[0m\u001b[0;34m,\u001b[0m\u001b[0maxis\u001b[0m\u001b[0;34m=\u001b[0m\u001b[0;36m1\u001b[0m\u001b[0;34m,\u001b[0m\u001b[0minplace\u001b[0m\u001b[0;34m=\u001b[0m\u001b[0;32mTrue\u001b[0m\u001b[0;34m)\u001b[0m\u001b[0;34m\u001b[0m\u001b[0;34m\u001b[0m\u001b[0m\n\u001b[1;32m      4\u001b[0m \u001b[0mtest_df\u001b[0m\u001b[0;34m.\u001b[0m\u001b[0mhead\u001b[0m\u001b[0;34m(\u001b[0m\u001b[0;34m)\u001b[0m\u001b[0;34m\u001b[0m\u001b[0;34m\u001b[0m\u001b[0m\n",
            "\u001b[0;32m/usr/local/lib/python3.7/dist-packages/keras/utils/traceback_utils.py\u001b[0m in \u001b[0;36merror_handler\u001b[0;34m(*args, **kwargs)\u001b[0m\n\u001b[1;32m     65\u001b[0m     \u001b[0;32mexcept\u001b[0m \u001b[0mException\u001b[0m \u001b[0;32mas\u001b[0m \u001b[0me\u001b[0m\u001b[0;34m:\u001b[0m  \u001b[0;31m# pylint: disable=broad-except\u001b[0m\u001b[0;34m\u001b[0m\u001b[0;34m\u001b[0m\u001b[0m\n\u001b[1;32m     66\u001b[0m       \u001b[0mfiltered_tb\u001b[0m \u001b[0;34m=\u001b[0m \u001b[0m_process_traceback_frames\u001b[0m\u001b[0;34m(\u001b[0m\u001b[0me\u001b[0m\u001b[0;34m.\u001b[0m\u001b[0m__traceback__\u001b[0m\u001b[0;34m)\u001b[0m\u001b[0;34m\u001b[0m\u001b[0;34m\u001b[0m\u001b[0m\n\u001b[0;32m---> 67\u001b[0;31m       \u001b[0;32mraise\u001b[0m \u001b[0me\u001b[0m\u001b[0;34m.\u001b[0m\u001b[0mwith_traceback\u001b[0m\u001b[0;34m(\u001b[0m\u001b[0mfiltered_tb\u001b[0m\u001b[0;34m)\u001b[0m \u001b[0;32mfrom\u001b[0m \u001b[0;32mNone\u001b[0m\u001b[0;34m\u001b[0m\u001b[0;34m\u001b[0m\u001b[0m\n\u001b[0m\u001b[1;32m     68\u001b[0m     \u001b[0;32mfinally\u001b[0m\u001b[0;34m:\u001b[0m\u001b[0;34m\u001b[0m\u001b[0;34m\u001b[0m\u001b[0m\n\u001b[1;32m     69\u001b[0m       \u001b[0;32mdel\u001b[0m \u001b[0mfiltered_tb\u001b[0m\u001b[0;34m\u001b[0m\u001b[0;34m\u001b[0m\u001b[0m\n",
            "\u001b[0;32m/usr/local/lib/python3.7/dist-packages/tensorflow/python/framework/func_graph.py\u001b[0m in \u001b[0;36mautograph_handler\u001b[0;34m(*args, **kwargs)\u001b[0m\n\u001b[1;32m   1145\u001b[0m           \u001b[0;32mexcept\u001b[0m \u001b[0mException\u001b[0m \u001b[0;32mas\u001b[0m \u001b[0me\u001b[0m\u001b[0;34m:\u001b[0m  \u001b[0;31m# pylint:disable=broad-except\u001b[0m\u001b[0;34m\u001b[0m\u001b[0;34m\u001b[0m\u001b[0m\n\u001b[1;32m   1146\u001b[0m             \u001b[0;32mif\u001b[0m \u001b[0mhasattr\u001b[0m\u001b[0;34m(\u001b[0m\u001b[0me\u001b[0m\u001b[0;34m,\u001b[0m \u001b[0;34m\"ag_error_metadata\"\u001b[0m\u001b[0;34m)\u001b[0m\u001b[0;34m:\u001b[0m\u001b[0;34m\u001b[0m\u001b[0;34m\u001b[0m\u001b[0m\n\u001b[0;32m-> 1147\u001b[0;31m               \u001b[0;32mraise\u001b[0m \u001b[0me\u001b[0m\u001b[0;34m.\u001b[0m\u001b[0mag_error_metadata\u001b[0m\u001b[0;34m.\u001b[0m\u001b[0mto_exception\u001b[0m\u001b[0;34m(\u001b[0m\u001b[0me\u001b[0m\u001b[0;34m)\u001b[0m\u001b[0;34m\u001b[0m\u001b[0;34m\u001b[0m\u001b[0m\n\u001b[0m\u001b[1;32m   1148\u001b[0m             \u001b[0;32melse\u001b[0m\u001b[0;34m:\u001b[0m\u001b[0;34m\u001b[0m\u001b[0;34m\u001b[0m\u001b[0m\n\u001b[1;32m   1149\u001b[0m               \u001b[0;32mraise\u001b[0m\u001b[0;34m\u001b[0m\u001b[0;34m\u001b[0m\u001b[0m\n",
            "\u001b[0;31mValueError\u001b[0m: in user code:\n\n    File \"/usr/local/lib/python3.7/dist-packages/keras/engine/training.py\", line 1801, in predict_function  *\n        return step_function(self, iterator)\n    File \"/usr/local/lib/python3.7/dist-packages/keras/engine/training.py\", line 1790, in step_function  **\n        outputs = model.distribute_strategy.run(run_step, args=(data,))\n    File \"/usr/local/lib/python3.7/dist-packages/keras/engine/training.py\", line 1783, in run_step  **\n        outputs = model.predict_step(data)\n    File \"/usr/local/lib/python3.7/dist-packages/keras/engine/training.py\", line 1751, in predict_step\n        return self(x, training=False)\n    File \"/usr/local/lib/python3.7/dist-packages/keras/utils/traceback_utils.py\", line 67, in error_handler\n        raise e.with_traceback(filtered_tb) from None\n    File \"/usr/local/lib/python3.7/dist-packages/keras/engine/input_spec.py\", line 264, in assert_input_compatibility\n        raise ValueError(f'Input {input_index} of layer \"{layer_name}\" is '\n\n    ValueError: Input 0 of layer \"model_3\" is incompatible with the layer: expected shape=(None, 100), found shape=(None, 50)\n"
          ]
        }
      ]
    },
    {
      "cell_type": "code",
      "source": [
        "assert len(test_df['target']) == 3263"
      ],
      "metadata": {
        "id": "Nkhw3dXNXH3K"
      },
      "execution_count": null,
      "outputs": []
    },
    {
      "cell_type": "code",
      "source": [
        "test_df.to_csv('submission.csv',index=False,header=True)\n"
      ],
      "metadata": {
        "id": "d338oVdjXKUc"
      },
      "execution_count": null,
      "outputs": []
    }
  ]
}