{
  "nbformat": 4,
  "nbformat_minor": 0,
  "metadata": {
    "colab": {
      "name": "bert-cnn.ipynb",
      "provenance": [],
      "collapsed_sections": [],
      "authorship_tag": "ABX9TyP25Fquv08ZPKU2HQKvjj/S",
      "include_colab_link": true
    },
    "kernelspec": {
      "name": "python3",
      "display_name": "Python 3"
    },
    "language_info": {
      "name": "python"
    }
  },
  "cells": [
    {
      "cell_type": "markdown",
      "metadata": {
        "id": "view-in-github",
        "colab_type": "text"
      },
      "source": [
        "<a href=\"https://colab.research.google.com/github/ahmadharimukti/contohbaru/blob/main/bert_cnn.ipynb\" target=\"_parent\"><img src=\"https://colab.research.google.com/assets/colab-badge.svg\" alt=\"Open In Colab\"/></a>"
      ]
    },
    {
      "cell_type": "markdown",
      "source": [
        "# Bert-LTSM-CNN"
      ],
      "metadata": {
        "id": "0WEbbL5RZTX8"
      }
    },
    {
      "cell_type": "code",
      "execution_count": 23,
      "metadata": {
        "colab": {
          "base_uri": "https://localhost:8080/"
        },
        "id": "mTeUY7CATXCb",
        "outputId": "6cbd63ae-1429-4749-ea43-bd585e640339"
      },
      "outputs": [
        {
          "output_type": "stream",
          "name": "stdout",
          "text": [
            "Requirement already satisfied: bert-for-tf2 in /usr/local/lib/python3.7/dist-packages (0.14.9)\n",
            "Requirement already satisfied: py-params>=0.9.6 in /usr/local/lib/python3.7/dist-packages (from bert-for-tf2) (0.10.2)\n",
            "Requirement already satisfied: params-flow>=0.8.0 in /usr/local/lib/python3.7/dist-packages (from bert-for-tf2) (0.8.2)\n",
            "Requirement already satisfied: numpy in /usr/local/lib/python3.7/dist-packages (from params-flow>=0.8.0->bert-for-tf2) (1.21.6)\n",
            "Requirement already satisfied: tqdm in /usr/local/lib/python3.7/dist-packages (from params-flow>=0.8.0->bert-for-tf2) (4.64.0)\n"
          ]
        }
      ],
      "source": [
        "# Some pip install for BERT\n",
        "!pip install bert-for-tf2"
      ]
    },
    {
      "cell_type": "code",
      "source": [
        "# Import all dependencies to be used\n",
        "\n",
        "import numpy as np # linear algebra\n",
        "import pandas as pd # data processing, CSV file I/O (e.g. pd.read_csv)\n",
        "import tensorflow as tf # machine learning and neural nets\n",
        "import tensorflow_datasets as tfds # for text preprocessing\n",
        "import tensorflow_hub as hub\n",
        "import bert\n",
        "from nltk.sentiment.vader import SentimentIntensityAnalyzer # NLTK class object for determining sentiment of text"
      ],
      "metadata": {
        "id": "7pHW4Pw9UR_n"
      },
      "execution_count": 24,
      "outputs": []
    },
    {
      "cell_type": "code",
      "source": [
        "#Mount your drive account into colab\n",
        "\n",
        "from google.colab import drive\n",
        "drive.mount('/content/drive/', force_remount=True)"
      ],
      "metadata": {
        "colab": {
          "base_uri": "https://localhost:8080/"
        },
        "id": "i8j5eLo9VOec",
        "outputId": "33d59c6d-975f-4ad8-872c-97b09b8e6086"
      },
      "execution_count": 25,
      "outputs": [
        {
          "output_type": "stream",
          "name": "stdout",
          "text": [
            "Mounted at /content/drive/\n"
          ]
        }
      ]
    },
    {
      "cell_type": "code",
      "source": [
        "df = pd.read_csv('drive/My Drive/Colab Notebooks/data/Twitter Spam/barutrain.csv')\n",
        "df.head()"
      ],
      "metadata": {
        "colab": {
          "base_uri": "https://localhost:8080/",
          "height": 206
        },
        "id": "CX8GuEt0V4xv",
        "outputId": "91f18a25-8121-436d-bcdf-7ba474457a80"
      },
      "execution_count": 26,
      "outputs": [
        {
          "output_type": "execute_result",
          "data": {
            "text/plain": [
              "                                               Tweet  following  followers  \\\n",
              "0                     Good Morning Love  @LeeBrown_V        0.0        0.0   \n",
              "1           '@realDonaldTrump @USNavy RIP TO HEROES'    42096.0    61060.0   \n",
              "2  Haven't been following the news but I understa...        0.0        0.0   \n",
              "3  pic.twitter.com/dy9q4ftLhZ What to do with pap...        0.0        0.0   \n",
              "4  #DidYouKnow ► Mahatma Gandhi made a brief visi...    17800.0    35100.0   \n",
              "\n",
              "   actions  is_retweet                        location     Type  Unnamed: 7  \n",
              "0      0.0         0.0               Pennsylvania, USA  Quality         NaN  \n",
              "1   5001.0         0.0       South Padre Island, Texas     Spam         NaN  \n",
              "2      NaN         0.0  Will never be broke ever again  Quality         NaN  \n",
              "3      0.0         0.0                           Mundo  Quality         NaN  \n",
              "4      NaN         0.0             Nottingham, England  Quality         NaN  "
            ],
            "text/html": [
              "\n",
              "  <div id=\"df-70d1715b-a760-43ab-a080-0addc7fd667e\">\n",
              "    <div class=\"colab-df-container\">\n",
              "      <div>\n",
              "<style scoped>\n",
              "    .dataframe tbody tr th:only-of-type {\n",
              "        vertical-align: middle;\n",
              "    }\n",
              "\n",
              "    .dataframe tbody tr th {\n",
              "        vertical-align: top;\n",
              "    }\n",
              "\n",
              "    .dataframe thead th {\n",
              "        text-align: right;\n",
              "    }\n",
              "</style>\n",
              "<table border=\"1\" class=\"dataframe\">\n",
              "  <thead>\n",
              "    <tr style=\"text-align: right;\">\n",
              "      <th></th>\n",
              "      <th>Tweet</th>\n",
              "      <th>following</th>\n",
              "      <th>followers</th>\n",
              "      <th>actions</th>\n",
              "      <th>is_retweet</th>\n",
              "      <th>location</th>\n",
              "      <th>Type</th>\n",
              "      <th>Unnamed: 7</th>\n",
              "    </tr>\n",
              "  </thead>\n",
              "  <tbody>\n",
              "    <tr>\n",
              "      <th>0</th>\n",
              "      <td>Good Morning Love  @LeeBrown_V</td>\n",
              "      <td>0.0</td>\n",
              "      <td>0.0</td>\n",
              "      <td>0.0</td>\n",
              "      <td>0.0</td>\n",
              "      <td>Pennsylvania, USA</td>\n",
              "      <td>Quality</td>\n",
              "      <td>NaN</td>\n",
              "    </tr>\n",
              "    <tr>\n",
              "      <th>1</th>\n",
              "      <td>'@realDonaldTrump @USNavy RIP TO HEROES'</td>\n",
              "      <td>42096.0</td>\n",
              "      <td>61060.0</td>\n",
              "      <td>5001.0</td>\n",
              "      <td>0.0</td>\n",
              "      <td>South Padre Island, Texas</td>\n",
              "      <td>Spam</td>\n",
              "      <td>NaN</td>\n",
              "    </tr>\n",
              "    <tr>\n",
              "      <th>2</th>\n",
              "      <td>Haven't been following the news but I understa...</td>\n",
              "      <td>0.0</td>\n",
              "      <td>0.0</td>\n",
              "      <td>NaN</td>\n",
              "      <td>0.0</td>\n",
              "      <td>Will never be broke ever again</td>\n",
              "      <td>Quality</td>\n",
              "      <td>NaN</td>\n",
              "    </tr>\n",
              "    <tr>\n",
              "      <th>3</th>\n",
              "      <td>pic.twitter.com/dy9q4ftLhZ What to do with pap...</td>\n",
              "      <td>0.0</td>\n",
              "      <td>0.0</td>\n",
              "      <td>0.0</td>\n",
              "      <td>0.0</td>\n",
              "      <td>Mundo</td>\n",
              "      <td>Quality</td>\n",
              "      <td>NaN</td>\n",
              "    </tr>\n",
              "    <tr>\n",
              "      <th>4</th>\n",
              "      <td>#DidYouKnow ► Mahatma Gandhi made a brief visi...</td>\n",
              "      <td>17800.0</td>\n",
              "      <td>35100.0</td>\n",
              "      <td>NaN</td>\n",
              "      <td>0.0</td>\n",
              "      <td>Nottingham, England</td>\n",
              "      <td>Quality</td>\n",
              "      <td>NaN</td>\n",
              "    </tr>\n",
              "  </tbody>\n",
              "</table>\n",
              "</div>\n",
              "      <button class=\"colab-df-convert\" onclick=\"convertToInteractive('df-70d1715b-a760-43ab-a080-0addc7fd667e')\"\n",
              "              title=\"Convert this dataframe to an interactive table.\"\n",
              "              style=\"display:none;\">\n",
              "        \n",
              "  <svg xmlns=\"http://www.w3.org/2000/svg\" height=\"24px\"viewBox=\"0 0 24 24\"\n",
              "       width=\"24px\">\n",
              "    <path d=\"M0 0h24v24H0V0z\" fill=\"none\"/>\n",
              "    <path d=\"M18.56 5.44l.94 2.06.94-2.06 2.06-.94-2.06-.94-.94-2.06-.94 2.06-2.06.94zm-11 1L8.5 8.5l.94-2.06 2.06-.94-2.06-.94L8.5 2.5l-.94 2.06-2.06.94zm10 10l.94 2.06.94-2.06 2.06-.94-2.06-.94-.94-2.06-.94 2.06-2.06.94z\"/><path d=\"M17.41 7.96l-1.37-1.37c-.4-.4-.92-.59-1.43-.59-.52 0-1.04.2-1.43.59L10.3 9.45l-7.72 7.72c-.78.78-.78 2.05 0 2.83L4 21.41c.39.39.9.59 1.41.59.51 0 1.02-.2 1.41-.59l7.78-7.78 2.81-2.81c.8-.78.8-2.07 0-2.86zM5.41 20L4 18.59l7.72-7.72 1.47 1.35L5.41 20z\"/>\n",
              "  </svg>\n",
              "      </button>\n",
              "      \n",
              "  <style>\n",
              "    .colab-df-container {\n",
              "      display:flex;\n",
              "      flex-wrap:wrap;\n",
              "      gap: 12px;\n",
              "    }\n",
              "\n",
              "    .colab-df-convert {\n",
              "      background-color: #E8F0FE;\n",
              "      border: none;\n",
              "      border-radius: 50%;\n",
              "      cursor: pointer;\n",
              "      display: none;\n",
              "      fill: #1967D2;\n",
              "      height: 32px;\n",
              "      padding: 0 0 0 0;\n",
              "      width: 32px;\n",
              "    }\n",
              "\n",
              "    .colab-df-convert:hover {\n",
              "      background-color: #E2EBFA;\n",
              "      box-shadow: 0px 1px 2px rgba(60, 64, 67, 0.3), 0px 1px 3px 1px rgba(60, 64, 67, 0.15);\n",
              "      fill: #174EA6;\n",
              "    }\n",
              "\n",
              "    [theme=dark] .colab-df-convert {\n",
              "      background-color: #3B4455;\n",
              "      fill: #D2E3FC;\n",
              "    }\n",
              "\n",
              "    [theme=dark] .colab-df-convert:hover {\n",
              "      background-color: #434B5C;\n",
              "      box-shadow: 0px 1px 3px 1px rgba(0, 0, 0, 0.15);\n",
              "      filter: drop-shadow(0px 1px 2px rgba(0, 0, 0, 0.3));\n",
              "      fill: #FFFFFF;\n",
              "    }\n",
              "  </style>\n",
              "\n",
              "      <script>\n",
              "        const buttonEl =\n",
              "          document.querySelector('#df-70d1715b-a760-43ab-a080-0addc7fd667e button.colab-df-convert');\n",
              "        buttonEl.style.display =\n",
              "          google.colab.kernel.accessAllowed ? 'block' : 'none';\n",
              "\n",
              "        async function convertToInteractive(key) {\n",
              "          const element = document.querySelector('#df-70d1715b-a760-43ab-a080-0addc7fd667e');\n",
              "          const dataTable =\n",
              "            await google.colab.kernel.invokeFunction('convertToInteractive',\n",
              "                                                     [key], {});\n",
              "          if (!dataTable) return;\n",
              "\n",
              "          const docLinkHtml = 'Like what you see? Visit the ' +\n",
              "            '<a target=\"_blank\" href=https://colab.research.google.com/notebooks/data_table.ipynb>data table notebook</a>'\n",
              "            + ' to learn more about interactive tables.';\n",
              "          element.innerHTML = '';\n",
              "          dataTable['output_type'] = 'display_data';\n",
              "          await google.colab.output.renderOutput(dataTable, element);\n",
              "          const docLink = document.createElement('div');\n",
              "          docLink.innerHTML = docLinkHtml;\n",
              "          element.appendChild(docLink);\n",
              "        }\n",
              "      </script>\n",
              "    </div>\n",
              "  </div>\n",
              "  "
            ]
          },
          "metadata": {},
          "execution_count": 26
        }
      ]
    },
    {
      "cell_type": "code",
      "source": [
        "# Check the description and information relevant from the train.csv dataframe\n",
        "print(df.info())"
      ],
      "metadata": {
        "colab": {
          "base_uri": "https://localhost:8080/"
        },
        "id": "8RF5qOMPWS6Q",
        "outputId": "2114d0d9-a59c-4365-c567-e99973ccfb34"
      },
      "execution_count": 27,
      "outputs": [
        {
          "output_type": "stream",
          "name": "stdout",
          "text": [
            "<class 'pandas.core.frame.DataFrame'>\n",
            "RangeIndex: 14899 entries, 0 to 14898\n",
            "Data columns (total 8 columns):\n",
            " #   Column      Non-Null Count  Dtype  \n",
            "---  ------      --------------  -----  \n",
            " 0   Tweet       14899 non-null  object \n",
            " 1   following   14741 non-null  float64\n",
            " 2   followers   14882 non-null  float64\n",
            " 3   actions     11462 non-null  float64\n",
            " 4   is_retweet  14898 non-null  float64\n",
            " 5   location    12888 non-null  object \n",
            " 6   Type        14899 non-null  object \n",
            " 7   Unnamed: 7  0 non-null      float64\n",
            "dtypes: float64(5), object(3)\n",
            "memory usage: 931.3+ KB\n",
            "None\n"
          ]
        }
      ]
    },
    {
      "cell_type": "markdown",
      "source": [
        "# Text Cleaning and BERT Prep"
      ],
      "metadata": {
        "id": "UN_VQlX1Ze9y"
      }
    },
    {
      "cell_type": "code",
      "source": [
        "# Import dependency for string cleaning\n",
        "import re\n",
        "\n",
        "# Grab a sample string for display purposes\n",
        "text_str = df.loc[984,'Tweet']\n",
        "\n",
        "def clean_text(text):\n",
        "    '''\n",
        "    Function to clean text and remove unnecessary components and ease tokenization.\n",
        "    :param: text: the string to be cleaned\n",
        "    :output: text: the cleaned string\n",
        "    '''\n",
        "    text = re.sub(r'https?://\\S+', '', text) # remove link\n",
        "    text = re.sub(r'#\\w+', '', text) # remove hashtags\n",
        "    text = re.sub(r'@\\w+', '', text) # remove mentions\n",
        "    text = re.sub(r'\\n', ' ', text) # remove linebreaks\n",
        "    text = re.sub(r'\\s+', ' ', text) # remove leading and trailing spaces\n",
        "    return text\n",
        "\n",
        "# Show the cleaned version of the sample text\n",
        "print(f'Starting text: {text_str}')\n",
        "print(f'Cleaned text: {clean_text(text_str)}')"
      ],
      "metadata": {
        "colab": {
          "base_uri": "https://localhost:8080/"
        },
        "id": "V2HRJNHBWXIz",
        "outputId": "af5e91ad-3ecc-449d-93f2-d457da592903"
      },
      "execution_count": 28,
      "outputs": [
        {
          "output_type": "stream",
          "name": "stdout",
          "text": [
            "Starting text: Very much worth reading: Joseph Epstein pays tribute to Michael Oakeshott.   http://t.co/n3Y4VCmMCv\n",
            "Cleaned text: Very much worth reading: Joseph Epstein pays tribute to Michael Oakeshott. \n"
          ]
        }
      ]
    },
    {
      "cell_type": "code",
      "source": [
        "def bert_encoding(texts, tokenizer, max_len=512):\n",
        "    '''\n",
        "    Function to encode text into tokens, masks, and segment_ids for BERT embedding layer input.\n",
        "    \n",
        "    :param: texts - the texts to tokenize\n",
        "    :param: tokenizer - the BERT tokenizer that will be used to tokenize the texts\n",
        "    :param: max_len - the maximum length of an input sequence (the sequence of tokens to be embedded)\n",
        "    \n",
        "    :output: all_tokens - the texts turned into tokens and padded for match length, returned as np.array\n",
        "    :output: all_masks - masks for each text denoted sequence length and pad length, returned as np.array\n",
        "    :output: all_segments - segment_ids for each text, all blank, returned as np.array\n",
        "    '''\n",
        "    all_tokens = [] # initiated list for tokens\n",
        "    all_masks = [] # initiated list for masks\n",
        "    all_segments = [] # initiated list for segment_ids\n",
        "    \n",
        "    # Iterate through all texts\n",
        "    for text in texts:\n",
        "        \n",
        "        # Tokenize text\n",
        "        text = tokenizer.tokenize(text)\n",
        "        \n",
        "        # Make room for the CLS and SEP tokens\n",
        "        text = text[:max_len-2]\n",
        "        \n",
        "        # Create the input sequence beginning with [CLS] and ending with [SEP]\n",
        "        input_sequence = [\"[CLS]\"] + text + [\"[SEP]\"]\n",
        "        \n",
        "        # Determine how much padding is required (max_length - length of the input sequence)\n",
        "        pad_len = max_len - len(input_sequence)\n",
        "        \n",
        "        # Create token ids, used by BERT\n",
        "        tokens = tokenizer.convert_tokens_to_ids(input_sequence)\n",
        "        \n",
        "        # Pad the tokens by 0's for the pad length determined above\n",
        "        tokens += [0] * pad_len\n",
        "        \n",
        "        # Create the masks for the sequence, with the 1 for each token id and 0 for all padding\n",
        "        pad_masks = [1] * len(input_sequence) + [0] * pad_len\n",
        "        \n",
        "        # All empty segment_ids for the max length\n",
        "        segment_ids = [0] * max_len\n",
        "        \n",
        "        # Append all tokens, masks, and segment_ids to the initialized lists\n",
        "        all_tokens.append(tokens)\n",
        "        all_masks.append(pad_masks)\n",
        "        all_segments.append(segment_ids)\n",
        "        \n",
        "    return np.array(all_tokens), np.array(all_masks), np.array(all_segments)"
      ],
      "metadata": {
        "id": "kJleH4xLWk2E"
      },
      "execution_count": 29,
      "outputs": []
    },
    {
      "cell_type": "code",
      "source": [
        "# Initialize the tokenizer\n",
        "BertTokenizer = bert.bert_tokenization.FullTokenizer\n",
        "\n",
        "# Load the BERT layer\n",
        "bert_layer = hub.KerasLayer(\"https://tfhub.dev/tensorflow/bert_en_uncased_L-12_H-768_A-12/1\",\n",
        "                            trainable=False)\n",
        "\n",
        "# Import the vocab files, and the lower case function\n",
        "vocabulary_file = bert_layer.resolved_object.vocab_file.asset_path.numpy()\n",
        "to_lower_case = bert_layer.resolved_object.do_lower_case.numpy()\n",
        "\n",
        "# Load the tokenizer with the preloaded vocab file and lower case function\n",
        "tokenizer = BertTokenizer(vocabulary_file, to_lower_case)\n",
        "\n",
        "# Give a sample of how the tokenizer works\n",
        "tokenizer.tokenize(\"What cool code, where'd ya learn it all?\")"
      ],
      "metadata": {
        "colab": {
          "base_uri": "https://localhost:8080/"
        },
        "id": "7h6Hu4DzWqxM",
        "outputId": "66ee30ac-ec79-41f2-a469-024cb608aaa5"
      },
      "execution_count": 30,
      "outputs": [
        {
          "output_type": "execute_result",
          "data": {
            "text/plain": [
              "['what',\n",
              " 'cool',\n",
              " 'code',\n",
              " ',',\n",
              " 'where',\n",
              " \"'\",\n",
              " 'd',\n",
              " 'ya',\n",
              " 'learn',\n",
              " 'it',\n",
              " 'all',\n",
              " '?']"
            ]
          },
          "metadata": {},
          "execution_count": 30
        }
      ]
    },
    {
      "cell_type": "code",
      "source": [
        "df[\"Type\"].value_counts()"
      ],
      "metadata": {
        "colab": {
          "base_uri": "https://localhost:8080/"
        },
        "id": "0Df5iF4EYLLm",
        "outputId": "dae7c538-c49c-465c-eb5c-32bf21f949ad"
      },
      "execution_count": 31,
      "outputs": [
        {
          "output_type": "execute_result",
          "data": {
            "text/plain": [
              "Quality    7455\n",
              "Spam       7444\n",
              "Name: Type, dtype: int64"
            ]
          },
          "metadata": {},
          "execution_count": 31
        }
      ]
    },
    {
      "cell_type": "code",
      "source": [
        ""
      ],
      "metadata": {
        "id": "QgW7BSmgXLVy"
      },
      "execution_count": 31,
      "outputs": []
    },
    {
      "cell_type": "code",
      "source": [
        "# Clean the text data\n",
        "df['text_clean'] = df['Tweet'].apply(lambda x: clean_text(x))\n",
        "\n",
        "# Lowercase the text data\n",
        "df['text_lowered'] = df['text_clean'].apply(lambda x: x.lower())\n",
        "\n",
        "# Set targets\n",
        "targets = df['Type']"
      ],
      "metadata": {
        "id": "VronEeEsW0-6"
      },
      "execution_count": 32,
      "outputs": []
    },
    {
      "cell_type": "code",
      "source": [
        "# Load dependency for train_test_split function\n",
        "from sklearn.model_selection import train_test_split\n",
        "\n",
        "# Prepare the X and Y train and test datasets\n",
        "X_train,X_test,Y_train,Y_test = train_test_split(list(df['text_lowered']),targets,test_size=0.2,random_state=28)"
      ],
      "metadata": {
        "id": "gzMBro-xZFJI"
      },
      "execution_count": 33,
      "outputs": []
    },
    {
      "cell_type": "code",
      "source": [
        "# Finally, run the X train and test (the cleaned and lowered text data) through the BERT encoding function\n",
        "# with the BERT tokenizer we prepped and a max_len parameter chosen by you\n",
        "train_input = bert_encoding(X_train, tokenizer, max_len=100)\n",
        "test_input = bert_encoding(X_test, tokenizer, max_len=100)"
      ],
      "metadata": {
        "id": "uHX844g6ZGpW"
      },
      "execution_count": 34,
      "outputs": []
    },
    {
      "cell_type": "markdown",
      "source": [
        "# Building the Model and Testing"
      ],
      "metadata": {
        "id": "HbJjZ_WQZkUM"
      }
    },
    {
      "cell_type": "code",
      "source": [
        "def build_model(bert_layer, max_len=512):\n",
        "    '''\n",
        "    Function to build a tensorflow machine learning neural network model.\n",
        "    \n",
        "    :param: bert_layer - the loaded BERT layer from TF hub\n",
        "    :param: max_len - the maximum length of an input sequence for encoding purposes, used here to denote the input shape\n",
        "    \n",
        "    :output: Model - Tensorflow keras model with inputs and outputs designated\n",
        "    '''\n",
        "    # INPUTS\n",
        "    input_word_ids = tf.keras.Input(shape=(max_len,), dtype=tf.int32, name='input_word_ids')\n",
        "    input_mask = tf.keras.Input(shape=(max_len,), dtype=tf.int32, name='input_mask')\n",
        "    segment_ids = tf.keras.Input(shape=(max_len,), dtype=tf.int32, name='segment_ids')\n",
        "    \n",
        "    # BERT EMBEDDING\n",
        "    _, sequence_output = bert_layer([input_word_ids,input_mask,segment_ids])\n",
        "    clf_output = sequence_output[:, 0, :]\n",
        "    clf_output_ = tf.keras.layers.Reshape((32,24))(clf_output)\n",
        "    \n",
        "    # HIDDEN\n",
        "    hidden = tf.keras.layers.Dense(128,activation='relu')(clf_output)\n",
        "    hidden2 = tf.keras.layers.Dense(64,activation='relu')(hidden)\n",
        "    drop = tf.keras.layers.Dropout(0.1)(hidden2)\n",
        "    \n",
        "    # CHANNEL 2 - LSTM\n",
        "    lstm = tf.keras.layers.Bidirectional(tf.keras.layers.LSTM(128,\n",
        "                                kernel_regularizer=tf.keras.regularizers.L2(0.001),\n",
        "                                                             return_sequences=True))(clf_output_)\n",
        "    drop2 = tf.keras.layers.Dropout(0.1)(lstm)\n",
        "    cnn = tf.keras.layers.Conv1D(64,5,\n",
        "                                kernel_regularizer=tf.keras.regularizers.L2(0.001))(drop2)\n",
        "    max_pool = tf.keras.layers.MaxPooling1D(25)(cnn)\n",
        "    flat = tf.keras.layers.Flatten(data_format='channels_last')(max_pool)\n",
        "    \n",
        "    # OUTPUTS\n",
        "    concat = tf.keras.layers.Concatenate()([drop,flat])\n",
        "    output_target = tf.keras.layers.Dense(1,activation='sigmoid')(concat)\n",
        "    \n",
        "    return tf.keras.Model(inputs=[input_word_ids,input_mask,segment_ids],outputs=output_target)"
      ],
      "metadata": {
        "id": "7vczjApoZLQT"
      },
      "execution_count": 41,
      "outputs": []
    },
    {
      "cell_type": "code",
      "source": [
        "# Build the model\n",
        "model = build_model(bert_layer,max_len=100)"
      ],
      "metadata": {
        "id": "F0A2xuDFZw3L"
      },
      "execution_count": 42,
      "outputs": []
    },
    {
      "cell_type": "markdown",
      "source": [
        ""
      ],
      "metadata": {
        "id": "ZY-nfNDmVUAp"
      }
    },
    {
      "cell_type": "code",
      "source": [
        "model.summary()"
      ],
      "metadata": {
        "colab": {
          "base_uri": "https://localhost:8080/"
        },
        "id": "l5rcTymuZ1uS",
        "outputId": "0db6a4f5-2370-4f53-c96f-aaf6a746a922"
      },
      "execution_count": 43,
      "outputs": [
        {
          "output_type": "stream",
          "name": "stdout",
          "text": [
            "Model: \"model_2\"\n",
            "__________________________________________________________________________________________________\n",
            " Layer (type)                   Output Shape         Param #     Connected to                     \n",
            "==================================================================================================\n",
            " input_word_ids (InputLayer)    [(None, 100)]        0           []                               \n",
            "                                                                                                  \n",
            " input_mask (InputLayer)        [(None, 100)]        0           []                               \n",
            "                                                                                                  \n",
            " segment_ids (InputLayer)       [(None, 100)]        0           []                               \n",
            "                                                                                                  \n",
            " keras_layer_1 (KerasLayer)     [(None, 768),        109482241   ['input_word_ids[0][0]',         \n",
            "                                 (None, 100, 768)]                'input_mask[0][0]',             \n",
            "                                                                  'segment_ids[0][0]']            \n",
            "                                                                                                  \n",
            " tf.__operators__.getitem_2 (Sl  (None, 768)         0           ['keras_layer_1[1][1]']          \n",
            " icingOpLambda)                                                                                   \n",
            "                                                                                                  \n",
            " reshape_2 (Reshape)            (None, 32, 24)       0           ['tf.__operators__.getitem_2[0][0\n",
            "                                                                 ]']                              \n",
            "                                                                                                  \n",
            " bidirectional_2 (Bidirectional  (None, 32, 256)     156672      ['reshape_2[0][0]']              \n",
            " )                                                                                                \n",
            "                                                                                                  \n",
            " dropout_5 (Dropout)            (None, 32, 256)      0           ['bidirectional_2[0][0]']        \n",
            "                                                                                                  \n",
            " dense_6 (Dense)                (None, 128)          98432       ['tf.__operators__.getitem_2[0][0\n",
            "                                                                 ]']                              \n",
            "                                                                                                  \n",
            " conv1d_2 (Conv1D)              (None, 28, 64)       81984       ['dropout_5[0][0]']              \n",
            "                                                                                                  \n",
            " dense_7 (Dense)                (None, 64)           8256        ['dense_6[0][0]']                \n",
            "                                                                                                  \n",
            " max_pooling1d_2 (MaxPooling1D)  (None, 1, 64)       0           ['conv1d_2[0][0]']               \n",
            "                                                                                                  \n",
            " dropout_4 (Dropout)            (None, 64)           0           ['dense_7[0][0]']                \n",
            "                                                                                                  \n",
            " flatten_2 (Flatten)            (None, 64)           0           ['max_pooling1d_2[0][0]']        \n",
            "                                                                                                  \n",
            " concatenate_2 (Concatenate)    (None, 128)          0           ['dropout_4[0][0]',              \n",
            "                                                                  'flatten_2[0][0]']              \n",
            "                                                                                                  \n",
            " dense_8 (Dense)                (None, 2)            258         ['concatenate_2[0][0]']          \n",
            "                                                                                                  \n",
            "==================================================================================================\n",
            "Total params: 109,827,843\n",
            "Trainable params: 345,602\n",
            "Non-trainable params: 109,482,241\n",
            "__________________________________________________________________________________________________\n"
          ]
        }
      ]
    },
    {
      "cell_type": "code",
      "source": [
        "model.compile(optimizer=tf.keras.optimizers.Adam(lr=2e-6),loss='binary_crossentropy',metrics=['accuracy',tf.keras.metrics.AUC()])"
      ],
      "metadata": {
        "colab": {
          "base_uri": "https://localhost:8080/"
        },
        "id": "TmnCto0WZ6tp",
        "outputId": "afafd8a8-19e3-4da3-fd03-97d27b908cb8"
      },
      "execution_count": 44,
      "outputs": [
        {
          "output_type": "stream",
          "name": "stderr",
          "text": [
            "/usr/local/lib/python3.7/dist-packages/keras/optimizer_v2/adam.py:105: UserWarning: The `lr` argument is deprecated, use `learning_rate` instead.\n",
            "  super(Adam, self).__init__(name, **kwargs)\n"
          ]
        }
      ]
    },
    {
      "cell_type": "code",
      "source": [
        "tf.keras.utils.plot_model(model)"
      ],
      "metadata": {
        "colab": {
          "base_uri": "https://localhost:8080/",
          "height": 1000
        },
        "id": "m6Fh8C3nZ8kg",
        "outputId": "7eccfc57-a749-4149-915b-9250b486d111"
      },
      "execution_count": 45,
      "outputs": [
        {
          "output_type": "execute_result",
          "data": {
            "text/plain": [
              "<IPython.core.display.Image object>"
            ],
            "image/png": "[encoded data removed]"
          },
          "metadata": {},
          "execution_count": 45
        }
      ]
    },
    {
      "cell_type": "code",
      "source": [
        "train_history = model.fit(train_input,Y_train,epochs=3,batch_size=16,validation_split=0.2)\n"
      ],
      "metadata": {
        "colab": {
          "base_uri": "https://localhost:8080/",
          "height": 727
        },
        "id": "DRvZTHfGaEiT",
        "outputId": "a857ba7d-ce9f-4146-d069-8022a0c008d8"
      },
      "execution_count": 47,
      "outputs": [
        {
          "output_type": "stream",
          "name": "stdout",
          "text": [
            "Epoch 1/3\n"
          ]
        },
        {
          "output_type": "error",
          "ename": "ValueError",
          "evalue": "ignored",
          "traceback": [
            "\u001b[0;31m---------------------------------------------------------------------------\u001b[0m",
            "\u001b[0;31mValueError\u001b[0m                                Traceback (most recent call last)",
            "\u001b[0;32m<ipython-input-47-f472d58b0608>\u001b[0m in \u001b[0;36m<module>\u001b[0;34m()\u001b[0m\n\u001b[0;32m----> 1\u001b[0;31m \u001b[0mtrain_history\u001b[0m \u001b[0;34m=\u001b[0m \u001b[0mmodel\u001b[0m\u001b[0;34m.\u001b[0m\u001b[0mfit\u001b[0m\u001b[0;34m(\u001b[0m\u001b[0mtrain_input\u001b[0m\u001b[0;34m,\u001b[0m\u001b[0mY_train\u001b[0m\u001b[0;34m,\u001b[0m\u001b[0mepochs\u001b[0m\u001b[0;34m=\u001b[0m\u001b[0;36m3\u001b[0m\u001b[0;34m,\u001b[0m\u001b[0mbatch_size\u001b[0m\u001b[0;34m=\u001b[0m\u001b[0;36m16\u001b[0m\u001b[0;34m,\u001b[0m\u001b[0mvalidation_split\u001b[0m\u001b[0;34m=\u001b[0m\u001b[0;36m0.2\u001b[0m\u001b[0;34m)\u001b[0m\u001b[0;34m\u001b[0m\u001b[0;34m\u001b[0m\u001b[0m\n\u001b[0m",
            "\u001b[0;32m/usr/local/lib/python3.7/dist-packages/keras/utils/traceback_utils.py\u001b[0m in \u001b[0;36merror_handler\u001b[0;34m(*args, **kwargs)\u001b[0m\n\u001b[1;32m     65\u001b[0m     \u001b[0;32mexcept\u001b[0m \u001b[0mException\u001b[0m \u001b[0;32mas\u001b[0m \u001b[0me\u001b[0m\u001b[0;34m:\u001b[0m  \u001b[0;31m# pylint: disable=broad-except\u001b[0m\u001b[0;34m\u001b[0m\u001b[0;34m\u001b[0m\u001b[0m\n\u001b[1;32m     66\u001b[0m       \u001b[0mfiltered_tb\u001b[0m \u001b[0;34m=\u001b[0m \u001b[0m_process_traceback_frames\u001b[0m\u001b[0;34m(\u001b[0m\u001b[0me\u001b[0m\u001b[0;34m.\u001b[0m\u001b[0m__traceback__\u001b[0m\u001b[0;34m)\u001b[0m\u001b[0;34m\u001b[0m\u001b[0;34m\u001b[0m\u001b[0m\n\u001b[0;32m---> 67\u001b[0;31m       \u001b[0;32mraise\u001b[0m \u001b[0me\u001b[0m\u001b[0;34m.\u001b[0m\u001b[0mwith_traceback\u001b[0m\u001b[0;34m(\u001b[0m\u001b[0mfiltered_tb\u001b[0m\u001b[0;34m)\u001b[0m \u001b[0;32mfrom\u001b[0m \u001b[0;32mNone\u001b[0m\u001b[0;34m\u001b[0m\u001b[0;34m\u001b[0m\u001b[0m\n\u001b[0m\u001b[1;32m     68\u001b[0m     \u001b[0;32mfinally\u001b[0m\u001b[0;34m:\u001b[0m\u001b[0;34m\u001b[0m\u001b[0;34m\u001b[0m\u001b[0m\n\u001b[1;32m     69\u001b[0m       \u001b[0;32mdel\u001b[0m \u001b[0mfiltered_tb\u001b[0m\u001b[0;34m\u001b[0m\u001b[0;34m\u001b[0m\u001b[0m\n",
            "\u001b[0;32m/usr/local/lib/python3.7/dist-packages/tensorflow/python/framework/func_graph.py\u001b[0m in \u001b[0;36mautograph_handler\u001b[0;34m(*args, **kwargs)\u001b[0m\n\u001b[1;32m   1145\u001b[0m           \u001b[0;32mexcept\u001b[0m \u001b[0mException\u001b[0m \u001b[0;32mas\u001b[0m \u001b[0me\u001b[0m\u001b[0;34m:\u001b[0m  \u001b[0;31m# pylint:disable=broad-except\u001b[0m\u001b[0;34m\u001b[0m\u001b[0;34m\u001b[0m\u001b[0m\n\u001b[1;32m   1146\u001b[0m             \u001b[0;32mif\u001b[0m \u001b[0mhasattr\u001b[0m\u001b[0;34m(\u001b[0m\u001b[0me\u001b[0m\u001b[0;34m,\u001b[0m \u001b[0;34m\"ag_error_metadata\"\u001b[0m\u001b[0;34m)\u001b[0m\u001b[0;34m:\u001b[0m\u001b[0;34m\u001b[0m\u001b[0;34m\u001b[0m\u001b[0m\n\u001b[0;32m-> 1147\u001b[0;31m               \u001b[0;32mraise\u001b[0m \u001b[0me\u001b[0m\u001b[0;34m.\u001b[0m\u001b[0mag_error_metadata\u001b[0m\u001b[0;34m.\u001b[0m\u001b[0mto_exception\u001b[0m\u001b[0;34m(\u001b[0m\u001b[0me\u001b[0m\u001b[0;34m)\u001b[0m\u001b[0;34m\u001b[0m\u001b[0;34m\u001b[0m\u001b[0m\n\u001b[0m\u001b[1;32m   1148\u001b[0m             \u001b[0;32melse\u001b[0m\u001b[0;34m:\u001b[0m\u001b[0;34m\u001b[0m\u001b[0;34m\u001b[0m\u001b[0m\n\u001b[1;32m   1149\u001b[0m               \u001b[0;32mraise\u001b[0m\u001b[0;34m\u001b[0m\u001b[0;34m\u001b[0m\u001b[0m\n",
            "\u001b[0;31mValueError\u001b[0m: in user code:\n\n    File \"/usr/local/lib/python3.7/dist-packages/keras/engine/training.py\", line 1021, in train_function  *\n        return step_function(self, iterator)\n    File \"/usr/local/lib/python3.7/dist-packages/keras/engine/training.py\", line 1010, in step_function  **\n        outputs = model.distribute_strategy.run(run_step, args=(data,))\n    File \"/usr/local/lib/python3.7/dist-packages/keras/engine/training.py\", line 1000, in run_step  **\n        outputs = model.train_step(data)\n    File \"/usr/local/lib/python3.7/dist-packages/keras/engine/training.py\", line 860, in train_step\n        loss = self.compute_loss(x, y, y_pred, sample_weight)\n    File \"/usr/local/lib/python3.7/dist-packages/keras/engine/training.py\", line 919, in compute_loss\n        y, y_pred, sample_weight, regularization_losses=self.losses)\n    File \"/usr/local/lib/python3.7/dist-packages/keras/engine/compile_utils.py\", line 201, in __call__\n        loss_value = loss_obj(y_t, y_p, sample_weight=sw)\n    File \"/usr/local/lib/python3.7/dist-packages/keras/losses.py\", line 141, in __call__\n        losses = call_fn(y_true, y_pred)\n    File \"/usr/local/lib/python3.7/dist-packages/keras/losses.py\", line 245, in call  **\n        return ag_fn(y_true, y_pred, **self._fn_kwargs)\n    File \"/usr/local/lib/python3.7/dist-packages/keras/losses.py\", line 1932, in binary_crossentropy\n        backend.binary_crossentropy(y_true, y_pred, from_logits=from_logits),\n    File \"/usr/local/lib/python3.7/dist-packages/keras/backend.py\", line 5247, in binary_crossentropy\n        return tf.nn.sigmoid_cross_entropy_with_logits(labels=target, logits=output)\n\n    ValueError: `logits` and `labels` must have the same shape, received ((None, 2) vs (None, 1)).\n"
          ]
        }
      ]
    }
  ]
}