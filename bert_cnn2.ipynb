{
  "nbformat": 4,
  "nbformat_minor": 0,
  "metadata": {
    "colab": {
      "name": "bert-cnn2.ipynb",
      "provenance": [],
      "collapsed_sections": [],
      "authorship_tag": "ABX9TyMswlSC7wrtV3yuHNCPmZp/",
      "include_colab_link": true
    },
    "kernelspec": {
      "name": "python3",
      "display_name": "Python 3"
    },
    "language_info": {
      "name": "python"
    }
  },
  "cells": [
    {
      "cell_type": "markdown",
      "metadata": {
        "id": "view-in-github",
        "colab_type": "text"
      },
      "source": [
        "<a href=\"https://colab.research.google.com/github/ahmadharimukti/contohbaru/blob/main/bert_cnn2.ipynb\" target=\"_parent\"><img src=\"https://colab.research.google.com/assets/colab-badge.svg\" alt=\"Open In Colab\"/></a>"
      ]
    },
    {
      "cell_type": "code",
      "execution_count": 6,
      "metadata": {
        "colab": {
          "base_uri": "https://localhost:8080/"
        },
        "id": "eAbVPEav_pd_",
        "outputId": "3910f0db-a844-4817-afe3-e19346048305"
      },
      "outputs": [
        {
          "output_type": "stream",
          "name": "stdout",
          "text": [
            "Mounted at /content/drive/\n"
          ]
        }
      ],
      "source": [
        "import numpy as np \n",
        "import pandas as pd \n",
        "\n",
        "# import os\n",
        "# for dirname, _, filenames in os.walk('/kaggle/input'):\n",
        "#     for filename in filenames:\n",
        "#         print(os.path.join(dirname, filename))\n",
        "\n",
        "from google.colab import drive\n",
        "drive.mount('/content/drive/', force_remount=True)\n",
        "\n",
        "\n",
        "#tweets = pd.read_csv(r'C:\\Users\\TeYan\\OneDrive\\Work\\Kaggle\\Tweets_Disaster\\Data\\train.csv')\n",
        "#tweets = pd.read_csv('/Users/teyang/OneDrive/Work/Kaggle/Tweets_Disaster/Data/train.csv')"
      ]
    },
    {
      "cell_type": "code",
      "source": [
        "\n",
        "tweets = pd.read_csv('drive/My Drive/Colab Notebooks/data/Twitter Spam/trainkedua.csv')\n",
        "test = pd.read_csv('drive/My Drive/Colab Notebooks/data/Twitter Spam/test.csv')"
      ],
      "metadata": {
        "id": "rfK6Qhe4_7b6"
      },
      "execution_count": 7,
      "outputs": []
    },
    {
      "cell_type": "code",
      "source": [
        "tweets.head()"
      ],
      "metadata": {
        "colab": {
          "base_uri": "https://localhost:8080/",
          "height": 206
        },
        "id": "5A1VTlhPAqrN",
        "outputId": "d4c51a14-7e19-46c8-a543-e2d82e800e3b"
      },
      "execution_count": 8,
      "outputs": [
        {
          "output_type": "execute_result",
          "data": {
            "text/plain": [
              "                                               Tweet  following  followers  \\\n",
              "0                     Good Morning Love  @LeeBrown_V        0.0        0.0   \n",
              "1           '@realDonaldTrump @USNavy RIP TO HEROES'    42096.0    61060.0   \n",
              "2  Haven't been following the news but I understa...        0.0        0.0   \n",
              "3  pic.twitter.com/dy9q4ftLhZ What to do with pap...        0.0        0.0   \n",
              "4  #DidYouKnow ► Mahatma Gandhi made a brief visi...    17800.0    35100.0   \n",
              "\n",
              "   actions  is_retweet                        location  Type  Unnamed: 7  \n",
              "0      0.0         0.0               Pennsylvania, USA     1         NaN  \n",
              "1   5001.0         0.0       South Padre Island, Texas     0         NaN  \n",
              "2      NaN         0.0  Will never be broke ever again     1         NaN  \n",
              "3      0.0         0.0                           Mundo     1         NaN  \n",
              "4      NaN         0.0             Nottingham, England     1         NaN  "
            ],
            "text/html": [
              "\n",
              "  <div id=\"df-0bb89bdf-0b3b-4e12-a985-8044e949bc79\">\n",
              "    <div class=\"colab-df-container\">\n",
              "      <div>\n",
              "<style scoped>\n",
              "    .dataframe tbody tr th:only-of-type {\n",
              "        vertical-align: middle;\n",
              "    }\n",
              "\n",
              "    .dataframe tbody tr th {\n",
              "        vertical-align: top;\n",
              "    }\n",
              "\n",
              "    .dataframe thead th {\n",
              "        text-align: right;\n",
              "    }\n",
              "</style>\n",
              "<table border=\"1\" class=\"dataframe\">\n",
              "  <thead>\n",
              "    <tr style=\"text-align: right;\">\n",
              "      <th></th>\n",
              "      <th>Tweet</th>\n",
              "      <th>following</th>\n",
              "      <th>followers</th>\n",
              "      <th>actions</th>\n",
              "      <th>is_retweet</th>\n",
              "      <th>location</th>\n",
              "      <th>Type</th>\n",
              "      <th>Unnamed: 7</th>\n",
              "    </tr>\n",
              "  </thead>\n",
              "  <tbody>\n",
              "    <tr>\n",
              "      <th>0</th>\n",
              "      <td>Good Morning Love  @LeeBrown_V</td>\n",
              "      <td>0.0</td>\n",
              "      <td>0.0</td>\n",
              "      <td>0.0</td>\n",
              "      <td>0.0</td>\n",
              "      <td>Pennsylvania, USA</td>\n",
              "      <td>1</td>\n",
              "      <td>NaN</td>\n",
              "    </tr>\n",
              "    <tr>\n",
              "      <th>1</th>\n",
              "      <td>'@realDonaldTrump @USNavy RIP TO HEROES'</td>\n",
              "      <td>42096.0</td>\n",
              "      <td>61060.0</td>\n",
              "      <td>5001.0</td>\n",
              "      <td>0.0</td>\n",
              "      <td>South Padre Island, Texas</td>\n",
              "      <td>0</td>\n",
              "      <td>NaN</td>\n",
              "    </tr>\n",
              "    <tr>\n",
              "      <th>2</th>\n",
              "      <td>Haven't been following the news but I understa...</td>\n",
              "      <td>0.0</td>\n",
              "      <td>0.0</td>\n",
              "      <td>NaN</td>\n",
              "      <td>0.0</td>\n",
              "      <td>Will never be broke ever again</td>\n",
              "      <td>1</td>\n",
              "      <td>NaN</td>\n",
              "    </tr>\n",
              "    <tr>\n",
              "      <th>3</th>\n",
              "      <td>pic.twitter.com/dy9q4ftLhZ What to do with pap...</td>\n",
              "      <td>0.0</td>\n",
              "      <td>0.0</td>\n",
              "      <td>0.0</td>\n",
              "      <td>0.0</td>\n",
              "      <td>Mundo</td>\n",
              "      <td>1</td>\n",
              "      <td>NaN</td>\n",
              "    </tr>\n",
              "    <tr>\n",
              "      <th>4</th>\n",
              "      <td>#DidYouKnow ► Mahatma Gandhi made a brief visi...</td>\n",
              "      <td>17800.0</td>\n",
              "      <td>35100.0</td>\n",
              "      <td>NaN</td>\n",
              "      <td>0.0</td>\n",
              "      <td>Nottingham, England</td>\n",
              "      <td>1</td>\n",
              "      <td>NaN</td>\n",
              "    </tr>\n",
              "  </tbody>\n",
              "</table>\n",
              "</div>\n",
              "      <button class=\"colab-df-convert\" onclick=\"convertToInteractive('df-0bb89bdf-0b3b-4e12-a985-8044e949bc79')\"\n",
              "              title=\"Convert this dataframe to an interactive table.\"\n",
              "              style=\"display:none;\">\n",
              "        \n",
              "  <svg xmlns=\"http://www.w3.org/2000/svg\" height=\"24px\"viewBox=\"0 0 24 24\"\n",
              "       width=\"24px\">\n",
              "    <path d=\"M0 0h24v24H0V0z\" fill=\"none\"/>\n",
              "    <path d=\"M18.56 5.44l.94 2.06.94-2.06 2.06-.94-2.06-.94-.94-2.06-.94 2.06-2.06.94zm-11 1L8.5 8.5l.94-2.06 2.06-.94-2.06-.94L8.5 2.5l-.94 2.06-2.06.94zm10 10l.94 2.06.94-2.06 2.06-.94-2.06-.94-.94-2.06-.94 2.06-2.06.94z\"/><path d=\"M17.41 7.96l-1.37-1.37c-.4-.4-.92-.59-1.43-.59-.52 0-1.04.2-1.43.59L10.3 9.45l-7.72 7.72c-.78.78-.78 2.05 0 2.83L4 21.41c.39.39.9.59 1.41.59.51 0 1.02-.2 1.41-.59l7.78-7.78 2.81-2.81c.8-.78.8-2.07 0-2.86zM5.41 20L4 18.59l7.72-7.72 1.47 1.35L5.41 20z\"/>\n",
              "  </svg>\n",
              "      </button>\n",
              "      \n",
              "  <style>\n",
              "    .colab-df-container {\n",
              "      display:flex;\n",
              "      flex-wrap:wrap;\n",
              "      gap: 12px;\n",
              "    }\n",
              "\n",
              "    .colab-df-convert {\n",
              "      background-color: #E8F0FE;\n",
              "      border: none;\n",
              "      border-radius: 50%;\n",
              "      cursor: pointer;\n",
              "      display: none;\n",
              "      fill: #1967D2;\n",
              "      height: 32px;\n",
              "      padding: 0 0 0 0;\n",
              "      width: 32px;\n",
              "    }\n",
              "\n",
              "    .colab-df-convert:hover {\n",
              "      background-color: #E2EBFA;\n",
              "      box-shadow: 0px 1px 2px rgba(60, 64, 67, 0.3), 0px 1px 3px 1px rgba(60, 64, 67, 0.15);\n",
              "      fill: #174EA6;\n",
              "    }\n",
              "\n",
              "    [theme=dark] .colab-df-convert {\n",
              "      background-color: #3B4455;\n",
              "      fill: #D2E3FC;\n",
              "    }\n",
              "\n",
              "    [theme=dark] .colab-df-convert:hover {\n",
              "      background-color: #434B5C;\n",
              "      box-shadow: 0px 1px 3px 1px rgba(0, 0, 0, 0.15);\n",
              "      filter: drop-shadow(0px 1px 2px rgba(0, 0, 0, 0.3));\n",
              "      fill: #FFFFFF;\n",
              "    }\n",
              "  </style>\n",
              "\n",
              "      <script>\n",
              "        const buttonEl =\n",
              "          document.querySelector('#df-0bb89bdf-0b3b-4e12-a985-8044e949bc79 button.colab-df-convert');\n",
              "        buttonEl.style.display =\n",
              "          google.colab.kernel.accessAllowed ? 'block' : 'none';\n",
              "\n",
              "        async function convertToInteractive(key) {\n",
              "          const element = document.querySelector('#df-0bb89bdf-0b3b-4e12-a985-8044e949bc79');\n",
              "          const dataTable =\n",
              "            await google.colab.kernel.invokeFunction('convertToInteractive',\n",
              "                                                     [key], {});\n",
              "          if (!dataTable) return;\n",
              "\n",
              "          const docLinkHtml = 'Like what you see? Visit the ' +\n",
              "            '<a target=\"_blank\" href=https://colab.research.google.com/notebooks/data_table.ipynb>data table notebook</a>'\n",
              "            + ' to learn more about interactive tables.';\n",
              "          element.innerHTML = '';\n",
              "          dataTable['output_type'] = 'display_data';\n",
              "          await google.colab.output.renderOutput(dataTable, element);\n",
              "          const docLink = document.createElement('div');\n",
              "          docLink.innerHTML = docLinkHtml;\n",
              "          element.appendChild(docLink);\n",
              "        }\n",
              "      </script>\n",
              "    </div>\n",
              "  </div>\n",
              "  "
            ]
          },
          "metadata": {},
          "execution_count": 8
        }
      ]
    },
    {
      "cell_type": "code",
      "source": [
        "tweets.isnull().sum().plot(kind='bar')"
      ],
      "metadata": {
        "colab": {
          "base_uri": "https://localhost:8080/",
          "height": 334
        },
        "id": "9aqzZvcFArLf",
        "outputId": "088b701d-dc71-41ff-8499-09b1b410089f"
      },
      "execution_count": 9,
      "outputs": [
        {
          "output_type": "execute_result",
          "data": {
            "text/plain": [
              "<matplotlib.axes._subplots.AxesSubplot at 0x7fb9e3fe0f90>"
            ]
          },
          "metadata": {},
          "execution_count": 9
        },
        {
          "output_type": "display_data",
          "data": {
            "text/plain": [
              "<Figure size 432x288 with 1 Axes>"
            ],
            "image/png": "[encoded data removed]"
          },
          "metadata": {
            "needs_background": "light"
          }
        }
      ]
    },
    {
      "cell_type": "code",
      "source": [
        "import seaborn as sns\n",
        "import matplotlib.pyplot as plt\n",
        "\n",
        "color = [sns.xkcd_rgb['medium blue'], sns.xkcd_rgb['pale red']]\n",
        "sns.countplot('Type',data = tweets, palette = color)\n",
        "plt.gca().set_ylabel('Samples')"
      ],
      "metadata": {
        "colab": {
          "base_uri": "https://localhost:8080/",
          "height": 354
        },
        "id": "Xfotc2AHAwIJ",
        "outputId": "e5a7bf2e-f7e8-4f20-a607-40635b5cf388"
      },
      "execution_count": 10,
      "outputs": [
        {
          "output_type": "stream",
          "name": "stderr",
          "text": [
            "/usr/local/lib/python3.7/dist-packages/seaborn/_decorators.py:43: FutureWarning: Pass the following variable as a keyword arg: x. From version 0.12, the only valid positional argument will be `data`, and passing other arguments without an explicit keyword will result in an error or misinterpretation.\n",
            "  FutureWarning\n"
          ]
        },
        {
          "output_type": "execute_result",
          "data": {
            "text/plain": [
              "Text(0, 0.5, 'Samples')"
            ]
          },
          "metadata": {},
          "execution_count": 10
        },
        {
          "output_type": "display_data",
          "data": {
            "text/plain": [
              "<Figure size 432x288 with 1 Axes>"
            ],
            "image/png": "[encoded data removed]"
          },
          "metadata": {
            "needs_background": "light"
          }
        }
      ]
    },
    {
      "cell_type": "code",
      "source": [
        "import nltk\n",
        "nltk.download('punkt')\n",
        "from nltk import word_tokenize, sent_tokenize\n",
        "\n",
        "# count number of characters in each tweet\n",
        "tweets['char_len'] = tweets.Tweet.str.len()\n",
        "\n",
        "# count number of words in each tweet\n",
        "word_tokens = [len(word_tokenize(tweet)) for tweet in tweets.Tweet]\n",
        "tweets['word_len'] = word_tokens\n",
        "\n",
        "# count number of sentence in each tweet\n",
        "sent_tokens = [len(sent_tokenize(tweet)) for tweet in tweets.Tweet]\n",
        "tweets['sent_len'] = sent_tokens\n",
        "\n",
        "plot_cols = ['char_len','word_len','sent_len']\n",
        "plot_titles = ['Character Length','Word Length','Sentence Length']\n",
        "\n",
        "plt.figure(figsize=(20,4))\n",
        "for counter, i in enumerate([0,1,2]):\n",
        "    plt.subplot(1,3,counter+1)\n",
        "    sns.distplot(tweets[tweets.Type == 1][plot_cols[i]], label='Quality', color=color[1]).set_title(plot_titles[i])\n",
        "    sns.distplot(tweets[tweets.Type == 0][plot_cols[i]], label='Spam', color=color[0])\n",
        "    plt.legend()"
      ],
      "metadata": {
        "colab": {
          "base_uri": "https://localhost:8080/",
          "height": 574
        },
        "id": "w4k6pIXXAxj9",
        "outputId": "11299f81-87cc-4e83-d55e-b4f02f9a254a"
      },
      "execution_count": 11,
      "outputs": [
        {
          "output_type": "stream",
          "name": "stdout",
          "text": [
            "[nltk_data] Downloading package punkt to /root/nltk_data...\n",
            "[nltk_data]   Package punkt is already up-to-date!\n"
          ]
        },
        {
          "output_type": "stream",
          "name": "stderr",
          "text": [
            "/usr/local/lib/python3.7/dist-packages/seaborn/distributions.py:2619: FutureWarning: `distplot` is a deprecated function and will be removed in a future version. Please adapt your code to use either `displot` (a figure-level function with similar flexibility) or `histplot` (an axes-level function for histograms).\n",
            "  warnings.warn(msg, FutureWarning)\n",
            "/usr/local/lib/python3.7/dist-packages/seaborn/distributions.py:2619: FutureWarning: `distplot` is a deprecated function and will be removed in a future version. Please adapt your code to use either `displot` (a figure-level function with similar flexibility) or `histplot` (an axes-level function for histograms).\n",
            "  warnings.warn(msg, FutureWarning)\n",
            "/usr/local/lib/python3.7/dist-packages/seaborn/distributions.py:2619: FutureWarning: `distplot` is a deprecated function and will be removed in a future version. Please adapt your code to use either `displot` (a figure-level function with similar flexibility) or `histplot` (an axes-level function for histograms).\n",
            "  warnings.warn(msg, FutureWarning)\n",
            "/usr/local/lib/python3.7/dist-packages/seaborn/distributions.py:2619: FutureWarning: `distplot` is a deprecated function and will be removed in a future version. Please adapt your code to use either `displot` (a figure-level function with similar flexibility) or `histplot` (an axes-level function for histograms).\n",
            "  warnings.warn(msg, FutureWarning)\n",
            "/usr/local/lib/python3.7/dist-packages/seaborn/distributions.py:2619: FutureWarning: `distplot` is a deprecated function and will be removed in a future version. Please adapt your code to use either `displot` (a figure-level function with similar flexibility) or `histplot` (an axes-level function for histograms).\n",
            "  warnings.warn(msg, FutureWarning)\n",
            "/usr/local/lib/python3.7/dist-packages/seaborn/distributions.py:2619: FutureWarning: `distplot` is a deprecated function and will be removed in a future version. Please adapt your code to use either `displot` (a figure-level function with similar flexibility) or `histplot` (an axes-level function for histograms).\n",
            "  warnings.warn(msg, FutureWarning)\n"
          ]
        },
        {
          "output_type": "display_data",
          "data": {
            "text/plain": [
              "<Figure size 1440x288 with 3 Axes>"
            ],
            "image/png": "[encoded data removed]"
          },
          "metadata": {
            "needs_background": "light"
          }
        }
      ]
    },
    {
      "cell_type": "code",
      "source": [
        "tweets[tweets.sent_len > 8]\n",
        "tweets[tweets.word_len > 50]"
      ],
      "metadata": {
        "colab": {
          "base_uri": "https://localhost:8080/",
          "height": 519
        },
        "id": "zMb5INwxEXR8",
        "outputId": "b7066e5b-9082-4933-e587-b2e79bcc9c6b"
      },
      "execution_count": 12,
      "outputs": [
        {
          "output_type": "execute_result",
          "data": {
            "text/plain": [
              "                                                   Tweet  following  \\\n",
              "1533   '@fyahlite @nyafromfire @MzNatTurner @Fresh_Fl...      299.0   \n",
              "1646   ONLINE DEALS : http://www.sherif.ws/main2.php?...        NaN   \n",
              "3362   ONLINE DEALS : http://www.sherif.ws/main2.php?...        NaN   \n",
              "4766   Chips, a hero US Army dog who ran nose-first i...     3677.0   \n",
              "5678   '@CNNPolitics @CNN @CNNI @CNNPolitics @CNNSitR...      247.0   \n",
              "5803   '@JulianSvendsen @klralms @realDonaldTrump PRE...      245.0   \n",
              "7195   '@DailyCaller Lets get rid of all current poli...      246.0   \n",
              "7479   '@Hakimyasin @ThisGuysTaint @gazafreee @Palest...      514.0   \n",
              "7898   via @IHSforHaiti YOU ARE HIGHLY BLESSED AND FA...        0.0   \n",
              "9035   CNN:  \"First lady Melania Trump's plane arrive...     4373.0   \n",
              "11627  Economy growing! Excluding hurricane effects, ...      245.0   \n",
              "12569  Hey @ananavarro...if you would put the vodka d...      248.0   \n",
              "12827  TRUMP in 2002 on Howard Stern: STERN: Are you ...     9720.0   \n",
              "12913  Check out what I'm selling on my @depop shop  ...        0.0   \n",
              "14203  Today Trump told people living surrounded by f...      422.0   \n",
              "\n",
              "       followers   actions  is_retweet          location  Type  Unnamed: 7  \\\n",
              "1533       709.0   11501.0         1.0  Miami / Scotland     0         NaN   \n",
              "1646         0.0       0.0         0.0               USA     1         NaN   \n",
              "3362         0.0       0.0         0.0               USA     1         NaN   \n",
              "4766      3736.0     596.0         0.0          habbo.nl     0         NaN   \n",
              "5678      2539.0  156901.0         0.0     United States     0         NaN   \n",
              "5803      2539.0  156471.0         1.0     United States     0         NaN   \n",
              "7195      2206.0  147804.0         1.0     United States     0         NaN   \n",
              "7479       897.0    9053.0         1.0     United States     0         NaN   \n",
              "7898         0.0       NaN         0.0     Cleveland, OH     1         NaN   \n",
              "9035      4436.0     620.0         0.0     United States     0         NaN   \n",
              "11627     2537.0  156320.0         0.0     United States     0         NaN   \n",
              "12569     2561.0  159602.0         1.0     United States     0         NaN   \n",
              "12827    21874.0    2852.0         1.0     United States     0         NaN   \n",
              "12913        0.0       0.0         0.0               NaN     1         NaN   \n",
              "14203      153.0      35.0         1.0     United States     0         NaN   \n",
              "\n",
              "       char_len  word_len  sent_len  \n",
              "1533        552        88         2  \n",
              "1646        424        75         1  \n",
              "3362        424        78         1  \n",
              "4766        301        61         3  \n",
              "5678        295        66         7  \n",
              "5803        324        58         3  \n",
              "7195        292        56         5  \n",
              "7479        684       110         1  \n",
              "7898        135        57         4  \n",
              "9035        274        56         1  \n",
              "11627       275        53         5  \n",
              "12569       287        56         1  \n",
              "12827       218        55         5  \n",
              "12913       394        61         1  \n",
              "14203       276        53         1  "
            ],
            "text/html": [
              "\n",
              "  <div id=\"df-5be10cb1-90ee-498a-8d01-51d12c82720a\">\n",
              "    <div class=\"colab-df-container\">\n",
              "      <div>\n",
              "<style scoped>\n",
              "    .dataframe tbody tr th:only-of-type {\n",
              "        vertical-align: middle;\n",
              "    }\n",
              "\n",
              "    .dataframe tbody tr th {\n",
              "        vertical-align: top;\n",
              "    }\n",
              "\n",
              "    .dataframe thead th {\n",
              "        text-align: right;\n",
              "    }\n",
              "</style>\n",
              "<table border=\"1\" class=\"dataframe\">\n",
              "  <thead>\n",
              "    <tr style=\"text-align: right;\">\n",
              "      <th></th>\n",
              "      <th>Tweet</th>\n",
              "      <th>following</th>\n",
              "      <th>followers</th>\n",
              "      <th>actions</th>\n",
              "      <th>is_retweet</th>\n",
              "      <th>location</th>\n",
              "      <th>Type</th>\n",
              "      <th>Unnamed: 7</th>\n",
              "      <th>char_len</th>\n",
              "      <th>word_len</th>\n",
              "      <th>sent_len</th>\n",
              "    </tr>\n",
              "  </thead>\n",
              "  <tbody>\n",
              "    <tr>\n",
              "      <th>1533</th>\n",
              "      <td>'@fyahlite @nyafromfire @MzNatTurner @Fresh_Fl...</td>\n",
              "      <td>299.0</td>\n",
              "      <td>709.0</td>\n",
              "      <td>11501.0</td>\n",
              "      <td>1.0</td>\n",
              "      <td>Miami / Scotland</td>\n",
              "      <td>0</td>\n",
              "      <td>NaN</td>\n",
              "      <td>552</td>\n",
              "      <td>88</td>\n",
              "      <td>2</td>\n",
              "    </tr>\n",
              "    <tr>\n",
              "      <th>1646</th>\n",
              "      <td>ONLINE DEALS : http://www.sherif.ws/main2.php?...</td>\n",
              "      <td>NaN</td>\n",
              "      <td>0.0</td>\n",
              "      <td>0.0</td>\n",
              "      <td>0.0</td>\n",
              "      <td>USA</td>\n",
              "      <td>1</td>\n",
              "      <td>NaN</td>\n",
              "      <td>424</td>\n",
              "      <td>75</td>\n",
              "      <td>1</td>\n",
              "    </tr>\n",
              "    <tr>\n",
              "      <th>3362</th>\n",
              "      <td>ONLINE DEALS : http://www.sherif.ws/main2.php?...</td>\n",
              "      <td>NaN</td>\n",
              "      <td>0.0</td>\n",
              "      <td>0.0</td>\n",
              "      <td>0.0</td>\n",
              "      <td>USA</td>\n",
              "      <td>1</td>\n",
              "      <td>NaN</td>\n",
              "      <td>424</td>\n",
              "      <td>78</td>\n",
              "      <td>1</td>\n",
              "    </tr>\n",
              "    <tr>\n",
              "      <th>4766</th>\n",
              "      <td>Chips, a hero US Army dog who ran nose-first i...</td>\n",
              "      <td>3677.0</td>\n",
              "      <td>3736.0</td>\n",
              "      <td>596.0</td>\n",
              "      <td>0.0</td>\n",
              "      <td>habbo.nl</td>\n",
              "      <td>0</td>\n",
              "      <td>NaN</td>\n",
              "      <td>301</td>\n",
              "      <td>61</td>\n",
              "      <td>3</td>\n",
              "    </tr>\n",
              "    <tr>\n",
              "      <th>5678</th>\n",
              "      <td>'@CNNPolitics @CNN @CNNI @CNNPolitics @CNNSitR...</td>\n",
              "      <td>247.0</td>\n",
              "      <td>2539.0</td>\n",
              "      <td>156901.0</td>\n",
              "      <td>0.0</td>\n",
              "      <td>United States</td>\n",
              "      <td>0</td>\n",
              "      <td>NaN</td>\n",
              "      <td>295</td>\n",
              "      <td>66</td>\n",
              "      <td>7</td>\n",
              "    </tr>\n",
              "    <tr>\n",
              "      <th>5803</th>\n",
              "      <td>'@JulianSvendsen @klralms @realDonaldTrump PRE...</td>\n",
              "      <td>245.0</td>\n",
              "      <td>2539.0</td>\n",
              "      <td>156471.0</td>\n",
              "      <td>1.0</td>\n",
              "      <td>United States</td>\n",
              "      <td>0</td>\n",
              "      <td>NaN</td>\n",
              "      <td>324</td>\n",
              "      <td>58</td>\n",
              "      <td>3</td>\n",
              "    </tr>\n",
              "    <tr>\n",
              "      <th>7195</th>\n",
              "      <td>'@DailyCaller Lets get rid of all current poli...</td>\n",
              "      <td>246.0</td>\n",
              "      <td>2206.0</td>\n",
              "      <td>147804.0</td>\n",
              "      <td>1.0</td>\n",
              "      <td>United States</td>\n",
              "      <td>0</td>\n",
              "      <td>NaN</td>\n",
              "      <td>292</td>\n",
              "      <td>56</td>\n",
              "      <td>5</td>\n",
              "    </tr>\n",
              "    <tr>\n",
              "      <th>7479</th>\n",
              "      <td>'@Hakimyasin @ThisGuysTaint @gazafreee @Palest...</td>\n",
              "      <td>514.0</td>\n",
              "      <td>897.0</td>\n",
              "      <td>9053.0</td>\n",
              "      <td>1.0</td>\n",
              "      <td>United States</td>\n",
              "      <td>0</td>\n",
              "      <td>NaN</td>\n",
              "      <td>684</td>\n",
              "      <td>110</td>\n",
              "      <td>1</td>\n",
              "    </tr>\n",
              "    <tr>\n",
              "      <th>7898</th>\n",
              "      <td>via @IHSforHaiti YOU ARE HIGHLY BLESSED AND FA...</td>\n",
              "      <td>0.0</td>\n",
              "      <td>0.0</td>\n",
              "      <td>NaN</td>\n",
              "      <td>0.0</td>\n",
              "      <td>Cleveland, OH</td>\n",
              "      <td>1</td>\n",
              "      <td>NaN</td>\n",
              "      <td>135</td>\n",
              "      <td>57</td>\n",
              "      <td>4</td>\n",
              "    </tr>\n",
              "    <tr>\n",
              "      <th>9035</th>\n",
              "      <td>CNN:  \"First lady Melania Trump's plane arrive...</td>\n",
              "      <td>4373.0</td>\n",
              "      <td>4436.0</td>\n",
              "      <td>620.0</td>\n",
              "      <td>0.0</td>\n",
              "      <td>United States</td>\n",
              "      <td>0</td>\n",
              "      <td>NaN</td>\n",
              "      <td>274</td>\n",
              "      <td>56</td>\n",
              "      <td>1</td>\n",
              "    </tr>\n",
              "    <tr>\n",
              "      <th>11627</th>\n",
              "      <td>Economy growing! Excluding hurricane effects, ...</td>\n",
              "      <td>245.0</td>\n",
              "      <td>2537.0</td>\n",
              "      <td>156320.0</td>\n",
              "      <td>0.0</td>\n",
              "      <td>United States</td>\n",
              "      <td>0</td>\n",
              "      <td>NaN</td>\n",
              "      <td>275</td>\n",
              "      <td>53</td>\n",
              "      <td>5</td>\n",
              "    </tr>\n",
              "    <tr>\n",
              "      <th>12569</th>\n",
              "      <td>Hey @ananavarro...if you would put the vodka d...</td>\n",
              "      <td>248.0</td>\n",
              "      <td>2561.0</td>\n",
              "      <td>159602.0</td>\n",
              "      <td>1.0</td>\n",
              "      <td>United States</td>\n",
              "      <td>0</td>\n",
              "      <td>NaN</td>\n",
              "      <td>287</td>\n",
              "      <td>56</td>\n",
              "      <td>1</td>\n",
              "    </tr>\n",
              "    <tr>\n",
              "      <th>12827</th>\n",
              "      <td>TRUMP in 2002 on Howard Stern: STERN: Are you ...</td>\n",
              "      <td>9720.0</td>\n",
              "      <td>21874.0</td>\n",
              "      <td>2852.0</td>\n",
              "      <td>1.0</td>\n",
              "      <td>United States</td>\n",
              "      <td>0</td>\n",
              "      <td>NaN</td>\n",
              "      <td>218</td>\n",
              "      <td>55</td>\n",
              "      <td>5</td>\n",
              "    </tr>\n",
              "    <tr>\n",
              "      <th>12913</th>\n",
              "      <td>Check out what I'm selling on my @depop shop  ...</td>\n",
              "      <td>0.0</td>\n",
              "      <td>0.0</td>\n",
              "      <td>0.0</td>\n",
              "      <td>0.0</td>\n",
              "      <td>NaN</td>\n",
              "      <td>1</td>\n",
              "      <td>NaN</td>\n",
              "      <td>394</td>\n",
              "      <td>61</td>\n",
              "      <td>1</td>\n",
              "    </tr>\n",
              "    <tr>\n",
              "      <th>14203</th>\n",
              "      <td>Today Trump told people living surrounded by f...</td>\n",
              "      <td>422.0</td>\n",
              "      <td>153.0</td>\n",
              "      <td>35.0</td>\n",
              "      <td>1.0</td>\n",
              "      <td>United States</td>\n",
              "      <td>0</td>\n",
              "      <td>NaN</td>\n",
              "      <td>276</td>\n",
              "      <td>53</td>\n",
              "      <td>1</td>\n",
              "    </tr>\n",
              "  </tbody>\n",
              "</table>\n",
              "</div>\n",
              "      <button class=\"colab-df-convert\" onclick=\"convertToInteractive('df-5be10cb1-90ee-498a-8d01-51d12c82720a')\"\n",
              "              title=\"Convert this dataframe to an interactive table.\"\n",
              "              style=\"display:none;\">\n",
              "        \n",
              "  <svg xmlns=\"http://www.w3.org/2000/svg\" height=\"24px\"viewBox=\"0 0 24 24\"\n",
              "       width=\"24px\">\n",
              "    <path d=\"M0 0h24v24H0V0z\" fill=\"none\"/>\n",
              "    <path d=\"M18.56 5.44l.94 2.06.94-2.06 2.06-.94-2.06-.94-.94-2.06-.94 2.06-2.06.94zm-11 1L8.5 8.5l.94-2.06 2.06-.94-2.06-.94L8.5 2.5l-.94 2.06-2.06.94zm10 10l.94 2.06.94-2.06 2.06-.94-2.06-.94-.94-2.06-.94 2.06-2.06.94z\"/><path d=\"M17.41 7.96l-1.37-1.37c-.4-.4-.92-.59-1.43-.59-.52 0-1.04.2-1.43.59L10.3 9.45l-7.72 7.72c-.78.78-.78 2.05 0 2.83L4 21.41c.39.39.9.59 1.41.59.51 0 1.02-.2 1.41-.59l7.78-7.78 2.81-2.81c.8-.78.8-2.07 0-2.86zM5.41 20L4 18.59l7.72-7.72 1.47 1.35L5.41 20z\"/>\n",
              "  </svg>\n",
              "      </button>\n",
              "      \n",
              "  <style>\n",
              "    .colab-df-container {\n",
              "      display:flex;\n",
              "      flex-wrap:wrap;\n",
              "      gap: 12px;\n",
              "    }\n",
              "\n",
              "    .colab-df-convert {\n",
              "      background-color: #E8F0FE;\n",
              "      border: none;\n",
              "      border-radius: 50%;\n",
              "      cursor: pointer;\n",
              "      display: none;\n",
              "      fill: #1967D2;\n",
              "      height: 32px;\n",
              "      padding: 0 0 0 0;\n",
              "      width: 32px;\n",
              "    }\n",
              "\n",
              "    .colab-df-convert:hover {\n",
              "      background-color: #E2EBFA;\n",
              "      box-shadow: 0px 1px 2px rgba(60, 64, 67, 0.3), 0px 1px 3px 1px rgba(60, 64, 67, 0.15);\n",
              "      fill: #174EA6;\n",
              "    }\n",
              "\n",
              "    [theme=dark] .colab-df-convert {\n",
              "      background-color: #3B4455;\n",
              "      fill: #D2E3FC;\n",
              "    }\n",
              "\n",
              "    [theme=dark] .colab-df-convert:hover {\n",
              "      background-color: #434B5C;\n",
              "      box-shadow: 0px 1px 3px 1px rgba(0, 0, 0, 0.15);\n",
              "      filter: drop-shadow(0px 1px 2px rgba(0, 0, 0, 0.3));\n",
              "      fill: #FFFFFF;\n",
              "    }\n",
              "  </style>\n",
              "\n",
              "      <script>\n",
              "        const buttonEl =\n",
              "          document.querySelector('#df-5be10cb1-90ee-498a-8d01-51d12c82720a button.colab-df-convert');\n",
              "        buttonEl.style.display =\n",
              "          google.colab.kernel.accessAllowed ? 'block' : 'none';\n",
              "\n",
              "        async function convertToInteractive(key) {\n",
              "          const element = document.querySelector('#df-5be10cb1-90ee-498a-8d01-51d12c82720a');\n",
              "          const dataTable =\n",
              "            await google.colab.kernel.invokeFunction('convertToInteractive',\n",
              "                                                     [key], {});\n",
              "          if (!dataTable) return;\n",
              "\n",
              "          const docLinkHtml = 'Like what you see? Visit the ' +\n",
              "            '<a target=\"_blank\" href=https://colab.research.google.com/notebooks/data_table.ipynb>data table notebook</a>'\n",
              "            + ' to learn more about interactive tables.';\n",
              "          element.innerHTML = '';\n",
              "          dataTable['output_type'] = 'display_data';\n",
              "          await google.colab.output.renderOutput(dataTable, element);\n",
              "          const docLink = document.createElement('div');\n",
              "          docLink.innerHTML = docLinkHtml;\n",
              "          element.appendChild(docLink);\n",
              "        }\n",
              "      </script>\n",
              "    </div>\n",
              "  </div>\n",
              "  "
            ]
          },
          "metadata": {},
          "execution_count": 12
        }
      ]
    },
    {
      "cell_type": "code",
      "source": [
        "## Plot most common stopwords\n",
        "\n",
        "nltk.download('stopwords')\n",
        "\n",
        "from nltk.corpus import stopwords\n",
        "stop = set(stopwords.words('english'))\n",
        "\n",
        "# Get all the word tokens in dataframe for Disaster and Non-Disaster\n",
        "corpus0 = [] # Spam\n",
        "[corpus0.append(word.lower()) for tweet in tweets[tweets.Type == 0].Tweet for word in word_tokenize(tweet)]\n",
        "corpus1 = [] # Quality\n",
        "[corpus1.append(word.lower()) for tweet in tweets[tweets.Type == 1].Tweet for word in word_tokenize(tweet)]\n",
        "\n",
        "# Function for counting top stopwords in a corpus\n",
        "def count_top_stopwords(corpus):\n",
        "    stopwords_freq = {}\n",
        "    for word in corpus:\n",
        "        if word in stop: \n",
        "            if word in stopwords_freq:\n",
        "                stopwords_freq[word] += 1\n",
        "            else:\n",
        "                stopwords_freq[word] = 1\n",
        "    topwords = sorted(stopwords_freq.items(), key=lambda item: item[1], reverse=True)[:10] # get the top 10 stopwords\n",
        "    x,y = zip(*topwords) # get key and values\n",
        "    return x,y\n",
        "\n",
        "x0,y0 = count_top_stopwords(corpus0)\n",
        "x1,y1 = count_top_stopwords(corpus1)\n",
        "\n",
        "# Plot bar plot of top stopwords for each class\n",
        "plt.figure(figsize=(15,4))\n",
        "plt.subplot(1,2,1)\n",
        "plt.bar(x0,y0, color=color[0])\n",
        "plt.title('Top Stopwords for Spam Tweets')\n",
        "plt.subplot(1,2,2)\n",
        "plt.bar(x1,y1, color=color[1])\n",
        "plt.title('Top Stopwords for  Quality Tweets')"
      ],
      "metadata": {
        "colab": {
          "base_uri": "https://localhost:8080/",
          "height": 336
        },
        "id": "uSerXdJBEbGO",
        "outputId": "d2f617de-2905-47db-bf18-54d04f9cdf33"
      },
      "execution_count": 13,
      "outputs": [
        {
          "output_type": "stream",
          "name": "stdout",
          "text": [
            "[nltk_data] Downloading package stopwords to /root/nltk_data...\n",
            "[nltk_data]   Package stopwords is already up-to-date!\n"
          ]
        },
        {
          "output_type": "execute_result",
          "data": {
            "text/plain": [
              "Text(0.5, 1.0, 'Top Stopwords for  Quality Tweets')"
            ]
          },
          "metadata": {},
          "execution_count": 13
        },
        {
          "output_type": "display_data",
          "data": {
            "text/plain": [
              "<Figure size 1080x288 with 2 Axes>"
            ],
            "image/png": "[encoded data removed]"
          },
          "metadata": {
            "needs_background": "light"
          }
        }
      ]
    },
    {
      "cell_type": "code",
      "source": [
        "## Plot most common punctuations\n",
        "\n",
        "from string import punctuation\n",
        "\n",
        "# Get all the punctuations in dataframe for Disaster and Non-Disaster\n",
        "corpus0 = [] # Spam\n",
        "[corpus0.append(c) for tweet in tweets[tweets.Type == 0].Tweet for c in tweet]\n",
        "corpus0 = list(filter(lambda x: x in punctuation, corpus0)) # use filter to select only punctuations\n",
        "corpus1 = [] # Quality\n",
        "[corpus1.append(c) for tweet in tweets[tweets.Type == 1].Tweet for c in tweet]\n",
        "corpus1 = list(filter(lambda x: x in punctuation, corpus1)) \n",
        "\n",
        "from collections import Counter\n",
        "x0,y0 = zip(*Counter(corpus0).most_common())\n",
        "x1,y1 = zip(*Counter(corpus1).most_common())\n",
        "\n",
        "# Plot bar plot of top punctuations for each class\n",
        "plt.figure(figsize=(15,4))\n",
        "plt.subplot(1,2,1)\n",
        "plt.bar(x0,y0, color=color[0])\n",
        "plt.title('Top Punctuations for Spam Tweets')\n",
        "plt.subplot(1,2,2)\n",
        "plt.bar(x1,y1, color=color[1])\n",
        "plt.title('Top Punctuations for Quality Tweets')"
      ],
      "metadata": {
        "colab": {
          "base_uri": "https://localhost:8080/",
          "height": 300
        },
        "id": "buuoW1ZcE2Hr",
        "outputId": "c35e68e7-a0f0-4bda-d00a-abe57343ac05"
      },
      "execution_count": 14,
      "outputs": [
        {
          "output_type": "execute_result",
          "data": {
            "text/plain": [
              "Text(0.5, 1.0, 'Top Punctuations for Quality Tweets')"
            ]
          },
          "metadata": {},
          "execution_count": 14
        },
        {
          "output_type": "display_data",
          "data": {
            "text/plain": [
              "<Figure size 1080x288 with 2 Axes>"
            ],
            "image/png": "[encoded data removed]"
          },
          "metadata": {
            "needs_background": "light"
          }
        }
      ]
    },
    {
      "cell_type": "code",
      "source": [
        "## Plot most common words\n",
        "import re\n",
        "from sklearn.feature_extraction.text import ENGLISH_STOP_WORDS\n",
        "\n",
        "stop = ENGLISH_STOP_WORDS.union(stop) # combine stop words from different sources\n",
        "\n",
        "# function for removing url from text\n",
        "def remove_url(txt):\n",
        "    return \" \".join(re.sub(\"([^0-9A-Za-z \\t])|(\\w+:\\/\\/\\S+)\", \"\", txt).split())\n",
        "\n",
        "# Get all the word tokens in dataframe for Quality and Spam\n",
        "# - remove url, tokenize tweet into words, lowercase words\n",
        "corpus0 = [] # Spam\n",
        "[corpus0.append(word.lower()) for tweet in tweets[tweets.Type == 0].Tweet for word in word_tokenize(remove_url(tweet))]\n",
        "corpus0 = list(filter(lambda x: x not in stop, corpus0)) # use filter to unselect stopwords\n",
        "\n",
        "corpus1 = [] # Quality\n",
        "[corpus1.append(word.lower()) for tweet in tweets[tweets.Type == 1].Tweet for word in word_tokenize(remove_url(tweet))]\n",
        "corpus1 = list(filter(lambda x: x not in stop, corpus1)) # use filter to unselect stopwords\n",
        "\n",
        "# Create df for word counts to use sns plots\n",
        "a = Counter(corpus0).most_common()\n",
        "df0 = pd.DataFrame(a, columns=['Word','Count'])\n",
        "\n",
        "a = Counter(corpus1).most_common()\n",
        "df1 = pd.DataFrame(a, columns=['Word','Count'])\n",
        "\n",
        "# Plot for Quality and Spam\n",
        "plt.figure(figsize=(15,4))\n",
        "plt.subplot(1,2,1)\n",
        "sns.barplot(x='Word',y='Count',data=df0.head(10), color=color[1]).set_title('Most Common Words for Spam')\n",
        "plt.xticks(rotation=45)\n",
        "plt.subplot(1,2,2)\n",
        "sns.barplot(x='Word',y='Count',data=df1.head(10), color=color[0]).set_title('Most Common Words for Quality')\n",
        "plt.xticks(rotation=45)"
      ],
      "metadata": {
        "colab": {
          "base_uri": "https://localhost:8080/",
          "height": 355
        },
        "id": "Wo9khk2DFItp",
        "outputId": "af25ac81-3dba-43f7-ae4b-18b7328f7348"
      },
      "execution_count": 15,
      "outputs": [
        {
          "output_type": "execute_result",
          "data": {
            "text/plain": [
              "(array([0, 1, 2, 3, 4, 5, 6, 7, 8, 9]),\n",
              " <a list of 10 Text major ticklabel objects>)"
            ]
          },
          "metadata": {},
          "execution_count": 15
        },
        {
          "output_type": "display_data",
          "data": {
            "text/plain": [
              "<Figure size 1080x288 with 2 Axes>"
            ],
            "image/png": "[encoded data removed]"
          },
          "metadata": {
            "needs_background": "light"
          }
        }
      ]
    },
    {
      "cell_type": "code",
      "source": [
        "def clean(word):\n",
        "    for p in punctuation: word = word.replace(p, '')\n",
        "    return word\n",
        "\n",
        "from wordcloud import WordCloud\n",
        "\n",
        "def wc_hash(target):\n",
        "    hashtag = [clean(w[1:].lower()) for tweet in tweets[tweets.Type == target].Tweet for w in tweet.split() if '#' in w and w[0] == '#']\n",
        "    hashtag = ' '.join(hashtag)\n",
        "    my_cloud = WordCloud(background_color='white', stopwords=stop).generate(hashtag)\n",
        "\n",
        "    plt.subplot(1,2,target+1)\n",
        "    plt.imshow(my_cloud, interpolation='bilinear') \n",
        "    plt.axis(\"off\")\n",
        "\n",
        "plt.figure(figsize=(15,4))\n",
        "wc_hash(0)\n",
        "plt.title('Spam')\n",
        "wc_hash(1)\n",
        "plt.title('Quality')"
      ],
      "metadata": {
        "colab": {
          "base_uri": "https://localhost:8080/",
          "height": 255
        },
        "id": "J_3usLv2Fkpt",
        "outputId": "10c0507a-be45-40c3-ccbc-e0c2a7fa6b04"
      },
      "execution_count": 16,
      "outputs": [
        {
          "output_type": "execute_result",
          "data": {
            "text/plain": [
              "Text(0.5, 1.0, 'Quality')"
            ]
          },
          "metadata": {},
          "execution_count": 16
        },
        {
          "output_type": "display_data",
          "data": {
            "text/plain": [
              "<Figure size 1080x288 with 2 Axes>"
            ],
            "image/png": "[encoded data removed]"
          },
          "metadata": {
            "needs_background": "light"
          }
        }
      ]
    },
    {
      "cell_type": "code",
      "source": [
        "from textblob import TextBlob\n",
        "\n",
        "# polarity and subjectivity\n",
        "tweets['polarity'] = [TextBlob(tweet).sentiment.polarity for tweet in tweets.Tweet]\n",
        "tweets['subjectivity'] = [TextBlob(tweet).sentiment.subjectivity for tweet in tweets.Tweet]\n",
        "\n",
        "#############################################################################################################################\n",
        "# exclaimation and question marks\n",
        "tweets['exclaimation_num'] = [tweet.count('!') for tweet in tweets.Tweet]\n",
        "tweets['questionmark_num'] = [tweet.count('?') for tweet in tweets.Tweet]\n",
        "\n",
        "#############################################################################################################################\n",
        "# count number of hashtags and mentions\n",
        "# Function for counting number of hashtags and mentions\n",
        "def count_url_hashtag_mention(text):\n",
        "    urls_num = len(re.findall('http[s]?://(?:[a-zA-Z]|[0-9]|[$-_@.&+]|[!*\\(\\),]|(?:%[0-9a-fA-F][0-9a-fA-F]))+', text))\n",
        "    word_tokens = text.split()\n",
        "    hash_num = len([word for word in word_tokens if word[0] == '#' and word.count('#') == 1]) # only appears once in front of word \n",
        "    mention_num = len([word for word in word_tokens if word[0] == '@' and word.count('@') == 1]) # only appears once in front of word \n",
        "    return urls_num, hash_num, mention_num\n",
        "\n",
        "url_num, hash_num, mention_num = zip(*[count_url_hashtag_mention(tweet) for tweet in tweets.Tweet])\n",
        "tweets = tweets.assign(url_num = url_num, hash_num = hash_num, mention_num = mention_num)\n",
        "\n",
        "#############################################################################################################################\n",
        "# count number of contractions\n",
        "contractions = [\"'t\", \"'re\", \"'s\", \"'d\", \"'ll\", \"'ve\", \"'m\"]\n",
        "tweets['contraction_num'] = [sum([tweet.count(cont) for cont in contractions]) for tweet in tweets.Tweet]"
      ],
      "metadata": {
        "id": "rEiNNWJJGVGk"
      },
      "execution_count": 17,
      "outputs": []
    },
    {
      "cell_type": "code",
      "source": [
        "tweets.head()"
      ],
      "metadata": {
        "colab": {
          "base_uri": "https://localhost:8080/",
          "height": 426
        },
        "id": "mze9Iox4HIvD",
        "outputId": "efedd206-3692-44e9-be0e-ba10dc766c84"
      },
      "execution_count": 18,
      "outputs": [
        {
          "output_type": "execute_result",
          "data": {
            "text/plain": [
              "                                               Tweet  following  followers  \\\n",
              "0                     Good Morning Love  @LeeBrown_V        0.0        0.0   \n",
              "1           '@realDonaldTrump @USNavy RIP TO HEROES'    42096.0    61060.0   \n",
              "2  Haven't been following the news but I understa...        0.0        0.0   \n",
              "3  pic.twitter.com/dy9q4ftLhZ What to do with pap...        0.0        0.0   \n",
              "4  #DidYouKnow ► Mahatma Gandhi made a brief visi...    17800.0    35100.0   \n",
              "\n",
              "   actions  is_retweet                        location  Type  Unnamed: 7  \\\n",
              "0      0.0         0.0               Pennsylvania, USA     1         NaN   \n",
              "1   5001.0         0.0       South Padre Island, Texas     0         NaN   \n",
              "2      NaN         0.0  Will never be broke ever again     1         NaN   \n",
              "3      0.0         0.0                           Mundo     1         NaN   \n",
              "4      NaN         0.0             Nottingham, England     1         NaN   \n",
              "\n",
              "   char_len  word_len  sent_len  polarity  subjectivity  exclaimation_num  \\\n",
              "0        30         5         1       0.6      0.600000                 0   \n",
              "1        40         9         1       0.0      0.000000                 0   \n",
              "2        82        16         1       0.0      0.100000                 0   \n",
              "3       149        17         1       0.0      0.000000                 0   \n",
              "4       108        22         1       0.0      0.333333                 0   \n",
              "\n",
              "   questionmark_num  url_num  hash_num  mention_num  contraction_num  \n",
              "0                 0        0         0            1                0  \n",
              "1                 0        0         0            1                0  \n",
              "2                 0        0         1            0                1  \n",
              "3                 0        1         2            0                0  \n",
              "4                 0        0         2            0                0  "
            ],
            "text/html": [
              "\n",
              "  <div id=\"df-608ca7db-e9e5-4d06-af6b-00bb9355eedb\">\n",
              "    <div class=\"colab-df-container\">\n",
              "      <div>\n",
              "<style scoped>\n",
              "    .dataframe tbody tr th:only-of-type {\n",
              "        vertical-align: middle;\n",
              "    }\n",
              "\n",
              "    .dataframe tbody tr th {\n",
              "        vertical-align: top;\n",
              "    }\n",
              "\n",
              "    .dataframe thead th {\n",
              "        text-align: right;\n",
              "    }\n",
              "</style>\n",
              "<table border=\"1\" class=\"dataframe\">\n",
              "  <thead>\n",
              "    <tr style=\"text-align: right;\">\n",
              "      <th></th>\n",
              "      <th>Tweet</th>\n",
              "      <th>following</th>\n",
              "      <th>followers</th>\n",
              "      <th>actions</th>\n",
              "      <th>is_retweet</th>\n",
              "      <th>location</th>\n",
              "      <th>Type</th>\n",
              "      <th>Unnamed: 7</th>\n",
              "      <th>char_len</th>\n",
              "      <th>word_len</th>\n",
              "      <th>sent_len</th>\n",
              "      <th>polarity</th>\n",
              "      <th>subjectivity</th>\n",
              "      <th>exclaimation_num</th>\n",
              "      <th>questionmark_num</th>\n",
              "      <th>url_num</th>\n",
              "      <th>hash_num</th>\n",
              "      <th>mention_num</th>\n",
              "      <th>contraction_num</th>\n",
              "    </tr>\n",
              "  </thead>\n",
              "  <tbody>\n",
              "    <tr>\n",
              "      <th>0</th>\n",
              "      <td>Good Morning Love  @LeeBrown_V</td>\n",
              "      <td>0.0</td>\n",
              "      <td>0.0</td>\n",
              "      <td>0.0</td>\n",
              "      <td>0.0</td>\n",
              "      <td>Pennsylvania, USA</td>\n",
              "      <td>1</td>\n",
              "      <td>NaN</td>\n",
              "      <td>30</td>\n",
              "      <td>5</td>\n",
              "      <td>1</td>\n",
              "      <td>0.6</td>\n",
              "      <td>0.600000</td>\n",
              "      <td>0</td>\n",
              "      <td>0</td>\n",
              "      <td>0</td>\n",
              "      <td>0</td>\n",
              "      <td>1</td>\n",
              "      <td>0</td>\n",
              "    </tr>\n",
              "    <tr>\n",
              "      <th>1</th>\n",
              "      <td>'@realDonaldTrump @USNavy RIP TO HEROES'</td>\n",
              "      <td>42096.0</td>\n",
              "      <td>61060.0</td>\n",
              "      <td>5001.0</td>\n",
              "      <td>0.0</td>\n",
              "      <td>South Padre Island, Texas</td>\n",
              "      <td>0</td>\n",
              "      <td>NaN</td>\n",
              "      <td>40</td>\n",
              "      <td>9</td>\n",
              "      <td>1</td>\n",
              "      <td>0.0</td>\n",
              "      <td>0.000000</td>\n",
              "      <td>0</td>\n",
              "      <td>0</td>\n",
              "      <td>0</td>\n",
              "      <td>0</td>\n",
              "      <td>1</td>\n",
              "      <td>0</td>\n",
              "    </tr>\n",
              "    <tr>\n",
              "      <th>2</th>\n",
              "      <td>Haven't been following the news but I understa...</td>\n",
              "      <td>0.0</td>\n",
              "      <td>0.0</td>\n",
              "      <td>NaN</td>\n",
              "      <td>0.0</td>\n",
              "      <td>Will never be broke ever again</td>\n",
              "      <td>1</td>\n",
              "      <td>NaN</td>\n",
              "      <td>82</td>\n",
              "      <td>16</td>\n",
              "      <td>1</td>\n",
              "      <td>0.0</td>\n",
              "      <td>0.100000</td>\n",
              "      <td>0</td>\n",
              "      <td>0</td>\n",
              "      <td>0</td>\n",
              "      <td>1</td>\n",
              "      <td>0</td>\n",
              "      <td>1</td>\n",
              "    </tr>\n",
              "    <tr>\n",
              "      <th>3</th>\n",
              "      <td>pic.twitter.com/dy9q4ftLhZ What to do with pap...</td>\n",
              "      <td>0.0</td>\n",
              "      <td>0.0</td>\n",
              "      <td>0.0</td>\n",
              "      <td>0.0</td>\n",
              "      <td>Mundo</td>\n",
              "      <td>1</td>\n",
              "      <td>NaN</td>\n",
              "      <td>149</td>\n",
              "      <td>17</td>\n",
              "      <td>1</td>\n",
              "      <td>0.0</td>\n",
              "      <td>0.000000</td>\n",
              "      <td>0</td>\n",
              "      <td>0</td>\n",
              "      <td>1</td>\n",
              "      <td>2</td>\n",
              "      <td>0</td>\n",
              "      <td>0</td>\n",
              "    </tr>\n",
              "    <tr>\n",
              "      <th>4</th>\n",
              "      <td>#DidYouKnow ► Mahatma Gandhi made a brief visi...</td>\n",
              "      <td>17800.0</td>\n",
              "      <td>35100.0</td>\n",
              "      <td>NaN</td>\n",
              "      <td>0.0</td>\n",
              "      <td>Nottingham, England</td>\n",
              "      <td>1</td>\n",
              "      <td>NaN</td>\n",
              "      <td>108</td>\n",
              "      <td>22</td>\n",
              "      <td>1</td>\n",
              "      <td>0.0</td>\n",
              "      <td>0.333333</td>\n",
              "      <td>0</td>\n",
              "      <td>0</td>\n",
              "      <td>0</td>\n",
              "      <td>2</td>\n",
              "      <td>0</td>\n",
              "      <td>0</td>\n",
              "    </tr>\n",
              "  </tbody>\n",
              "</table>\n",
              "</div>\n",
              "      <button class=\"colab-df-convert\" onclick=\"convertToInteractive('df-608ca7db-e9e5-4d06-af6b-00bb9355eedb')\"\n",
              "              title=\"Convert this dataframe to an interactive table.\"\n",
              "              style=\"display:none;\">\n",
              "        \n",
              "  <svg xmlns=\"http://www.w3.org/2000/svg\" height=\"24px\"viewBox=\"0 0 24 24\"\n",
              "       width=\"24px\">\n",
              "    <path d=\"M0 0h24v24H0V0z\" fill=\"none\"/>\n",
              "    <path d=\"M18.56 5.44l.94 2.06.94-2.06 2.06-.94-2.06-.94-.94-2.06-.94 2.06-2.06.94zm-11 1L8.5 8.5l.94-2.06 2.06-.94-2.06-.94L8.5 2.5l-.94 2.06-2.06.94zm10 10l.94 2.06.94-2.06 2.06-.94-2.06-.94-.94-2.06-.94 2.06-2.06.94z\"/><path d=\"M17.41 7.96l-1.37-1.37c-.4-.4-.92-.59-1.43-.59-.52 0-1.04.2-1.43.59L10.3 9.45l-7.72 7.72c-.78.78-.78 2.05 0 2.83L4 21.41c.39.39.9.59 1.41.59.51 0 1.02-.2 1.41-.59l7.78-7.78 2.81-2.81c.8-.78.8-2.07 0-2.86zM5.41 20L4 18.59l7.72-7.72 1.47 1.35L5.41 20z\"/>\n",
              "  </svg>\n",
              "      </button>\n",
              "      \n",
              "  <style>\n",
              "    .colab-df-container {\n",
              "      display:flex;\n",
              "      flex-wrap:wrap;\n",
              "      gap: 12px;\n",
              "    }\n",
              "\n",
              "    .colab-df-convert {\n",
              "      background-color: #E8F0FE;\n",
              "      border: none;\n",
              "      border-radius: 50%;\n",
              "      cursor: pointer;\n",
              "      display: none;\n",
              "      fill: #1967D2;\n",
              "      height: 32px;\n",
              "      padding: 0 0 0 0;\n",
              "      width: 32px;\n",
              "    }\n",
              "\n",
              "    .colab-df-convert:hover {\n",
              "      background-color: #E2EBFA;\n",
              "      box-shadow: 0px 1px 2px rgba(60, 64, 67, 0.3), 0px 1px 3px 1px rgba(60, 64, 67, 0.15);\n",
              "      fill: #174EA6;\n",
              "    }\n",
              "\n",
              "    [theme=dark] .colab-df-convert {\n",
              "      background-color: #3B4455;\n",
              "      fill: #D2E3FC;\n",
              "    }\n",
              "\n",
              "    [theme=dark] .colab-df-convert:hover {\n",
              "      background-color: #434B5C;\n",
              "      box-shadow: 0px 1px 3px 1px rgba(0, 0, 0, 0.15);\n",
              "      filter: drop-shadow(0px 1px 2px rgba(0, 0, 0, 0.3));\n",
              "      fill: #FFFFFF;\n",
              "    }\n",
              "  </style>\n",
              "\n",
              "      <script>\n",
              "        const buttonEl =\n",
              "          document.querySelector('#df-608ca7db-e9e5-4d06-af6b-00bb9355eedb button.colab-df-convert');\n",
              "        buttonEl.style.display =\n",
              "          google.colab.kernel.accessAllowed ? 'block' : 'none';\n",
              "\n",
              "        async function convertToInteractive(key) {\n",
              "          const element = document.querySelector('#df-608ca7db-e9e5-4d06-af6b-00bb9355eedb');\n",
              "          const dataTable =\n",
              "            await google.colab.kernel.invokeFunction('convertToInteractive',\n",
              "                                                     [key], {});\n",
              "          if (!dataTable) return;\n",
              "\n",
              "          const docLinkHtml = 'Like what you see? Visit the ' +\n",
              "            '<a target=\"_blank\" href=https://colab.research.google.com/notebooks/data_table.ipynb>data table notebook</a>'\n",
              "            + ' to learn more about interactive tables.';\n",
              "          element.innerHTML = '';\n",
              "          dataTable['output_type'] = 'display_data';\n",
              "          await google.colab.output.renderOutput(dataTable, element);\n",
              "          const docLink = document.createElement('div');\n",
              "          docLink.innerHTML = docLinkHtml;\n",
              "          element.appendChild(docLink);\n",
              "        }\n",
              "      </script>\n",
              "    </div>\n",
              "  </div>\n",
              "  "
            ]
          },
          "metadata": {},
          "execution_count": 18
        }
      ]
    },
    {
      "cell_type": "code",
      "source": [
        "## Replace NaNs with 'None'\n",
        "\n",
        "#############################################################################################################################\n",
        "## Expand Contractions\n",
        "\n",
        "# Function for expanding most common contractions https://stackoverflow.com/questions/19790188/expanding-english-language-contractions-in-python\n",
        "def decontraction(phrase):\n",
        "    # specific\n",
        "    phrase = re.sub(r\"won\\'t\", \"will not\", phrase)\n",
        "    phrase = re.sub(r\"can\\'t\", \"can not\", phrase)\n",
        "\n",
        "    # general\n",
        "    phrase = re.sub(r\"n\\'t\", \" not\", phrase)\n",
        "    phrase = re.sub(r\"\\'re\", \" are\", phrase)\n",
        "    phrase = re.sub(r\"\\'s\", \" is\", phrase)\n",
        "    phrase = re.sub(r\"\\'d\", \" would\", phrase)\n",
        "    phrase = re.sub(r\"\\'ll\", \" will\", phrase)\n",
        "    phrase = re.sub(r\"\\'t\", \" not\", phrase)\n",
        "    phrase = re.sub(r\"\\'ve\", \" have\", phrase)\n",
        "    phrase = re.sub(r\"\\'m\", \" am\", phrase)\n",
        "    return phrase\n",
        "\n",
        "tweets.text = [decontraction(tweet) for tweet in tweets.Tweet]\n",
        "\n",
        "#############################################################################################################################\n",
        "## Remove Emojis\n",
        "\n",
        "# Reference : https://gist.github.com/slowkow/7a7f61f495e3dbb7e3d767f97bd7304b\n",
        "def remove_emoji(text):\n",
        "    emoji_pattern = re.compile(\"[\"\n",
        "                           u\"\\U0001F600-\\U0001F64F\"  # emoticons\n",
        "                           u\"\\U0001F300-\\U0001F5FF\"  # symbols & pictographs\n",
        "                           u\"\\U0001F680-\\U0001F6FF\"  # transport & map symbols\n",
        "                           u\"\\U0001F1E0-\\U0001F1FF\"  # flags (iOS)\n",
        "                           u\"\\U00002702-\\U000027B0\"\n",
        "                           u\"\\U000024C2-\\U0001F251\"\n",
        "                           \"]+\", flags=re.UNICODE)\n",
        "    return emoji_pattern.sub(r'', text)\n",
        "\n",
        "print(remove_emoji(\"OMG there is a volcano eruption!!! 😭😱😷\"))\n",
        "\n",
        "tweets.Tweet = tweets.Tweet.apply(lambda x: remove_emoji(x))"
      ],
      "metadata": {
        "colab": {
          "base_uri": "https://localhost:8080/"
        },
        "id": "oa3rqCDwHLgN",
        "outputId": "78aca91d-28c4-4698-9c7e-3e1f41841854"
      },
      "execution_count": 19,
      "outputs": [
        {
          "output_type": "stream",
          "name": "stdout",
          "text": [
            "OMG there is a volcano eruption!!! \n"
          ]
        },
        {
          "output_type": "stream",
          "name": "stderr",
          "text": [
            "/usr/local/lib/python3.7/dist-packages/ipykernel_launcher.py:23: UserWarning: Pandas doesn't allow columns to be created via a new attribute name - see https://pandas.pydata.org/pandas-docs/stable/indexing.html#attribute-access\n"
          ]
        }
      ]
    },
    {
      "cell_type": "code",
      "source": [
        "#############################################################################################################################\n",
        "## Remove URLs\n",
        "tweets.text = tweets.Tweet.apply(lambda x: remove_url(x))\n",
        "\n",
        "#############################################################################################################################\n",
        "## Remove Punctuations except '!?'\n",
        "\n",
        "def remove_punct(text):\n",
        "    new_punct = re.sub('\\ |\\!|\\?', '', punctuation)\n",
        "    table=str.maketrans('','',new_punct)\n",
        "    return text.translate(table)\n",
        "\n",
        "tweets.Tweet = tweets.Tweet.apply(lambda x: remove_punct(x))\n",
        "\n",
        "#############################################################################################################################\n",
        "## Replace amp\n",
        "def replace_amp(text):\n",
        "    text = re.sub(r\" amp \", \" and \", text)\n",
        "    return text\n",
        "\n",
        "tweets.Tweet = tweets.Tweet.apply(lambda x: replace_amp(x))\n",
        "\n",
        "#############################################################################################################################"
      ],
      "metadata": {
        "id": "qpEwwNueKY7y"
      },
      "execution_count": 20,
      "outputs": []
    },
    {
      "cell_type": "code",
      "source": [
        "pip install wordsegment"
      ],
      "metadata": {
        "colab": {
          "base_uri": "https://localhost:8080/"
        },
        "id": "h9oR-YAoQy-5",
        "outputId": "1e9166d9-4ece-46e8-e2b3-bf6147f9d2b8"
      },
      "execution_count": 21,
      "outputs": [
        {
          "output_type": "stream",
          "name": "stdout",
          "text": [
            "Requirement already satisfied: wordsegment in /usr/local/lib/python3.7/dist-packages (1.3.1)\n"
          ]
        }
      ]
    },
    {
      "cell_type": "code",
      "source": [
        "import wordsegment\n",
        "help(wordsegment)"
      ],
      "metadata": {
        "colab": {
          "base_uri": "https://localhost:8080/"
        },
        "id": "XIQ6Yz2baZM-",
        "outputId": "ab0e6e1a-cec5-40bb-f609-e0bb50016af4"
      },
      "execution_count": 22,
      "outputs": [
        {
          "output_type": "stream",
          "name": "stdout",
          "text": [
            "Help on package wordsegment:\n",
            "\n",
            "NAME\n",
            "    wordsegment - English Word Segmentation in Python\n",
            "\n",
            "DESCRIPTION\n",
            "    Word segmentation is the process of dividing a phrase without spaces back\n",
            "    into its constituent parts. For example, consider a phrase like \"thisisatest\".\n",
            "    For humans, it's relatively easy to parse. This module makes it easy for\n",
            "    machines too. Use `segment` to parse a phrase into its parts:\n",
            "    \n",
            "    >>> from wordsegment import load, segment\n",
            "    >>> load()\n",
            "    >>> segment('thisisatest')\n",
            "    ['this', 'is', 'a', 'test']\n",
            "    \n",
            "    In the code, 1024908267229 is the total number of words in the corpus. A\n",
            "    subset of this corpus is found in unigrams.txt and bigrams.txt which\n",
            "    should accompany this file. A copy of these files may be found at\n",
            "    http://norvig.com/ngrams/ under the names count_1w.txt and count_2w.txt\n",
            "    respectively.\n",
            "    \n",
            "    Copyright (c) 2016 by Grant Jenks\n",
            "    \n",
            "    Based on code from the chapter \"Natural Language Corpus Data\"\n",
            "    from the book \"Beautiful Data\" (Segaran and Hammerbacher, 2009)\n",
            "    http://oreilly.com/catalog/9780596157111/\n",
            "    \n",
            "    Original Copyright (c) 2008-2009 by Peter Norvig\n",
            "\n",
            "PACKAGE CONTENTS\n",
            "    __main__\n",
            "\n",
            "CLASSES\n",
            "    builtins.object\n",
            "        Segmenter\n",
            "    \n",
            "    class Segmenter(builtins.object)\n",
            "     |  Segmenter\n",
            "     |  \n",
            "     |  Support for object-oriented programming and customization.\n",
            "     |  \n",
            "     |  Methods defined here:\n",
            "     |  \n",
            "     |  __init__(self)\n",
            "     |      Initialize self.  See help(type(self)) for accurate signature.\n",
            "     |  \n",
            "     |  divide(self, text)\n",
            "     |      Yield `(prefix, suffix)` pairs from `text`.\n",
            "     |  \n",
            "     |  isegment(self, text)\n",
            "     |      Return iterator of words that is the best segmenation of `text`.\n",
            "     |  \n",
            "     |  load(self)\n",
            "     |      Load unigram and bigram counts from disk.\n",
            "     |  \n",
            "     |  score(self, word, previous=None)\n",
            "     |      Score `word` in the context of `previous` word.\n",
            "     |  \n",
            "     |  segment(self, text)\n",
            "     |      Return list of words that is the best segmenation of `text`.\n",
            "     |  \n",
            "     |  ----------------------------------------------------------------------\n",
            "     |  Class methods defined here:\n",
            "     |  \n",
            "     |  clean(text) from builtins.type\n",
            "     |      Return `text` lower-cased with non-alphanumeric characters removed.\n",
            "     |  \n",
            "     |  ----------------------------------------------------------------------\n",
            "     |  Static methods defined here:\n",
            "     |  \n",
            "     |  parse(filename)\n",
            "     |      Read `filename` and parse tab-separated file of word and count pairs.\n",
            "     |  \n",
            "     |  ----------------------------------------------------------------------\n",
            "     |  Data descriptors defined here:\n",
            "     |  \n",
            "     |  __dict__\n",
            "     |      dictionary for instance variables (if defined)\n",
            "     |  \n",
            "     |  __weakref__\n",
            "     |      list of weak references to the object (if defined)\n",
            "     |  \n",
            "     |  ----------------------------------------------------------------------\n",
            "     |  Data and other attributes defined here:\n",
            "     |  \n",
            "     |  ALPHABET = {'0', '1', '2', '3', '4', '5', ...}\n",
            "     |  \n",
            "     |  BIGRAMS_FILENAME = '/usr/local/lib/python3.7/dist-packages/wordsegment...\n",
            "     |  \n",
            "     |  LIMIT = 24\n",
            "     |  \n",
            "     |  TOTAL = 1024908267229.0\n",
            "     |  \n",
            "     |  UNIGRAMS_FILENAME = '/usr/local/lib/python3.7/dist-packages/wordsegmen...\n",
            "     |  \n",
            "     |  WORDS_FILENAME = '/usr/local/lib/python3.7/dist-packages/wordsegment/w...\n",
            "\n",
            "FUNCTIONS\n",
            "    isegment(text) method of Segmenter instance\n",
            "        Return iterator of words that is the best segmenation of `text`.\n",
            "    \n",
            "    load() method of Segmenter instance\n",
            "        Load unigram and bigram counts from disk.\n",
            "    \n",
            "    main(arguments=())\n",
            "        Command-line interface (CLI) entry-point. Parse `arguments` into in-file\n",
            "        and out-file then read lines from in-file, segment the lines, and write the\n",
            "        result to out-file. Input and output default to stdin and stdout\n",
            "        respectively.\n",
            "    \n",
            "    segment(text) method of Segmenter instance\n",
            "        Return list of words that is the best segmenation of `text`.\n",
            "\n",
            "DATA\n",
            "    BIGRAMS = {}\n",
            "    UNIGRAMS = {}\n",
            "    WORDS = []\n",
            "    __all__ = ['Segmenter', 'load', 'isegment', 'segment', 'UNIGRAMS', 'BI...\n",
            "    __build__ = 66305\n",
            "    __copyright__ = 'Copyright 2018 Grant Jenks'\n",
            "    __license__ = 'Apache 2.0'\n",
            "    __title__ = 'wordsegment'\n",
            "\n",
            "VERSION\n",
            "    1.3.1\n",
            "\n",
            "AUTHOR\n",
            "    Grant Jenks\n",
            "\n",
            "FILE\n",
            "    /usr/local/lib/python3.7/dist-packages/wordsegment/__init__.py\n",
            "\n",
            "\n"
          ]
        }
      ]
    },
    {
      "cell_type": "code",
      "source": [
        "from wordsegment import load, segment\n",
        "load()\n",
        "segment('thisisatest')"
      ],
      "metadata": {
        "colab": {
          "base_uri": "https://localhost:8080/"
        },
        "id": "s6eaG0VWadCd",
        "outputId": "59c8bc79-31ab-4c2f-f1be-4ead363a1d90"
      },
      "execution_count": 23,
      "outputs": [
        {
          "output_type": "execute_result",
          "data": {
            "text/plain": [
              "['this', 'is', 'a', 'test']"
            ]
          },
          "metadata": {},
          "execution_count": 23
        }
      ]
    },
    {
      "cell_type": "code",
      "source": [
        "tweets.Tweet = tweets.Tweet.apply(lambda x: ' '.join(segment(x)))"
      ],
      "metadata": {
        "id": "NGw5JTyAanCf"
      },
      "execution_count": null,
      "outputs": []
    },
    {
      "cell_type": "code",
      "source": [
        "## Lemmatization\n",
        "\n",
        "from nltk.stem import WordNetLemmatizer\n",
        "nltk.download('wordnet')\n",
        "lemmatizer = WordNetLemmatizer()\n",
        "def lemma(text):\n",
        "    words = word_tokenize(text)\n",
        "    return ' '.join([lemmatizer.lemmatize(w.lower(), pos='v') for w in words])\n",
        "\n",
        "tweets.Tweet = tweets.Tweet.apply(lambda x: lemma(x))"
      ],
      "metadata": {
        "id": "qHKRbSYZmeg3"
      },
      "execution_count": null,
      "outputs": []
    },
    {
      "cell_type": "code",
      "source": [
        "## Ngrams\n",
        "from nltk.util import ngrams\n",
        "\n",
        "def generate_ngrams(text, n):\n",
        "    words = word_tokenize(text)\n",
        "    return [' '.join(ngram) for ngram in list(get_data(ngrams(words, n))) if not all(w in stop for w in ngram)] # exclude if all are stopwords\n",
        "\n",
        "\n",
        "# in newer versions of python, raising StopIteration exception to end a generator, which is used in ngram, is deprecated\n",
        "def get_data(gen):\n",
        "    try:\n",
        "        for elem in gen:\n",
        "            yield elem\n",
        "    except (RuntimeError, StopIteration):\n",
        "        return"
      ],
      "metadata": {
        "id": "l9FT6_UimsxJ"
      },
      "execution_count": null,
      "outputs": []
    },
    {
      "cell_type": "code",
      "source": [
        "# Bigrams\n",
        "\n",
        "bigrams_disaster = tweets[tweets.Type==1].Tweet.apply(lambda x: generate_ngrams(x, 2))\n",
        "bigrams_ndisaster = tweets[tweets.Type==0].Tweet.apply(lambda x: generate_ngrams(x, 2))\n",
        "\n",
        "bigrams_d_dict = {}\n",
        "for bgs in bigrams_disaster:\n",
        "    for bg in bgs:\n",
        "        if bg in bigrams_d_dict:\n",
        "            bigrams_d_dict[bg] += 1\n",
        "        else:\n",
        "            bigrams_d_dict[bg] = 1\n",
        "\n",
        "bigrams_d_df = pd.DataFrame(bigrams_d_dict.items(), columns=['Bigrams','Count'])\n",
        "\n",
        "bigrams_nd_dict = {}\n",
        "for bgs in bigrams_ndisaster:\n",
        "    for bg in bgs:\n",
        "        if bg in bigrams_nd_dict:\n",
        "            bigrams_nd_dict[bg] += 1\n",
        "        else:\n",
        "            bigrams_nd_dict[bg] = 1            \n",
        "\n",
        "bigrams_nd_df = pd.DataFrame(bigrams_nd_dict.items(), columns=['Bigrams','Count'])"
      ],
      "metadata": {
        "id": "Y7G1Mb2dmwL3"
      },
      "execution_count": null,
      "outputs": []
    },
    {
      "cell_type": "code",
      "source": [
        "# Barplots for bigrams\n",
        "\n",
        "plt.figure(figsize=(15,10))\n",
        "plt.subplot(1,2,1)\n",
        "sns.barplot(x='Count',y='Bigrams',data=bigrams_nd_df.sort_values('Count', ascending=False).head(40), color=color[0]).set_title('Most Common Bigrams for Non-Disasters')\n",
        "ax = plt.gca()\n",
        "ax.set_ylabel('')\n",
        "plt.subplot(1,2,2)\n",
        "sns.barplot(x='Count',y='Bigrams',data=bigrams_d_df.sort_values('Count', ascending=False).head(40), color=color[1]).set_title('Most Common Bigrams for Disasters')\n",
        "ax = plt.gca()\n",
        "ax.set_ylabel('')\n",
        "plt.tight_layout()\n",
        "plt.show()"
      ],
      "metadata": {
        "id": "Xw5hMKi_m7HR"
      },
      "execution_count": null,
      "outputs": []
    },
    {
      "cell_type": "code",
      "source": [
        "# Woudcloud for bigrams\n",
        "\n",
        "plt.figure(figsize=(15,10))\n",
        "plt.subplot(1,2,1)\n",
        "my_cloud = WordCloud(background_color='white', stopwords=stop).generate_from_frequencies(bigrams_nd_dict)\n",
        "plt.imshow(my_cloud, interpolation='bilinear')\n",
        "plt.axis('off')\n",
        "\n",
        "plt.subplot(1,2,2)\n",
        "my_cloud = WordCloud(background_color='white', stopwords=stop).generate_from_frequencies(bigrams_d_dict)\n",
        "plt.imshow(my_cloud, interpolation='bilinear')\n",
        "plt.axis('off')\n",
        "\n",
        "plt.show()"
      ],
      "metadata": {
        "id": "s-HVUVvfm-nx"
      },
      "execution_count": null,
      "outputs": []
    },
    {
      "cell_type": "code",
      "source": [
        "# Trigrams\n",
        "\n",
        "trigrams_disaster = tweets[tweets.Type==1].Tweet.apply(lambda x: generate_ngrams(x, 3))\n",
        "trigrams_ndisaster = tweets[tweets.Type==0].Tweet.apply(lambda x: generate_ngrams(x, 3))\n",
        "\n",
        "trigrams_d_dict = {}\n",
        "for tgs in trigrams_disaster:\n",
        "    for tg in tgs:\n",
        "        if tg in trigrams_d_dict:\n",
        "            trigrams_d_dict[tg] += 1\n",
        "        else:\n",
        "            trigrams_d_dict[tg] = 1\n",
        "\n",
        "trigrams_d_df = pd.DataFrame(trigrams_d_dict.items(), columns=['Trigrams','Count'])\n",
        "\n",
        "trigrams_nd_dict = {}\n",
        "for tgs in trigrams_ndisaster:\n",
        "    for tg in tgs:\n",
        "        if tg in trigrams_nd_dict:\n",
        "            trigrams_nd_dict[tg] += 1\n",
        "        else:\n",
        "            trigrams_nd_dict[tg] = 1            \n",
        "\n",
        "trigrams_nd_df = pd.DataFrame(trigrams_nd_dict.items(), columns=['Trigrams','Count'])"
      ],
      "metadata": {
        "id": "uWBAyegvnDAN"
      },
      "execution_count": null,
      "outputs": []
    },
    {
      "cell_type": "code",
      "source": [
        "# Barplots for trigrams\n",
        "\n",
        "plt.figure(figsize=(15,10))\n",
        "plt.subplot(1,2,1)\n",
        "sns.barplot(x='Count',y='Trigrams',data=trigrams_nd_df.sort_values('Count', ascending=False).head(40), color=color[0]).set_title('Most Common Trigrams for Non-Disasters')\n",
        "ax = plt.gca()\n",
        "ax.set_ylabel('')\n",
        "plt.subplot(1,2,2)\n",
        "sns.barplot(x='Count',y='Trigrams',data=trigrams_d_df.sort_values('Count', ascending=False).head(40), color=color[1]).set_title('Most Common Trigrams for Disasters')\n",
        "ax = plt.gca()\n",
        "ax.set_ylabel('')\n",
        "plt.tight_layout()\n",
        "plt.show()"
      ],
      "metadata": {
        "id": "GaVBGfgGnO8T"
      },
      "execution_count": null,
      "outputs": []
    },
    {
      "cell_type": "code",
      "source": [
        "## Remove Stopwords\n",
        "def remove_stopwords(text):\n",
        "    word_tokens = word_tokenize(text)\n",
        "    return ' '.join([w.lower() for w in word_tokens if not w.lower() in stop])\n",
        "\n",
        "#tweets_tmp = tweets.copy()\n",
        "tweets['text_nostopwords'] = tweets.Tweet.apply(lambda x: remove_stopwords(x))"
      ],
      "metadata": {
        "id": "XM2slcfTnVGw"
      },
      "execution_count": null,
      "outputs": []
    },
    {
      "cell_type": "code",
      "source": [
        "## Plot word cloud for most common words after cleaning\n",
        "\n",
        "from PIL import Image\n",
        "mask = np.array(Image.open('drive/My Drive/Colab Notebooks/data/Twitter Spam/Pictures/Twitter-Logo.png'))\n",
        "reverse = mask[...,::-1,:]\n",
        "\n",
        "def wc_words(target, mask=mask):\n",
        "    words = [word.lower() for tweet in tweets[tweets.Type == target].text_nostopwords for word in tweet.split()]\n",
        "    words = list(filter(lambda w: w != 'like', words))\n",
        "    words = list(filter(lambda w: w != 'new', words))\n",
        "    words = list(filter(lambda w: w != 'people', words))\n",
        "    dict = {}\n",
        "    for w in words:\n",
        "        if w in dict:\n",
        "            dict[w] += 1\n",
        "        else:\n",
        "            dict[w] = 1\n",
        "    # plot using frequencies        \n",
        "    my_cloud = WordCloud(background_color='white', stopwords=stop, mask=mask, random_state=0).generate_from_frequencies(dict) \n",
        "    \n",
        "    plt.subplot(1,2,target+1)\n",
        "    plt.imshow(my_cloud, interpolation='bilinear') \n",
        "    plt.axis(\"off\")\n",
        "\n",
        "plt.figure(figsize=(15,10))\n",
        "wc_words(0)\n",
        "plt.title('Spam')\n",
        "wc_words(1, reverse)\n",
        "plt.title('Quality')\n",
        "plt.show()"
      ],
      "metadata": {
        "id": "XlGoHCV1nZb6"
      },
      "execution_count": null,
      "outputs": []
    },
    {
      "cell_type": "code",
      "source": [
        "pd.options.display.max_colwidth = 200\n",
        "for t in tweets['Tweet'].sample(n=20, random_state=0):\n",
        "    print(t)\n",
        "pd.reset_option('max_colwidth')"
      ],
      "metadata": {
        "id": "2ue5OVI45Rle"
      },
      "execution_count": null,
      "outputs": []
    },
    {
      "cell_type": "code",
      "source": [
        "pd.reset_option('max_colwidth')\n",
        "tweets.drop('text_nostopwords', axis=1, inplace=True)\n",
        "tweets.head()"
      ],
      "metadata": {
        "id": "KSQnjsx-57cF"
      },
      "execution_count": null,
      "outputs": []
    },
    {
      "cell_type": "code",
      "source": [
        "from sklearn.model_selection import train_test_split\n",
        "X_train, X_val, y_train, y_val = train_test_split(tweets.drop(['following','followers','actions','is_retweet','location','Type'],axis=1), tweets[['Type']], test_size=0.2, stratify=tweets[['Type']], random_state=0)\n",
        "X_train_text = X_train['Tweet']\n",
        "X_val_text = X_val['Tweet']\n",
        "\n",
        "print('X_train shape: ', X_train.shape)\n",
        "print('X_val shape: ', X_val.shape)\n",
        "print('y_train shape: ', y_train.shape)\n",
        "print('y_val shape: ', y_val.shape)"
      ],
      "metadata": {
        "id": "pyFsTARy5-MT"
      },
      "execution_count": null,
      "outputs": []
    },
    {
      "cell_type": "code",
      "source": [
        "print('Train Class Proportion:\\n', y_train['Type'].value_counts() / len(y_train) * 100)\n",
        "print('\\nValidation Class Proportion:\\n', y_val['Type'].value_counts() / len(y_val) * 100)"
      ],
      "metadata": {
        "id": "3Oh9ywtfGmby"
      },
      "execution_count": null,
      "outputs": []
    },
    {
      "cell_type": "code",
      "source": [
        "from keras.preprocessing.text import Tokenizer\n",
        "from keras.preprocessing.sequence import pad_sequences\n",
        "\n",
        "tokenizer_1 = Tokenizer(num_words=5000, oov_token='<UNK>')\n",
        "tokenizer_1.fit_on_texts(X_train_text)"
      ],
      "metadata": {
        "id": "e0DWAmIvGoYe"
      },
      "execution_count": null,
      "outputs": []
    },
    {
      "cell_type": "code",
      "source": [
        "X_train_text = tokenizer_1.texts_to_sequences(X_train_text)\n",
        "X_val_text = tokenizer_1.texts_to_sequences(X_val_text)\n",
        "print(X_train_text[:10])\n",
        "print('')\n",
        "print(X_val_text[:10])"
      ],
      "metadata": {
        "id": "xsuI_UCXGo4M"
      },
      "execution_count": null,
      "outputs": []
    },
    {
      "cell_type": "code",
      "source": [
        "tokenizer_1.sequences_to_texts([X_train_text[1]])"
      ],
      "metadata": {
        "id": "v4N-2IzoHaN5"
      },
      "execution_count": null,
      "outputs": []
    },
    {
      "cell_type": "code",
      "source": [
        "print('Train Set Max Length:', max(len(text) for text in X_train_text))\n",
        "maxlen = 50\n",
        "\n",
        "X_train_text = pad_sequences(X_train_text, padding='post', maxlen=maxlen)\n",
        "X_val_text = pad_sequences(X_val_text, padding='post', maxlen=maxlen)\n",
        "\n",
        "print('X_train shape:', X_train_text.shape)\n",
        "print('X_train shape:', X_val_text.shape)"
      ],
      "metadata": {
        "id": "tCv3nUSFHaRq"
      },
      "execution_count": null,
      "outputs": []
    },
    {
      "cell_type": "code",
      "source": [
        "# Adding 1 because of reserved 0 index\n",
        "vocab_size = len(tokenizer_1.word_index) + 1\n",
        "\n",
        "# load the whole embedding into memory\n",
        "embeddings_index = dict()\n",
        "f = open('drive/My Drive/Colab Notebooks/data/Twitter Spam/glove.twitter.27B.200d.txt')\n",
        "\n",
        "for line in f:\n",
        "    values = line.split()\n",
        "    word = values[0]\n",
        "    coefs = np.asarray(values[1:], dtype='float32')\n",
        "    embeddings_index[word] = coefs\n",
        "\n",
        "f.close()\n",
        "print('Loaded %s word vectors.' % len(embeddings_index))"
      ],
      "metadata": {
        "id": "H8ivTW5LHaV-"
      },
      "execution_count": null,
      "outputs": []
    },
    {
      "cell_type": "code",
      "source": [
        "\n",
        "# create a weight matrix for words in training set\n",
        "embedding_matrix = np.zeros((vocab_size, 200))\n",
        "\n",
        "for word, i in tokenizer_1.word_index.items():\n",
        "    embedding_vector = embeddings_index.get(word)\n",
        "    if embedding_vector is not None:\n",
        "        embedding_matrix[i] = embedding_vector\n",
        "        \n",
        "print('Embedding Matrix Shape:', embedding_matrix.shape)"
      ],
      "metadata": {
        "id": "hwiAyBstHaZ8"
      },
      "execution_count": null,
      "outputs": []
    },
    {
      "cell_type": "code",
      "source": [
        "\n",
        "## Hyperparameters\n",
        "num_epochs=15\n",
        "dropout=0.2\n",
        "recurrent_dropout=0.2\n",
        "lr=0.0005\n",
        "batch_size=128\n",
        "class_weight = {0: y_train['Type'].value_counts()[1]/len(y_train), 1: y_train['Type'].value_counts()[0]/len(y_train)} "
      ],
      "metadata": {
        "id": "cpWTYX81Zxup"
      },
      "execution_count": null,
      "outputs": []
    },
    {
      "cell_type": "code",
      "source": [
        "from keras.models import Sequential\n",
        "from keras.layers.core import Activation, Dropout, Dense\n",
        "from keras.layers import Flatten, GlobalMaxPooling1D, LSTM\n",
        "from keras.layers.embeddings import Embedding\n",
        "from keras import optimizers\n",
        "from keras.callbacks import ModelCheckpoint\n",
        "\n",
        "lstm_model = Sequential()\n",
        "embedding_layer = Embedding(vocab_size, 200, weights=[embedding_matrix], input_length=maxlen, trainable=False)\n",
        "lstm_model.add(embedding_layer)\n",
        "lstm_model.add(LSTM(128, return_sequences=True, dropout=dropout, recurrent_dropout=recurrent_dropout)) # try adding dropout later\n",
        "lstm_model.add(LSTM(128))\n",
        "\n",
        "#model.add(Flatten())\n",
        "lstm_model.add(Dense(1, activation='sigmoid'))\n",
        "\n",
        "\n",
        "lstm_model.compile( loss='binary_crossentropy', metrics=['acc'])\n",
        "print(lstm_model.summary())"
      ],
      "metadata": {
        "id": "h7M7rXSeZxyr"
      },
      "execution_count": null,
      "outputs": []
    },
    {
      "cell_type": "code",
      "source": [
        "def plot_model_performance(history):   \n",
        "    plt.figure(figsize=(15,5))\n",
        "    plt.plot(range(num_epochs), history.history['acc'],'-o',\n",
        "             label='Train ACC',color='#ff7f0e')\n",
        "    plt.plot(range(num_epochs),history.history['val_acc'],'-o',\n",
        "             label='Val ACC',color='#1f77b4')\n",
        "    x = np.argmax( history.history['val_acc'] ); y = np.max( history.history['val_acc'] )\n",
        "    xdist = plt.xlim()[1] - plt.xlim()[0]; ydist = plt.ylim()[1] - plt.ylim()[0]\n",
        "    plt.scatter(x,y,s=200,color='#1f77b4')\n",
        "    plt.text(x-0.03*xdist,y-0.13*ydist,'max acc\\n%.2f'%y,size=14)\n",
        "    plt.ylabel('Accuracy',size=14); plt.xlabel('Epoch',size=14)\n",
        "    plt.legend(loc=(0.01,0.75))\n",
        "\n",
        "    plt2 = plt.gca().twinx()\n",
        "    plt2.plot(range(num_epochs),history.history['loss'],'-o',\n",
        "              label='Train Loss',color='#2ca02c')\n",
        "    plt2.plot(range(num_epochs),history.history['val_loss'],'-o',\n",
        "              label='Val Loss',color='#d62728')\n",
        "    x = np.argmin( history.history['val_loss'] ); y = np.min( history.history['val_loss'] )\n",
        "    ydist = plt.ylim()[1] - plt.ylim()[0]\n",
        "    plt.scatter(x,y,s=200,color='#d62728')\n",
        "    plt.text(x-0.03*xdist,y+0.05*ydist,'min loss',size=14)\n",
        "   # plt.ylim([-0.2, 2])\n",
        "    plt.ylabel('Loss',size=14)\n",
        "    plt.xticks(ticks=list(range(num_epochs)),labels=list(range(1, num_epochs+1)))\n",
        "    plt.legend(loc='lower left', bbox_to_anchor=(0.01, 0.1))\n",
        "    plt.show()"
      ],
      "metadata": {
        "id": "pbpcaibDh-sv"
      },
      "execution_count": null,
      "outputs": []
    },
    {
      "cell_type": "code",
      "source": [
        "checkpoint = ModelCheckpoint('lstm_model.h5', monitor='val_acc', save_best_only=True)\n",
        "history = lstm_model.fit(X_train_text, y_train, batch_size=batch_size, callbacks=[checkpoint], epochs=num_epochs, \n",
        "                         class_weight=class_weight, validation_data=(X_val_text, y_val), verbose=1)\n",
        "plot_model_performance(history)"
      ],
      "metadata": {
        "id": "h09tAF5-h-xp"
      },
      "execution_count": null,
      "outputs": []
    },
    {
      "cell_type": "code",
      "source": [
        "## Attention Class\n",
        "\n",
        "from keras.layers import Layer\n",
        "import keras.backend as K\n",
        "\n",
        "class attention(Layer):\n",
        "    def __init__(self,**kwargs):\n",
        "        super(attention,self).__init__(**kwargs)\n",
        "\n",
        "    def build(self,input_shape):\n",
        "        self.W=self.add_weight(name=\"att_weight\",shape=(input_shape[-1],1),initializer=\"normal\")\n",
        "        self.b=self.add_weight(name=\"att_bias\",shape=(input_shape[1],1),initializer=\"zeros\")        \n",
        "        super(attention, self).build(input_shape)\n",
        "\n",
        "    def call(self,x):\n",
        "        et=K.squeeze(K.tanh(K.dot(x,self.W)+self.b),axis=-1)\n",
        "        at=K.softmax(et)\n",
        "        at=K.expand_dims(at,axis=-1)\n",
        "        output=x*at\n",
        "        return K.sum(output,axis=1)\n",
        "\n",
        "    def compute_output_shape(self,input_shape):\n",
        "        return (input_shape[0],input_shape[-1])\n",
        "\n",
        "    def get_config(self):\n",
        "        return super(attention,self).get_config()"
      ],
      "metadata": {
        "id": "w1wocd58ndgg"
      },
      "execution_count": null,
      "outputs": []
    },
    {
      "cell_type": "code",
      "source": [
        "### Attention\n",
        "\n",
        "## Hyperparameters\n",
        "num_epochs=15\n",
        "dropout=0.3\n",
        "recurrent_dropout=0.3\n",
        "lr=0.0005\n",
        "batch_size=128\n",
        "\n",
        "import tensorflow as tf\n",
        "from keras.models import Sequential\n",
        "from keras import Model\n",
        "from keras.layers.core import Activation, Dropout, Dense\n",
        "from keras.layers import Flatten, Input, Layer, GlobalMaxPooling1D, LSTM, Bidirectional, Concatenate\n",
        "from keras.layers.embeddings import Embedding\n",
        "from keras import optimizers\n",
        "\n",
        "## Embedding Layer\n",
        "sequence_input = Input(shape=(maxlen,))\n",
        "embedded_sequences = Embedding(vocab_size, 200, weights=[embedding_matrix], trainable=False)(sequence_input)\n",
        "\n",
        "## RNN Layer\n",
        "lstm = Bidirectional(LSTM(128, return_sequences = True, dropout=dropout, recurrent_dropout=recurrent_dropout))(embedded_sequences)\n",
        "# Getting our LSTM outputs\n",
        "(lstm, forward_h, forward_c, backward_h, backward_c) = Bidirectional(LSTM(128, return_sequences=True, return_state=True))(lstm)\n",
        "\n",
        "## Attention Layer\n",
        "att_out=attention()(lstm)\n",
        "outputs=Dense(1,activation='sigmoid')(att_out)\n",
        "model_attn = Model(sequence_input, outputs)\n",
        "\n",
        "model_attn.compile(loss='binary_crossentropy', metrics=['acc'])\n",
        "\n",
        "print(model_attn.summary())"
      ],
      "metadata": {
        "id": "ZljhLA-TE4E5"
      },
      "execution_count": null,
      "outputs": []
    },
    {
      "cell_type": "code",
      "source": [
        "checkpoint = ModelCheckpoint('attn_model.h5', monitor='val_acc', save_best_only=True)\n",
        "history_attn = model_attn.fit(X_train_text, y_train, batch_size=batch_size, callbacks=[checkpoint], epochs=num_epochs, \n",
        "                              class_weight=class_weight, validation_data=(X_val_text, y_val), verbose=1)\n",
        "plot_model_performance(history_attn)"
      ],
      "metadata": {
        "id": "73eJiFlVE4I8"
      },
      "execution_count": null,
      "outputs": []
    },
    {
      "cell_type": "code",
      "source": [
        "# Hyperparameters\n",
        "maxlen = 160\n",
        "lr = 1e-5 # 1e-5 \n",
        "num_epochs = 3 # 5\n",
        "batch_size=16 # batch size cannot be too big for bert"
      ],
      "metadata": {
        "id": "uDBdwQAHE4T5"
      },
      "execution_count": null,
      "outputs": []
    },
    {
      "cell_type": "code",
      "source": [
        "pip install bert-tensorflow==1.0.1"
      ],
      "metadata": {
        "id": "i-zHiWC2OScC"
      },
      "execution_count": null,
      "outputs": []
    },
    {
      "cell_type": "code",
      "source": [
        "# We will use the official tokenization script created by the Google team\n",
        "!wget --quiet https://raw.githubusercontent.com/tensorflow/models/master/official/nlp/bert/tokenization.py\n",
        "\n",
        "import tensorflow as tf\n",
        "import tensorflow_hub as hub\n",
        "from tensorflow.keras.layers import Dense, Input\n",
        "from tensorflow.keras.optimizers import Adam\n",
        "from tensorflow.keras.models import Model\n",
        "from tensorflow.keras.callbacks import ModelCheckpoint\n",
        "from bert import tokenization\n",
        "\n",
        "\n",
        "def bert_encode(texts, tokenizer, max_len=512):\n",
        "    all_tokens = []\n",
        "    all_masks = []\n",
        "    all_segments = []\n",
        "    \n",
        "    for text in texts:\n",
        "        text = tokenizer.tokenize(text)\n",
        "            \n",
        "        text = text[:max_len-2]\n",
        "        input_sequence = [\"[CLS]\"] + text + [\"[SEP]\"]\n",
        "        pad_len = max_len - len(input_sequence)\n",
        "        \n",
        "        tokens = tokenizer.convert_tokens_to_ids(input_sequence)\n",
        "        tokens += [0] * pad_len\n",
        "        pad_masks = [1] * len(input_sequence) + [0] * pad_len\n",
        "        segment_ids = [0] * max_len\n",
        "        \n",
        "        all_tokens.append(tokens)\n",
        "        all_masks.append(pad_masks)\n",
        "        all_segments.append(segment_ids)\n",
        "    \n",
        "    return np.array(all_tokens), np.array(all_masks), np.array(all_segments)"
      ],
      "metadata": {
        "id": "VjV9v4J4Ns8F"
      },
      "execution_count": null,
      "outputs": []
    },
    {
      "cell_type": "code",
      "source": [
        "def build_model(bert_layer, max_len=512, lr=1e-5):\n",
        "    input_word_ids = Input(shape=(max_len,), dtype=tf.int32, name=\"input_word_ids\")\n",
        "    input_mask = Input(shape=(max_len,), dtype=tf.int32, name=\"input_mask\")\n",
        "    segment_ids = Input(shape=(max_len,), dtype=tf.int32, name=\"segment_ids\")\n",
        "\n",
        "    _, sequence_output = bert_layer([input_word_ids, input_mask, segment_ids])\n",
        "    clf_output = sequence_output[:, 0, :]\n",
        "    out = Dense(1, activation='sigmoid')(clf_output)\n",
        "    \n",
        "    model = Model(inputs=[input_word_ids, input_mask, segment_ids], outputs=out)\n",
        "    model.compile(Adam(lr=lr), loss='binary_crossentropy', metrics=['accuracy'])\n",
        "    \n",
        "    return model"
      ],
      "metadata": {
        "id": "Q6rHH0tpNtD7"
      },
      "execution_count": null,
      "outputs": []
    },
    {
      "cell_type": "code",
      "source": [
        "%%time\n",
        "module_url = \"https://tfhub.dev/tensorflow/bert_en_uncased_L-24_H-1024_A-16/1\"\n",
        "bert_layer = hub.KerasLayer(module_url, trainable=True)\n",
        "\n",
        "vocab_file = bert_layer.resolved_object.vocab_file.asset_path.numpy()\n",
        "do_lower_case = bert_layer.resolved_object.do_lower_case.numpy()\n",
        "tokenizer = tokenization.FullTokenizer(vocab_file, do_lower_case)"
      ],
      "metadata": {
        "id": "PCrZGOEkOZvV"
      },
      "execution_count": null,
      "outputs": []
    },
    {
      "cell_type": "code",
      "source": [
        "train_input = bert_encode(X_train.Tweet.values, tokenizer, max_len=maxlen)\n",
        "val_input = bert_encode(X_val.Tweet.values, tokenizer, max_len=maxlen)\n",
        "train_labels = y_train.target.values\n",
        "val_labels = y_val.target.values"
      ],
      "metadata": {
        "id": "QAMGutzUOZz9"
      },
      "execution_count": null,
      "outputs": []
    },
    {
      "cell_type": "code",
      "source": [
        "bert_model = build_model(bert_layer, max_len=maxlen, lr=lr)\n",
        "bert_model.summary()"
      ],
      "metadata": {
        "id": "PXFuMMvHOc9R"
      },
      "execution_count": null,
      "outputs": []
    },
    {
      "cell_type": "code",
      "source": [
        "checkpoint = ModelCheckpoint('bertmodel.h5', monitor='val_accuracy', save_best_only=True)\n",
        "\n",
        "bert_history = bert_model.fit(\n",
        "    train_input, train_labels,\n",
        "    validation_data=(val_input, val_labels),\n",
        "    epochs=num_epochs,\n",
        "    callbacks=[checkpoint], \n",
        "    #class_weight=class_weight,\n",
        "    batch_size=batch_size\n",
        ")"
      ],
      "metadata": {
        "id": "TTTvgdQzOgMW"
      },
      "execution_count": null,
      "outputs": []
    }
  ]
}